{
 "cells": [
  {
   "cell_type": "markdown",
   "id": "8a70dca0",
   "metadata": {},
   "source": [
    "### The presentation:\n",
    "https://docs.google.com/presentation/d/1ScuWx2j3J9nhekOpusS24Tnf6mHtOUb9XFd62Yho-ac/edit#slide=id.p"
   ]
  },
  {
   "cell_type": "markdown",
   "id": "f54c8799",
   "metadata": {},
   "source": [
    "### Context\n",
    "\n",
    "The number of restaurants in New York is increasing day by day. Lots of students and busy professionals rely on those restaurants due to their hectic lifestyles. Online food delivery service is a great option for them. It provides them with good food from their favorite restaurants. A food aggregator company FoodHub offers access to multiple restaurants through a single smartphone app.\n",
    "\n",
    "The app allows the restaurants to receive a direct online order from a customer. The app assigns a delivery person from the company to pick up the order after it is confirmed by the restaurant. The delivery person then uses the map to reach the restaurant and waits for the food package. Once the food package is handed over to the delivery person, he/she confirms the pick-up in the app and travels to the customer's location to deliver the food. The delivery person confirms the drop-off in the app after delivering the food package to the customer. The customer can rate the order in the app. The food aggregator earns money by collecting a fixed margin of the delivery order from the restaurants.\n",
    "\n",
    "### Objective\n",
    "\n",
    "The food aggregator company has stored the data of the different orders made by the registered customers in their online portal. They want to analyze the data to get a fair idea about the demand of different restaurants which will help them in enhancing their customer experience. Suppose you are hired as a Data Scientist in this company and the Data Science team has shared some of the key questions that need to be answered. Perform the data analysis to find answers to these questions that will help the company to improve the business."
   ]
  },
  {
   "cell_type": "markdown",
   "id": "10c58328-7f9b-4511-913b-74ec8adee2d9",
   "metadata": {},
   "source": [
    "## I. Data extraction"
   ]
  },
  {
   "cell_type": "code",
   "execution_count": 48,
   "id": "38f4ff7c",
   "metadata": {},
   "outputs": [],
   "source": [
    "import pandas as pd\n",
    "import seaborn as sns\n",
    "import matplotlib.pyplot as plt\n",
    "import numpy as np\n",
    "import warnings \n",
    "warnings.filterwarnings(\"ignore\")"
   ]
  },
  {
   "cell_type": "code",
   "execution_count": 49,
   "id": "df59a0e7",
   "metadata": {},
   "outputs": [
    {
     "data": {
      "text/html": [
       "<div>\n",
       "<style scoped>\n",
       "    .dataframe tbody tr th:only-of-type {\n",
       "        vertical-align: middle;\n",
       "    }\n",
       "\n",
       "    .dataframe tbody tr th {\n",
       "        vertical-align: top;\n",
       "    }\n",
       "\n",
       "    .dataframe thead th {\n",
       "        text-align: right;\n",
       "    }\n",
       "</style>\n",
       "<table border=\"1\" class=\"dataframe\">\n",
       "  <thead>\n",
       "    <tr style=\"text-align: right;\">\n",
       "      <th></th>\n",
       "      <th>order_id</th>\n",
       "      <th>customer_id</th>\n",
       "      <th>restaurant_name</th>\n",
       "      <th>cuisine_type</th>\n",
       "      <th>cost_of_the_order</th>\n",
       "      <th>day_of_the_week</th>\n",
       "      <th>rating</th>\n",
       "      <th>food_preparation_time</th>\n",
       "      <th>delivery_time</th>\n",
       "    </tr>\n",
       "  </thead>\n",
       "  <tbody>\n",
       "    <tr>\n",
       "      <th>0</th>\n",
       "      <td>1477147</td>\n",
       "      <td>337525</td>\n",
       "      <td>Hangawi</td>\n",
       "      <td>Korean</td>\n",
       "      <td>30.75</td>\n",
       "      <td>Weekend</td>\n",
       "      <td>Not given</td>\n",
       "      <td>25</td>\n",
       "      <td>20</td>\n",
       "    </tr>\n",
       "    <tr>\n",
       "      <th>1</th>\n",
       "      <td>1477685</td>\n",
       "      <td>358141</td>\n",
       "      <td>Blue Ribbon Sushi Izakaya</td>\n",
       "      <td>Japanese</td>\n",
       "      <td>12.08</td>\n",
       "      <td>Weekend</td>\n",
       "      <td>Not given</td>\n",
       "      <td>25</td>\n",
       "      <td>23</td>\n",
       "    </tr>\n",
       "    <tr>\n",
       "      <th>2</th>\n",
       "      <td>1477070</td>\n",
       "      <td>66393</td>\n",
       "      <td>Cafe Habana</td>\n",
       "      <td>Mexican</td>\n",
       "      <td>12.23</td>\n",
       "      <td>Weekday</td>\n",
       "      <td>5</td>\n",
       "      <td>23</td>\n",
       "      <td>28</td>\n",
       "    </tr>\n",
       "    <tr>\n",
       "      <th>3</th>\n",
       "      <td>1477334</td>\n",
       "      <td>106968</td>\n",
       "      <td>Blue Ribbon Fried Chicken</td>\n",
       "      <td>American</td>\n",
       "      <td>29.2</td>\n",
       "      <td>Weekend</td>\n",
       "      <td>3</td>\n",
       "      <td>25</td>\n",
       "      <td>15</td>\n",
       "    </tr>\n",
       "    <tr>\n",
       "      <th>4</th>\n",
       "      <td>1478249</td>\n",
       "      <td>76942</td>\n",
       "      <td>Dirty Bird to Go</td>\n",
       "      <td>American</td>\n",
       "      <td>11.59</td>\n",
       "      <td>Weekday</td>\n",
       "      <td>4</td>\n",
       "      <td>25</td>\n",
       "      <td>24</td>\n",
       "    </tr>\n",
       "  </tbody>\n",
       "</table>\n",
       "</div>"
      ],
      "text/plain": [
       "   order_id  customer_id            restaurant_name cuisine_type  \\\n",
       "0   1477147       337525                    Hangawi       Korean   \n",
       "1   1477685       358141  Blue Ribbon Sushi Izakaya     Japanese   \n",
       "2   1477070        66393                Cafe Habana      Mexican   \n",
       "3   1477334       106968  Blue Ribbon Fried Chicken     American   \n",
       "4   1478249        76942           Dirty Bird to Go     American   \n",
       "\n",
       "  cost_of_the_order day_of_the_week     rating  food_preparation_time  \\\n",
       "0             30.75         Weekend  Not given                     25   \n",
       "1             12.08         Weekend  Not given                     25   \n",
       "2             12.23         Weekday          5                     23   \n",
       "3              29.2         Weekend          3                     25   \n",
       "4             11.59         Weekday          4                     25   \n",
       "\n",
       "   delivery_time  \n",
       "0             20  \n",
       "1             23  \n",
       "2             28  \n",
       "3             15  \n",
       "4             24  "
      ]
     },
     "execution_count": 49,
     "metadata": {},
     "output_type": "execute_result"
    }
   ],
   "source": [
    "df2 = pd.read_excel(r\"C:\\Users\\lily\\Desktop\\IT alapok privát\\PRIV DATA SC 1204\\FoodHub-20231204T083224Z-001\\FoodHub\\foodhub_order_v2.xlsx\")\n",
    "df2.head()"
   ]
  },
  {
   "cell_type": "code",
   "execution_count": 50,
   "id": "b95b2787-6fb7-4205-af34-66d84222164a",
   "metadata": {},
   "outputs": [
    {
     "name": "stdout",
     "output_type": "stream",
     "text": [
      "<class 'pandas.core.frame.DataFrame'>\n",
      "RangeIndex: 1898 entries, 0 to 1897\n",
      "Data columns (total 9 columns):\n",
      " #   Column                 Non-Null Count  Dtype \n",
      "---  ------                 --------------  ----- \n",
      " 0   order_id               1898 non-null   int64 \n",
      " 1   customer_id            1898 non-null   int64 \n",
      " 2   restaurant_name        1898 non-null   object\n",
      " 3   cuisine_type           1898 non-null   object\n",
      " 4   cost_of_the_order      1898 non-null   object\n",
      " 5   day_of_the_week        1898 non-null   object\n",
      " 6   rating                 1898 non-null   object\n",
      " 7   food_preparation_time  1898 non-null   int64 \n",
      " 8   delivery_time          1898 non-null   int64 \n",
      "dtypes: int64(4), object(5)\n",
      "memory usage: 133.6+ KB\n"
     ]
    }
   ],
   "source": [
    "df2.info()"
   ]
  },
  {
   "cell_type": "code",
   "execution_count": 51,
   "id": "fcbc11ec",
   "metadata": {},
   "outputs": [
    {
     "data": {
      "text/html": [
       "<div>\n",
       "<style scoped>\n",
       "    .dataframe tbody tr th:only-of-type {\n",
       "        vertical-align: middle;\n",
       "    }\n",
       "\n",
       "    .dataframe tbody tr th {\n",
       "        vertical-align: top;\n",
       "    }\n",
       "\n",
       "    .dataframe thead th {\n",
       "        text-align: right;\n",
       "    }\n",
       "</style>\n",
       "<table border=\"1\" class=\"dataframe\">\n",
       "  <thead>\n",
       "    <tr style=\"text-align: right;\">\n",
       "      <th></th>\n",
       "      <th>order_id</th>\n",
       "      <th>customer_id</th>\n",
       "      <th>food_preparation_time</th>\n",
       "      <th>delivery_time</th>\n",
       "    </tr>\n",
       "  </thead>\n",
       "  <tbody>\n",
       "    <tr>\n",
       "      <th>count</th>\n",
       "      <td>1.898000e+03</td>\n",
       "      <td>1898.000000</td>\n",
       "      <td>1898.000000</td>\n",
       "      <td>1898.000000</td>\n",
       "    </tr>\n",
       "    <tr>\n",
       "      <th>mean</th>\n",
       "      <td>1.477496e+06</td>\n",
       "      <td>171168.478398</td>\n",
       "      <td>27.371970</td>\n",
       "      <td>24.161749</td>\n",
       "    </tr>\n",
       "    <tr>\n",
       "      <th>std</th>\n",
       "      <td>5.480497e+02</td>\n",
       "      <td>113698.139743</td>\n",
       "      <td>4.632481</td>\n",
       "      <td>4.972637</td>\n",
       "    </tr>\n",
       "    <tr>\n",
       "      <th>min</th>\n",
       "      <td>1.476547e+06</td>\n",
       "      <td>1311.000000</td>\n",
       "      <td>20.000000</td>\n",
       "      <td>15.000000</td>\n",
       "    </tr>\n",
       "    <tr>\n",
       "      <th>25%</th>\n",
       "      <td>1.477021e+06</td>\n",
       "      <td>77787.750000</td>\n",
       "      <td>23.000000</td>\n",
       "      <td>20.000000</td>\n",
       "    </tr>\n",
       "    <tr>\n",
       "      <th>50%</th>\n",
       "      <td>1.477496e+06</td>\n",
       "      <td>128600.000000</td>\n",
       "      <td>27.000000</td>\n",
       "      <td>25.000000</td>\n",
       "    </tr>\n",
       "    <tr>\n",
       "      <th>75%</th>\n",
       "      <td>1.477970e+06</td>\n",
       "      <td>270525.000000</td>\n",
       "      <td>31.000000</td>\n",
       "      <td>28.000000</td>\n",
       "    </tr>\n",
       "    <tr>\n",
       "      <th>max</th>\n",
       "      <td>1.478444e+06</td>\n",
       "      <td>405334.000000</td>\n",
       "      <td>35.000000</td>\n",
       "      <td>33.000000</td>\n",
       "    </tr>\n",
       "  </tbody>\n",
       "</table>\n",
       "</div>"
      ],
      "text/plain": [
       "           order_id    customer_id  food_preparation_time  delivery_time\n",
       "count  1.898000e+03    1898.000000            1898.000000    1898.000000\n",
       "mean   1.477496e+06  171168.478398              27.371970      24.161749\n",
       "std    5.480497e+02  113698.139743               4.632481       4.972637\n",
       "min    1.476547e+06    1311.000000              20.000000      15.000000\n",
       "25%    1.477021e+06   77787.750000              23.000000      20.000000\n",
       "50%    1.477496e+06  128600.000000              27.000000      25.000000\n",
       "75%    1.477970e+06  270525.000000              31.000000      28.000000\n",
       "max    1.478444e+06  405334.000000              35.000000      33.000000"
      ]
     },
     "execution_count": 51,
     "metadata": {},
     "output_type": "execute_result"
    }
   ],
   "source": [
    "df2.describe()"
   ]
  },
  {
   "cell_type": "code",
   "execution_count": 52,
   "id": "ad4025cc",
   "metadata": {},
   "outputs": [
    {
     "data": {
      "text/plain": [
       "order_id                 0\n",
       "customer_id              0\n",
       "restaurant_name          0\n",
       "cuisine_type             0\n",
       "cost_of_the_order        0\n",
       "day_of_the_week          0\n",
       "rating                   0\n",
       "food_preparation_time    0\n",
       "delivery_time            0\n",
       "dtype: int64"
      ]
     },
     "execution_count": 52,
     "metadata": {},
     "output_type": "execute_result"
    }
   ],
   "source": [
    "df2.isnull().sum()"
   ]
  },
  {
   "cell_type": "markdown",
   "id": "9db3ea3a",
   "metadata": {},
   "source": [
    "## II. Exploratory data analysis"
   ]
  },
  {
   "cell_type": "markdown",
   "id": "f9614f25-2e96-4b2c-bae4-8188201bd6c3",
   "metadata": {},
   "source": [
    "#### Delivery"
   ]
  },
  {
   "cell_type": "code",
   "execution_count": 53,
   "id": "73d0b114-0f39-4597-b09d-2c01a773c18a",
   "metadata": {},
   "outputs": [
    {
     "data": {
      "text/plain": [
       "count    1898.000000\n",
       "mean       27.371970\n",
       "std         4.632481\n",
       "min        20.000000\n",
       "25%        23.000000\n",
       "50%        27.000000\n",
       "75%        31.000000\n",
       "max        35.000000\n",
       "Name: food_preparation_time, dtype: float64"
      ]
     },
     "execution_count": 53,
     "metadata": {},
     "output_type": "execute_result"
    }
   ],
   "source": [
    "df2['food_preparation_time'].describe()"
   ]
  },
  {
   "cell_type": "code",
   "execution_count": 54,
   "id": "43ea688a",
   "metadata": {},
   "outputs": [
    {
     "data": {
      "text/plain": [
       "count    1898.000000\n",
       "mean       24.161749\n",
       "std         4.972637\n",
       "min        15.000000\n",
       "25%        20.000000\n",
       "50%        25.000000\n",
       "75%        28.000000\n",
       "max        33.000000\n",
       "Name: delivery_time, dtype: float64"
      ]
     },
     "execution_count": 54,
     "metadata": {},
     "output_type": "execute_result"
    }
   ],
   "source": [
    "df2['delivery_time'].describe()"
   ]
  },
  {
   "cell_type": "markdown",
   "id": "de7eb73e",
   "metadata": {},
   "source": [
    "##### Outliers for food prep & delivery time"
   ]
  },
  {
   "cell_type": "code",
   "execution_count": 55,
   "id": "c4949bde",
   "metadata": {},
   "outputs": [
    {
     "data": {
      "text/plain": [
       "<AxesSubplot: >"
      ]
     },
     "execution_count": 55,
     "metadata": {},
     "output_type": "execute_result"
    },
    {
     "data": {
      "image/png": "[encoded data removed]",
      "text/plain": [
       "<Figure size 400x400 with 1 Axes>"
      ]
     },
     "metadata": {},
     "output_type": "display_data"
    }
   ],
   "source": [
    "sns.set(rc={\"figure.figsize\":(4, 4)}) \n",
    "sns.boxplot(data=df2['food_preparation_time'])"
   ]
  },
  {
   "cell_type": "code",
   "execution_count": 56,
   "id": "b9aa4966",
   "metadata": {},
   "outputs": [
    {
     "data": {
      "text/plain": [
       "<AxesSubplot: >"
      ]
     },
     "execution_count": 56,
     "metadata": {},
     "output_type": "execute_result"
    },
    {
     "data": {
      "image/png": "[encoded data removed]",
      "text/plain": [
       "<Figure size 400x400 with 1 Axes>"
      ]
     },
     "metadata": {},
     "output_type": "display_data"
    }
   ],
   "source": [
    "sns.boxplot(data=df2['delivery_time'])"
   ]
  },
  {
   "cell_type": "markdown",
   "id": "e0fea630",
   "metadata": {},
   "source": [
    "##### Weekday & weekend ratio"
   ]
  },
  {
   "cell_type": "code",
   "execution_count": 57,
   "id": "3e18ffdf",
   "metadata": {},
   "outputs": [
    {
     "data": {
      "text/plain": [
       "Weekend    1351\n",
       "Weekday     547\n",
       "Name: day_of_the_week, dtype: int64"
      ]
     },
     "execution_count": 57,
     "metadata": {},
     "output_type": "execute_result"
    }
   ],
   "source": [
    "df2['day_of_the_week'].value_counts()"
   ]
  },
  {
   "cell_type": "code",
   "execution_count": 58,
   "id": "27dfe241",
   "metadata": {},
   "outputs": [
    {
     "data": {
      "image/png": "[encoded data removed]",
      "text/plain": [
       "<Figure size 400x400 with 1 Axes>"
      ]
     },
     "metadata": {},
     "output_type": "display_data"
    }
   ],
   "source": [
    "ax = sns.countplot(data = df2, x='day_of_the_week', color='powderblue')\n",
    "\n",
    "total = df2['day_of_the_week'].count()\n",
    "\n",
    "ax.bar_label(ax.containers[0], labels=[f'{(x/total)*100:0.1f}%' for x in df2['day_of_the_week'].value_counts()], fontsize=10)\n",
    "\n",
    "ax.set_xticklabels(ax.get_xticklabels(), rotation=45);\n",
    "ax.set_xlabel('Day of the week', fontdict={'size':10})\n",
    "ax.set_ylabel('Number of orders', fontdict={'size': 10})\n",
    "\n",
    "plt.show()"
   ]
  },
  {
   "cell_type": "markdown",
   "id": "dcbf2fdc",
   "metadata": {},
   "source": [
    "##### Feature egnineering"
   ]
  },
  {
   "cell_type": "code",
   "execution_count": 59,
   "id": "d3e76547",
   "metadata": {},
   "outputs": [],
   "source": [
    "df2['total_delivery_time'] = df2['food_preparation_time'] + df2['delivery_time']"
   ]
  },
  {
   "cell_type": "code",
   "execution_count": 60,
   "id": "75650a2e",
   "metadata": {},
   "outputs": [
    {
     "data": {
      "text/plain": [
       "Index(['order_id', 'customer_id', 'restaurant_name', 'cuisine_type',\n",
       "       'cost_of_the_order', 'day_of_the_week', 'rating',\n",
       "       'food_preparation_time', 'delivery_time', 'total_delivery_time'],\n",
       "      dtype='object')"
      ]
     },
     "execution_count": 60,
     "metadata": {},
     "output_type": "execute_result"
    }
   ],
   "source": [
    "df2.columns"
   ]
  },
  {
   "cell_type": "code",
   "execution_count": 61,
   "id": "abbfd81d",
   "metadata": {},
   "outputs": [],
   "source": [
    "new_cols = ['order_id', 'customer_id', 'restaurant_name', 'cuisine_type',\n",
    "       'day_of_the_week', 'rating', 'cost_of_the_order',\n",
    "       'food_preparation_time', 'delivery_time','total_delivery_time']\n"
   ]
  },
  {
   "cell_type": "code",
   "execution_count": 62,
   "id": "b02d565c",
   "metadata": {},
   "outputs": [],
   "source": [
    "df2 = df2[new_cols]"
   ]
  },
  {
   "cell_type": "code",
   "execution_count": 63,
   "id": "cfcb0114",
   "metadata": {},
   "outputs": [],
   "source": [
    "def total_delivery(time):\n",
    "    if time > 60:\n",
    "        return '60 - '\n",
    "    elif time > 30 and time < 60:\n",
    "        return '30 - 60'\n",
    "    else:\n",
    "        return '0 - 30'"
   ]
  },
  {
   "cell_type": "code",
   "execution_count": 64,
   "id": "472153cf",
   "metadata": {},
   "outputs": [],
   "source": [
    "df3 = df2.copy()"
   ]
  },
  {
   "cell_type": "code",
   "execution_count": 65,
   "id": "7953474e",
   "metadata": {},
   "outputs": [],
   "source": [
    "df3['delivery_data'] = df3['total_delivery_time'].apply(total_delivery)"
   ]
  },
  {
   "cell_type": "code",
   "execution_count": 66,
   "id": "bcac95e2-270c-417f-be1c-3ea94acfe993",
   "metadata": {},
   "outputs": [],
   "source": [
    "counts = df3['delivery_data'].value_counts()"
   ]
  },
  {
   "cell_type": "code",
   "execution_count": 67,
   "id": "1119a219-9676-4aa1-a52d-3ef6502e37ca",
   "metadata": {},
   "outputs": [],
   "source": [
    "categories = ['0 - 30', '30 - 60', '60 - ']\n",
    "counts = counts.reindex(categories)"
   ]
  },
  {
   "cell_type": "code",
   "execution_count": 68,
   "id": "e91464c0-36ab-44e4-a461-3f57279e9549",
   "metadata": {},
   "outputs": [
    {
     "data": {
      "image/png": "[encoded data removed]",
      "text/plain": [
       "<Figure size 300x300 with 1 Axes>"
      ]
     },
     "metadata": {},
     "output_type": "display_data"
    }
   ],
   "source": [
    "plt.figure(figsize=(3,3))\n",
    "counts.plot(kind='bar', color='pink', edgecolor='darkblue', width=0.5)\n",
    "plt.xlabel('Delivery Time Range')\n",
    "plt.ylabel('Number of Orders')\n",
    "plt.title('Distribution of Delivery Times')\n",
    "plt.xticks(rotation=45)\n",
    "plt.show()"
   ]
  },
  {
   "cell_type": "markdown",
   "id": "8a21a552",
   "metadata": {},
   "source": [
    "#### Cuisine"
   ]
  },
  {
   "cell_type": "code",
   "execution_count": 69,
   "id": "16648d09",
   "metadata": {},
   "outputs": [
    {
     "data": {
      "image/png": "[encoded data removed]",
      "text/plain": [
       "<Figure size 300x300 with 1 Axes>"
      ]
     },
     "metadata": {},
     "output_type": "display_data"
    }
   ],
   "source": [
    "sns.set(rc={\"figure.figsize\":(3, 3)}) \n",
    "\n",
    "ax = sns.countplot(data=df3, y='cuisine_type', color='orchid', order=df3['cuisine_type'].value_counts(ascending=False).index)\n",
    "ax.set_xticklabels(ax.get_xticklabels(), rotation=45, fontsize=10);\n",
    "\n",
    "\n",
    "ax.set_title('Popularity in cuisine types', fontdict={'size': 20, 'weight': 'bold'})\n",
    "\n",
    "ax.set_xlabel('Number of orders', fontdict={'size': 10})\n",
    "ax.set_ylabel('Type of cuisine', fontdict={'size': 10})\n",
    "\n",
    "total = df2['cuisine_type'].count()\n",
    "\n",
    "ax.bar_label(ax.containers[0], labels=[f'{(x/total)*100:0.1f}%' for x in df2['cuisine_type'].value_counts()], fontsize=10)\n",
    "\n",
    "plt.show()"
   ]
  },
  {
   "cell_type": "code",
   "execution_count": 70,
   "id": "fc387859",
   "metadata": {},
   "outputs": [
    {
     "name": "stdout",
     "output_type": "stream",
     "text": [
      "<class 'pandas.core.series.Series'>\n",
      "RangeIndex: 1898 entries, 0 to 1897\n",
      "Series name: cost_of_the_order\n",
      "Non-Null Count  Dtype \n",
      "--------------  ----- \n",
      "1898 non-null   object\n",
      "dtypes: object(1)\n",
      "memory usage: 15.0+ KB\n"
     ]
    }
   ],
   "source": [
    "df3['cost_of_the_order'].info()"
   ]
  },
  {
   "cell_type": "code",
   "execution_count": 71,
   "id": "e93010f3",
   "metadata": {},
   "outputs": [],
   "source": [
    "df3['cost_of_the_order'] = pd.to_numeric(df3['cost_of_the_order'], errors='coerce')"
   ]
  },
  {
   "cell_type": "code",
   "execution_count": 72,
   "id": "87607bd8",
   "metadata": {},
   "outputs": [
    {
     "data": {
      "text/plain": [
       "cuisine_type\n",
       "Vietnamese        12.882857\n",
       "Korean            14.001538\n",
       "Mediterranean     15.474783\n",
       "Japanese          16.304755\n",
       "Chinese           16.305209\n",
       "American          16.319829\n",
       "Italian           16.426768\n",
       "Indian            16.919726\n",
       "Mexican           17.038553\n",
       "Middle Eastern    18.820612\n",
       "Spanish           18.994167\n",
       "Thai              19.207895\n",
       "Southern          19.300588\n",
       "French            19.793889\n",
       "Name: cost_of_the_order, dtype: float64"
      ]
     },
     "execution_count": 72,
     "metadata": {},
     "output_type": "execute_result"
    }
   ],
   "source": [
    "df3.groupby('cuisine_type')['cost_of_the_order'].mean().sort_values(ascending=True)"
   ]
  },
  {
   "cell_type": "code",
   "execution_count": 73,
   "id": "9fae62c5",
   "metadata": {},
   "outputs": [],
   "source": [
    "avg_order = df3.groupby('cuisine_type')['cost_of_the_order'].mean()\\\n",
    ".reset_index()\\\n",
    ".rename(columns = {'cost_of_the_order':'Average_cost_of_oder'})\\\n",
    ".sort_values(by ='Average_cost_of_oder',ascending=False)\\\n",
    ".reset_index(drop=True)"
   ]
  },
  {
   "cell_type": "code",
   "execution_count": 74,
   "id": "b70405c8",
   "metadata": {},
   "outputs": [
    {
     "data": {
      "text/html": [
       "<div>\n",
       "<style scoped>\n",
       "    .dataframe tbody tr th:only-of-type {\n",
       "        vertical-align: middle;\n",
       "    }\n",
       "\n",
       "    .dataframe tbody tr th {\n",
       "        vertical-align: top;\n",
       "    }\n",
       "\n",
       "    .dataframe thead th {\n",
       "        text-align: right;\n",
       "    }\n",
       "</style>\n",
       "<table border=\"1\" class=\"dataframe\">\n",
       "  <thead>\n",
       "    <tr style=\"text-align: right;\">\n",
       "      <th></th>\n",
       "      <th>cuisine_type</th>\n",
       "      <th>Average_cost_of_oder</th>\n",
       "    </tr>\n",
       "  </thead>\n",
       "  <tbody>\n",
       "    <tr>\n",
       "      <th>0</th>\n",
       "      <td>French</td>\n",
       "      <td>19.793889</td>\n",
       "    </tr>\n",
       "    <tr>\n",
       "      <th>1</th>\n",
       "      <td>Southern</td>\n",
       "      <td>19.300588</td>\n",
       "    </tr>\n",
       "    <tr>\n",
       "      <th>2</th>\n",
       "      <td>Thai</td>\n",
       "      <td>19.207895</td>\n",
       "    </tr>\n",
       "    <tr>\n",
       "      <th>3</th>\n",
       "      <td>Spanish</td>\n",
       "      <td>18.994167</td>\n",
       "    </tr>\n",
       "    <tr>\n",
       "      <th>4</th>\n",
       "      <td>Middle Eastern</td>\n",
       "      <td>18.820612</td>\n",
       "    </tr>\n",
       "    <tr>\n",
       "      <th>5</th>\n",
       "      <td>Mexican</td>\n",
       "      <td>17.038553</td>\n",
       "    </tr>\n",
       "    <tr>\n",
       "      <th>6</th>\n",
       "      <td>Indian</td>\n",
       "      <td>16.919726</td>\n",
       "    </tr>\n",
       "    <tr>\n",
       "      <th>7</th>\n",
       "      <td>Italian</td>\n",
       "      <td>16.426768</td>\n",
       "    </tr>\n",
       "    <tr>\n",
       "      <th>8</th>\n",
       "      <td>American</td>\n",
       "      <td>16.319829</td>\n",
       "    </tr>\n",
       "    <tr>\n",
       "      <th>9</th>\n",
       "      <td>Chinese</td>\n",
       "      <td>16.305209</td>\n",
       "    </tr>\n",
       "    <tr>\n",
       "      <th>10</th>\n",
       "      <td>Japanese</td>\n",
       "      <td>16.304755</td>\n",
       "    </tr>\n",
       "    <tr>\n",
       "      <th>11</th>\n",
       "      <td>Mediterranean</td>\n",
       "      <td>15.474783</td>\n",
       "    </tr>\n",
       "    <tr>\n",
       "      <th>12</th>\n",
       "      <td>Korean</td>\n",
       "      <td>14.001538</td>\n",
       "    </tr>\n",
       "    <tr>\n",
       "      <th>13</th>\n",
       "      <td>Vietnamese</td>\n",
       "      <td>12.882857</td>\n",
       "    </tr>\n",
       "  </tbody>\n",
       "</table>\n",
       "</div>"
      ],
      "text/plain": [
       "      cuisine_type  Average_cost_of_oder\n",
       "0           French             19.793889\n",
       "1         Southern             19.300588\n",
       "2             Thai             19.207895\n",
       "3          Spanish             18.994167\n",
       "4   Middle Eastern             18.820612\n",
       "5          Mexican             17.038553\n",
       "6           Indian             16.919726\n",
       "7          Italian             16.426768\n",
       "8         American             16.319829\n",
       "9          Chinese             16.305209\n",
       "10        Japanese             16.304755\n",
       "11   Mediterranean             15.474783\n",
       "12          Korean             14.001538\n",
       "13      Vietnamese             12.882857"
      ]
     },
     "execution_count": 74,
     "metadata": {},
     "output_type": "execute_result"
    }
   ],
   "source": [
    "avg_order"
   ]
  },
  {
   "cell_type": "code",
   "execution_count": 75,
   "id": "cba0f6ad",
   "metadata": {},
   "outputs": [
    {
     "data": {
      "image/png": "[encoded data removed]",
      "text/plain": [
       "<Figure size 800x400 with 1 Axes>"
      ]
     },
     "metadata": {},
     "output_type": "display_data"
    }
   ],
   "source": [
    "sns.set(rc={\"figure.figsize\":(8,4)})\n",
    "ax= sns.barplot(data=avg_order, y='Average_cost_of_oder',\n",
    "                x='cuisine_type',\n",
    "                color='mediumaquamarine',width=0.6)\n",
    "\n",
    "\n",
    "ax.set_title('Average cost per cuisine', fontdict={'size': 15, 'weight': 'bold'})\n",
    "ax.set_xticklabels(ax.get_xticklabels(), rotation=45);\n",
    "ax.set_xlabel('Cuisine type', fontdict={'size':10})\n",
    "ax.set_ylabel('Average cost of oder', fontdict={'size': 10})\n",
    "\n",
    "plt.show()"
   ]
  },
  {
   "cell_type": "markdown",
   "id": "42aca9a0",
   "metadata": {},
   "source": [
    "#### Orders"
   ]
  },
  {
   "cell_type": "code",
   "execution_count": 76,
   "id": "1e8220de",
   "metadata": {},
   "outputs": [
    {
     "data": {
      "text/plain": [
       "day_of_the_week\n",
       "Weekday    55.552102\n",
       "Weekend    49.906736\n",
       "Name: total_delivery_time, dtype: float64"
      ]
     },
     "execution_count": 76,
     "metadata": {},
     "output_type": "execute_result"
    }
   ],
   "source": [
    "df3.groupby('day_of_the_week')['total_delivery_time'].mean()"
   ]
  },
  {
   "cell_type": "code",
   "execution_count": 77,
   "id": "83df9ecb",
   "metadata": {},
   "outputs": [
    {
     "data": {
      "text/plain": [
       "customer_id\n",
       "1311       1\n",
       "175327     1\n",
       "176234     1\n",
       "178172     1\n",
       "178846     1\n",
       "          ..\n",
       "65009      7\n",
       "250494     8\n",
       "83287      9\n",
       "47440     10\n",
       "52832     13\n",
       "Name: order_id, Length: 1200, dtype: int64"
      ]
     },
     "execution_count": 77,
     "metadata": {},
     "output_type": "execute_result"
    }
   ],
   "source": [
    "df3.groupby('customer_id')['order_id'].count().sort_values()"
   ]
  },
  {
   "cell_type": "code",
   "execution_count": 78,
   "id": "b045e419",
   "metadata": {},
   "outputs": [],
   "source": [
    "df3['customer_orders_freq'] = df3['customer_id'].map(df3['customer_id'].value_counts())"
   ]
  },
  {
   "cell_type": "code",
   "execution_count": 79,
   "id": "31a8759a",
   "metadata": {},
   "outputs": [],
   "source": [
    "def order_freq(freq):\n",
    "    if freq > 3:\n",
    "        return 'Above 3 orders placed'\n",
    "    elif freq < 3 and freq > 1:\n",
    "        return 'Between 1 & 3 orders placed'\n",
    "    else:\n",
    "        return 'One-time customer'"
   ]
  },
  {
   "cell_type": "code",
   "execution_count": 80,
   "id": "fe006cb0",
   "metadata": {},
   "outputs": [],
   "source": [
    "df3['customer_orders_freq_categories'] = df3['customer_orders_freq'].apply(order_freq)"
   ]
  },
  {
   "cell_type": "code",
   "execution_count": 81,
   "id": "56114856",
   "metadata": {},
   "outputs": [
    {
     "data": {
      "text/html": [
       "<div>\n",
       "<style scoped>\n",
       "    .dataframe tbody tr th:only-of-type {\n",
       "        vertical-align: middle;\n",
       "    }\n",
       "\n",
       "    .dataframe tbody tr th {\n",
       "        vertical-align: top;\n",
       "    }\n",
       "\n",
       "    .dataframe thead th {\n",
       "        text-align: right;\n",
       "    }\n",
       "</style>\n",
       "<table border=\"1\" class=\"dataframe\">\n",
       "  <thead>\n",
       "    <tr style=\"text-align: right;\">\n",
       "      <th></th>\n",
       "      <th>order_id</th>\n",
       "      <th>customer_id</th>\n",
       "      <th>restaurant_name</th>\n",
       "      <th>cuisine_type</th>\n",
       "      <th>day_of_the_week</th>\n",
       "      <th>rating</th>\n",
       "      <th>cost_of_the_order</th>\n",
       "      <th>food_preparation_time</th>\n",
       "      <th>delivery_time</th>\n",
       "      <th>total_delivery_time</th>\n",
       "      <th>delivery_data</th>\n",
       "      <th>customer_orders_freq</th>\n",
       "      <th>customer_orders_freq_categories</th>\n",
       "    </tr>\n",
       "  </thead>\n",
       "  <tbody>\n",
       "    <tr>\n",
       "      <th>0</th>\n",
       "      <td>1477147</td>\n",
       "      <td>337525</td>\n",
       "      <td>Hangawi</td>\n",
       "      <td>Korean</td>\n",
       "      <td>Weekend</td>\n",
       "      <td>Not given</td>\n",
       "      <td>30.75</td>\n",
       "      <td>25</td>\n",
       "      <td>20</td>\n",
       "      <td>45</td>\n",
       "      <td>30 - 60</td>\n",
       "      <td>2</td>\n",
       "      <td>Between 1 &amp; 3 orders placed</td>\n",
       "    </tr>\n",
       "    <tr>\n",
       "      <th>1</th>\n",
       "      <td>1477685</td>\n",
       "      <td>358141</td>\n",
       "      <td>Blue Ribbon Sushi Izakaya</td>\n",
       "      <td>Japanese</td>\n",
       "      <td>Weekend</td>\n",
       "      <td>Not given</td>\n",
       "      <td>12.08</td>\n",
       "      <td>25</td>\n",
       "      <td>23</td>\n",
       "      <td>48</td>\n",
       "      <td>30 - 60</td>\n",
       "      <td>1</td>\n",
       "      <td>One-time customer</td>\n",
       "    </tr>\n",
       "    <tr>\n",
       "      <th>2</th>\n",
       "      <td>1477070</td>\n",
       "      <td>66393</td>\n",
       "      <td>Cafe Habana</td>\n",
       "      <td>Mexican</td>\n",
       "      <td>Weekday</td>\n",
       "      <td>5</td>\n",
       "      <td>12.23</td>\n",
       "      <td>23</td>\n",
       "      <td>28</td>\n",
       "      <td>51</td>\n",
       "      <td>30 - 60</td>\n",
       "      <td>1</td>\n",
       "      <td>One-time customer</td>\n",
       "    </tr>\n",
       "    <tr>\n",
       "      <th>3</th>\n",
       "      <td>1477334</td>\n",
       "      <td>106968</td>\n",
       "      <td>Blue Ribbon Fried Chicken</td>\n",
       "      <td>American</td>\n",
       "      <td>Weekend</td>\n",
       "      <td>3</td>\n",
       "      <td>29.20</td>\n",
       "      <td>25</td>\n",
       "      <td>15</td>\n",
       "      <td>40</td>\n",
       "      <td>30 - 60</td>\n",
       "      <td>2</td>\n",
       "      <td>Between 1 &amp; 3 orders placed</td>\n",
       "    </tr>\n",
       "    <tr>\n",
       "      <th>4</th>\n",
       "      <td>1478249</td>\n",
       "      <td>76942</td>\n",
       "      <td>Dirty Bird to Go</td>\n",
       "      <td>American</td>\n",
       "      <td>Weekday</td>\n",
       "      <td>4</td>\n",
       "      <td>11.59</td>\n",
       "      <td>25</td>\n",
       "      <td>24</td>\n",
       "      <td>49</td>\n",
       "      <td>30 - 60</td>\n",
       "      <td>3</td>\n",
       "      <td>One-time customer</td>\n",
       "    </tr>\n",
       "  </tbody>\n",
       "</table>\n",
       "</div>"
      ],
      "text/plain": [
       "   order_id  customer_id            restaurant_name cuisine_type  \\\n",
       "0   1477147       337525                    Hangawi       Korean   \n",
       "1   1477685       358141  Blue Ribbon Sushi Izakaya     Japanese   \n",
       "2   1477070        66393                Cafe Habana      Mexican   \n",
       "3   1477334       106968  Blue Ribbon Fried Chicken     American   \n",
       "4   1478249        76942           Dirty Bird to Go     American   \n",
       "\n",
       "  day_of_the_week     rating  cost_of_the_order  food_preparation_time  \\\n",
       "0         Weekend  Not given              30.75                     25   \n",
       "1         Weekend  Not given              12.08                     25   \n",
       "2         Weekday          5              12.23                     23   \n",
       "3         Weekend          3              29.20                     25   \n",
       "4         Weekday          4              11.59                     25   \n",
       "\n",
       "   delivery_time  total_delivery_time delivery_data  customer_orders_freq  \\\n",
       "0             20                   45       30 - 60                     2   \n",
       "1             23                   48       30 - 60                     1   \n",
       "2             28                   51       30 - 60                     1   \n",
       "3             15                   40       30 - 60                     2   \n",
       "4             24                   49       30 - 60                     3   \n",
       "\n",
       "  customer_orders_freq_categories  \n",
       "0     Between 1 & 3 orders placed  \n",
       "1               One-time customer  \n",
       "2               One-time customer  \n",
       "3     Between 1 & 3 orders placed  \n",
       "4               One-time customer  "
      ]
     },
     "execution_count": 81,
     "metadata": {},
     "output_type": "execute_result"
    }
   ],
   "source": [
    "df3.head()"
   ]
  },
  {
   "cell_type": "code",
   "execution_count": 82,
   "id": "3bf68c9f",
   "metadata": {},
   "outputs": [],
   "source": [
    "categories_freq = ['One-time customer', 'Between 1 & 3 orders placed', 'Above 3 orders placed']"
   ]
  },
  {
   "cell_type": "code",
   "execution_count": 83,
   "id": "5e03e13b",
   "metadata": {},
   "outputs": [],
   "source": [
    "values_freq = [784, 346, 66]"
   ]
  },
  {
   "cell_type": "code",
   "execution_count": 84,
   "id": "980679f7",
   "metadata": {},
   "outputs": [],
   "source": [
    "colors = ['moccasin','lightpink','lightslategrey','chocolate']"
   ]
  },
  {
   "cell_type": "code",
   "execution_count": 85,
   "id": "887fcffd",
   "metadata": {},
   "outputs": [
    {
     "data": {
      "image/png": "[encoded data removed]",
      "text/plain": [
       "<Figure size 800x400 with 1 Axes>"
      ]
     },
     "metadata": {},
     "output_type": "display_data"
    }
   ],
   "source": [
    "plt.pie(values_freq,labels=categories_freq, colors=colors, autopct='%.2f%%', pctdistance=0.7, startangle=45, shadow=True, counterclock=False)\n",
    "plt.show()"
   ]
  },
  {
   "cell_type": "markdown",
   "id": "c7469296",
   "metadata": {},
   "source": [
    "#### Ratings"
   ]
  },
  {
   "cell_type": "code",
   "execution_count": 86,
   "id": "48b42eb6",
   "metadata": {},
   "outputs": [
    {
     "data": {
      "text/plain": [
       "Not given    736\n",
       "5            588\n",
       "4            386\n",
       "3            188\n",
       "Name: rating, dtype: int64"
      ]
     },
     "execution_count": 86,
     "metadata": {},
     "output_type": "execute_result"
    }
   ],
   "source": [
    "df3['rating'].value_counts()"
   ]
  },
  {
   "cell_type": "code",
   "execution_count": 87,
   "id": "bae529fe",
   "metadata": {},
   "outputs": [],
   "source": [
    "df3['rating'].replace('Not given', 0, inplace=True)"
   ]
  },
  {
   "cell_type": "code",
   "execution_count": 88,
   "id": "12795918",
   "metadata": {},
   "outputs": [],
   "source": [
    "df3['rating'] = df3['rating'].astype({'rating':'int'})"
   ]
  },
  {
   "cell_type": "code",
   "execution_count": 89,
   "id": "15837881",
   "metadata": {},
   "outputs": [
    {
     "data": {
      "text/plain": [
       "0    736\n",
       "5    588\n",
       "4    386\n",
       "3    188\n",
       "Name: rating, dtype: int64"
      ]
     },
     "execution_count": 89,
     "metadata": {},
     "output_type": "execute_result"
    }
   ],
   "source": [
    "df3['rating'].value_counts()"
   ]
  },
  {
   "cell_type": "code",
   "execution_count": 90,
   "id": "1e7d28d5",
   "metadata": {},
   "outputs": [],
   "source": [
    "rating_rest = df3[df3['rating'] != 0]"
   ]
  },
  {
   "cell_type": "code",
   "execution_count": 91,
   "id": "dccfbd11",
   "metadata": {},
   "outputs": [
    {
     "data": {
      "text/html": [
       "<div>\n",
       "<style scoped>\n",
       "    .dataframe tbody tr th:only-of-type {\n",
       "        vertical-align: middle;\n",
       "    }\n",
       "\n",
       "    .dataframe tbody tr th {\n",
       "        vertical-align: top;\n",
       "    }\n",
       "\n",
       "    .dataframe thead th {\n",
       "        text-align: right;\n",
       "    }\n",
       "</style>\n",
       "<table border=\"1\" class=\"dataframe\">\n",
       "  <thead>\n",
       "    <tr style=\"text-align: right;\">\n",
       "      <th></th>\n",
       "      <th>order_id</th>\n",
       "      <th>customer_id</th>\n",
       "      <th>restaurant_name</th>\n",
       "      <th>cuisine_type</th>\n",
       "      <th>day_of_the_week</th>\n",
       "      <th>rating</th>\n",
       "      <th>cost_of_the_order</th>\n",
       "      <th>food_preparation_time</th>\n",
       "      <th>delivery_time</th>\n",
       "      <th>total_delivery_time</th>\n",
       "      <th>delivery_data</th>\n",
       "      <th>customer_orders_freq</th>\n",
       "      <th>customer_orders_freq_categories</th>\n",
       "    </tr>\n",
       "  </thead>\n",
       "  <tbody>\n",
       "    <tr>\n",
       "      <th>2</th>\n",
       "      <td>1477070</td>\n",
       "      <td>66393</td>\n",
       "      <td>Cafe Habana</td>\n",
       "      <td>Mexican</td>\n",
       "      <td>Weekday</td>\n",
       "      <td>5</td>\n",
       "      <td>12.23</td>\n",
       "      <td>23</td>\n",
       "      <td>28</td>\n",
       "      <td>51</td>\n",
       "      <td>30 - 60</td>\n",
       "      <td>1</td>\n",
       "      <td>One-time customer</td>\n",
       "    </tr>\n",
       "    <tr>\n",
       "      <th>3</th>\n",
       "      <td>1477334</td>\n",
       "      <td>106968</td>\n",
       "      <td>Blue Ribbon Fried Chicken</td>\n",
       "      <td>American</td>\n",
       "      <td>Weekend</td>\n",
       "      <td>3</td>\n",
       "      <td>29.20</td>\n",
       "      <td>25</td>\n",
       "      <td>15</td>\n",
       "      <td>40</td>\n",
       "      <td>30 - 60</td>\n",
       "      <td>2</td>\n",
       "      <td>Between 1 &amp; 3 orders placed</td>\n",
       "    </tr>\n",
       "    <tr>\n",
       "      <th>4</th>\n",
       "      <td>1478249</td>\n",
       "      <td>76942</td>\n",
       "      <td>Dirty Bird to Go</td>\n",
       "      <td>American</td>\n",
       "      <td>Weekday</td>\n",
       "      <td>4</td>\n",
       "      <td>11.59</td>\n",
       "      <td>25</td>\n",
       "      <td>24</td>\n",
       "      <td>49</td>\n",
       "      <td>30 - 60</td>\n",
       "      <td>3</td>\n",
       "      <td>One-time customer</td>\n",
       "    </tr>\n",
       "    <tr>\n",
       "      <th>5</th>\n",
       "      <td>1477224</td>\n",
       "      <td>147468</td>\n",
       "      <td>Tamarind TriBeCa</td>\n",
       "      <td>Indian</td>\n",
       "      <td>Weekday</td>\n",
       "      <td>3</td>\n",
       "      <td>25.22</td>\n",
       "      <td>20</td>\n",
       "      <td>24</td>\n",
       "      <td>44</td>\n",
       "      <td>30 - 60</td>\n",
       "      <td>3</td>\n",
       "      <td>One-time customer</td>\n",
       "    </tr>\n",
       "    <tr>\n",
       "      <th>7</th>\n",
       "      <td>1477859</td>\n",
       "      <td>89574</td>\n",
       "      <td>Barbounia</td>\n",
       "      <td>Mediterranean</td>\n",
       "      <td>Weekday</td>\n",
       "      <td>3</td>\n",
       "      <td>5.97</td>\n",
       "      <td>33</td>\n",
       "      <td>30</td>\n",
       "      <td>63</td>\n",
       "      <td>60 -</td>\n",
       "      <td>1</td>\n",
       "      <td>One-time customer</td>\n",
       "    </tr>\n",
       "  </tbody>\n",
       "</table>\n",
       "</div>"
      ],
      "text/plain": [
       "   order_id  customer_id            restaurant_name   cuisine_type  \\\n",
       "2   1477070        66393                Cafe Habana        Mexican   \n",
       "3   1477334       106968  Blue Ribbon Fried Chicken       American   \n",
       "4   1478249        76942           Dirty Bird to Go       American   \n",
       "5   1477224       147468           Tamarind TriBeCa         Indian   \n",
       "7   1477859        89574                  Barbounia  Mediterranean   \n",
       "\n",
       "  day_of_the_week  rating  cost_of_the_order  food_preparation_time  \\\n",
       "2         Weekday       5              12.23                     23   \n",
       "3         Weekend       3              29.20                     25   \n",
       "4         Weekday       4              11.59                     25   \n",
       "5         Weekday       3              25.22                     20   \n",
       "7         Weekday       3               5.97                     33   \n",
       "\n",
       "   delivery_time  total_delivery_time delivery_data  customer_orders_freq  \\\n",
       "2             28                   51       30 - 60                     1   \n",
       "3             15                   40       30 - 60                     2   \n",
       "4             24                   49       30 - 60                     3   \n",
       "5             24                   44       30 - 60                     3   \n",
       "7             30                   63         60 -                      1   \n",
       "\n",
       "  customer_orders_freq_categories  \n",
       "2               One-time customer  \n",
       "3     Between 1 & 3 orders placed  \n",
       "4               One-time customer  \n",
       "5               One-time customer  \n",
       "7               One-time customer  "
      ]
     },
     "execution_count": 91,
     "metadata": {},
     "output_type": "execute_result"
    }
   ],
   "source": [
    "rating_rest.head()"
   ]
  },
  {
   "cell_type": "code",
   "execution_count": 92,
   "id": "7cd51f03",
   "metadata": {},
   "outputs": [
    {
     "data": {
      "text/plain": [
       "rating\n",
       "3    188\n",
       "4    386\n",
       "5    588\n",
       "Name: rating, dtype: int64"
      ]
     },
     "execution_count": 92,
     "metadata": {},
     "output_type": "execute_result"
    }
   ],
   "source": [
    "rating_rest.groupby('rating')['rating'].count()"
   ]
  },
  {
   "cell_type": "code",
   "execution_count": null,
   "id": "b5ae5fa1-b878-4bd3-9b96-8f04aea99e13",
   "metadata": {},
   "outputs": [],
   "source": []
  },
  {
   "cell_type": "markdown",
   "id": "211d168d",
   "metadata": {},
   "source": [
    "***Top 5 restaurants based on order frequency***"
   ]
  },
  {
   "cell_type": "code",
   "execution_count": 93,
   "id": "ea9b01ab",
   "metadata": {},
   "outputs": [
    {
     "data": {
      "text/plain": [
       "Shake Shack                  219\n",
       "The Meatball Shop            132\n",
       "Blue Ribbon Sushi            119\n",
       "Blue Ribbon Fried Chicken     96\n",
       "Parm                          68\n",
       "Name: restaurant_name, dtype: int64"
      ]
     },
     "execution_count": 93,
     "metadata": {},
     "output_type": "execute_result"
    }
   ],
   "source": [
    "df3['restaurant_name'].value_counts().sort_values(ascending=False).head()"
   ]
  },
  {
   "cell_type": "code",
   "execution_count": 94,
   "id": "4789d752",
   "metadata": {},
   "outputs": [
    {
     "data": {
      "text/plain": [
       "110"
      ]
     },
     "execution_count": 94,
     "metadata": {},
     "output_type": "execute_result"
    }
   ],
   "source": [
    "rating_rest.groupby('restaurant_name')['rating'].mean().sort_values(ascending=False)[rating_rest.groupby('restaurant_name')['rating'].mean().sort_values(ascending=False) > 4].count()"
   ]
  },
  {
   "cell_type": "markdown",
   "id": "8f2e2452",
   "metadata": {},
   "source": [
    "*Restaurants received ratings*"
   ]
  },
  {
   "cell_type": "code",
   "execution_count": 95,
   "id": "19525616",
   "metadata": {},
   "outputs": [
    {
     "data": {
      "text/plain": [
       "156"
      ]
     },
     "execution_count": 95,
     "metadata": {},
     "output_type": "execute_result"
    }
   ],
   "source": [
    "rating_rest['restaurant_name'].nunique()"
   ]
  },
  {
   "cell_type": "code",
   "execution_count": 96,
   "id": "28904337",
   "metadata": {},
   "outputs": [
    {
     "data": {
      "text/plain": [
       "restaurant_name\n",
       "Sushi Choshi       3.0\n",
       "Sarabeth's West    3.0\n",
       "Pepe Giallo        3.0\n",
       "brgr               3.0\n",
       "Nha Trang One      3.0\n",
       "Name: rating, dtype: float64"
      ]
     },
     "execution_count": 96,
     "metadata": {},
     "output_type": "execute_result"
    }
   ],
   "source": [
    "rating_rest.groupby('restaurant_name')['rating'].mean().sort_values(ascending=True).head(5)"
   ]
  },
  {
   "cell_type": "code",
   "execution_count": 97,
   "id": "84267529",
   "metadata": {},
   "outputs": [],
   "source": [
    "top5restaurants = ['Shake Shack', 'The Meatball Shop', 'Blue Ribbon Sushi', 'Blue Ribbon Fried Chicken', 'Parm']"
   ]
  },
  {
   "cell_type": "code",
   "execution_count": 98,
   "id": "66402c72",
   "metadata": {},
   "outputs": [],
   "source": [
    "above_4_rating = rating_rest[rating_rest['restaurant_name'].isin(top5restaurants)]"
   ]
  },
  {
   "cell_type": "code",
   "execution_count": 99,
   "id": "72a56ad2",
   "metadata": {},
   "outputs": [
    {
     "data": {
      "text/html": [
       "<div>\n",
       "<style scoped>\n",
       "    .dataframe tbody tr th:only-of-type {\n",
       "        vertical-align: middle;\n",
       "    }\n",
       "\n",
       "    .dataframe tbody tr th {\n",
       "        vertical-align: top;\n",
       "    }\n",
       "\n",
       "    .dataframe thead th {\n",
       "        text-align: right;\n",
       "    }\n",
       "</style>\n",
       "<table border=\"1\" class=\"dataframe\">\n",
       "  <thead>\n",
       "    <tr style=\"text-align: right;\">\n",
       "      <th></th>\n",
       "      <th>restaurant_name</th>\n",
       "      <th>rating</th>\n",
       "    </tr>\n",
       "  </thead>\n",
       "  <tbody>\n",
       "    <tr>\n",
       "      <th>4</th>\n",
       "      <td>The Meatball Shop</td>\n",
       "      <td>4.511905</td>\n",
       "    </tr>\n",
       "    <tr>\n",
       "      <th>0</th>\n",
       "      <td>Blue Ribbon Fried Chicken</td>\n",
       "      <td>4.328125</td>\n",
       "    </tr>\n",
       "    <tr>\n",
       "      <th>3</th>\n",
       "      <td>Shake Shack</td>\n",
       "      <td>4.278195</td>\n",
       "    </tr>\n",
       "    <tr>\n",
       "      <th>1</th>\n",
       "      <td>Blue Ribbon Sushi</td>\n",
       "      <td>4.219178</td>\n",
       "    </tr>\n",
       "    <tr>\n",
       "      <th>2</th>\n",
       "      <td>Parm</td>\n",
       "      <td>4.128205</td>\n",
       "    </tr>\n",
       "  </tbody>\n",
       "</table>\n",
       "</div>"
      ],
      "text/plain": [
       "             restaurant_name    rating\n",
       "4          The Meatball Shop  4.511905\n",
       "0  Blue Ribbon Fried Chicken  4.328125\n",
       "3                Shake Shack  4.278195\n",
       "1          Blue Ribbon Sushi  4.219178\n",
       "2                       Parm  4.128205"
      ]
     },
     "execution_count": 99,
     "metadata": {},
     "output_type": "execute_result"
    }
   ],
   "source": [
    "above_4_rating.groupby('restaurant_name')[['rating']].mean()\\\n",
    ".reset_index()\\\n",
    ".sort_values(by='rating', ascending=False)\n",
    "#saving in another variable --> to use for pie chart"
   ]
  },
  {
   "cell_type": "code",
   "execution_count": null,
   "id": "753325e8",
   "metadata": {},
   "outputs": [],
   "source": []
  },
  {
   "cell_type": "code",
   "execution_count": 100,
   "id": "0b096182",
   "metadata": {},
   "outputs": [],
   "source": [
    "categories_res = ['No rating', 'Between 3 & 4', \"Between 4 & 5\", 'Exactly 5']"
   ]
  },
  {
   "cell_type": "code",
   "execution_count": 101,
   "id": "0e7909ff",
   "metadata": {},
   "outputs": [],
   "source": [
    "values_res = [22, 17, 92, 47]"
   ]
  },
  {
   "cell_type": "code",
   "execution_count": 102,
   "id": "0143cf40",
   "metadata": {},
   "outputs": [],
   "source": [
    "colors = ['azure', 'cadetblue', 'lightgreen', 'burlywood']"
   ]
  },
  {
   "cell_type": "code",
   "execution_count": 103,
   "id": "34a63894",
   "metadata": {},
   "outputs": [
    {
     "data": {
      "text/plain": [
       "Text(0.5, 1.0, 'Overall ratings per restaurants')"
      ]
     },
     "execution_count": 103,
     "metadata": {},
     "output_type": "execute_result"
    },
    {
     "data": {
      "image/png": "[encoded data removed]",
      "text/plain": [
       "<Figure size 500x500 with 1 Axes>"
      ]
     },
     "metadata": {},
     "output_type": "display_data"
    }
   ],
   "source": [
    "plt.figure(figsize=(5,5))\n",
    "plt.pie(values_res,labels=categories_res, colors=colors, autopct='%.2f%%', pctdistance=0.5, startangle=45, shadow=True, counterclock=False, textprops={'fontsize':14})\n",
    "plt.title(\n",
    "    label=\"Overall ratings per restaurants\", \n",
    "    fontdict={\"fontsize\":18, 'weight': 'bold'},\n",
    "    pad=20)\n"
   ]
  },
  {
   "cell_type": "code",
   "execution_count": null,
   "id": "be9663e3",
   "metadata": {},
   "outputs": [],
   "source": []
  },
  {
   "cell_type": "markdown",
   "id": "8f62dd5d",
   "metadata": {},
   "source": [
    "#### Cost\n"
   ]
  },
  {
   "cell_type": "code",
   "execution_count": 104,
   "id": "e28c908e",
   "metadata": {},
   "outputs": [
    {
     "data": {
      "text/plain": [
       "0       30.75\n",
       "1       12.08\n",
       "2       12.23\n",
       "3       29.20\n",
       "4       11.59\n",
       "        ...  \n",
       "1893    22.31\n",
       "1894    12.18\n",
       "1895    25.22\n",
       "1896    12.18\n",
       "1897    19.45\n",
       "Name: cost_of_the_order, Length: 1898, dtype: float64"
      ]
     },
     "execution_count": 104,
     "metadata": {},
     "output_type": "execute_result"
    }
   ],
   "source": [
    "df3['cost_of_the_order']"
   ]
  },
  {
   "cell_type": "markdown",
   "id": "490687ad",
   "metadata": {},
   "source": [
    "*Comment:Object dtype, so first converting to numeric*"
   ]
  },
  {
   "cell_type": "code",
   "execution_count": 105,
   "id": "1edf3525",
   "metadata": {},
   "outputs": [],
   "source": [
    "numeric_vals = pd.to_numeric(df3['cost_of_the_order'],errors = 'coerce')"
   ]
  },
  {
   "cell_type": "code",
   "execution_count": 106,
   "id": "b5440feb",
   "metadata": {},
   "outputs": [
    {
     "data": {
      "text/plain": [
       "3"
      ]
     },
     "execution_count": 106,
     "metadata": {},
     "output_type": "execute_result"
    }
   ],
   "source": [
    "numeric_vals.isnull().sum()"
   ]
  },
  {
   "cell_type": "code",
   "execution_count": 107,
   "id": "205f22b1",
   "metadata": {},
   "outputs": [],
   "source": [
    "idx = numeric_vals.isna()"
   ]
  },
  {
   "cell_type": "code",
   "execution_count": 108,
   "id": "a3664e34",
   "metadata": {},
   "outputs": [
    {
     "data": {
      "text/plain": [
       "0       False\n",
       "1       False\n",
       "2       False\n",
       "3       False\n",
       "4       False\n",
       "        ...  \n",
       "1893    False\n",
       "1894    False\n",
       "1895    False\n",
       "1896    False\n",
       "1897    False\n",
       "Name: cost_of_the_order, Length: 1898, dtype: bool"
      ]
     },
     "execution_count": 108,
     "metadata": {},
     "output_type": "execute_result"
    }
   ],
   "source": [
    "idx"
   ]
  },
  {
   "cell_type": "markdown",
   "id": "2ab5d096",
   "metadata": {},
   "source": [
    "##### Identification of the stray characters"
   ]
  },
  {
   "cell_type": "code",
   "execution_count": 109,
   "id": "40458d28",
   "metadata": {},
   "outputs": [
    {
     "data": {
      "text/plain": [
       "array([nan])"
      ]
     },
     "execution_count": 109,
     "metadata": {},
     "output_type": "execute_result"
    }
   ],
   "source": [
    "df3['cost_of_the_order'][idx].unique()"
   ]
  },
  {
   "cell_type": "code",
   "execution_count": 110,
   "id": "49a16ac6",
   "metadata": {},
   "outputs": [],
   "source": [
    "df3['cost_of_the_order'] = df3['cost_of_the_order'].replace('$',np.nan)\\\n",
    "                            .replace('.', np.nan)\\\n",
    "                            .replace('1 4.02','14.02')\\\n",
    "                            .astype(float)\n"
   ]
  },
  {
   "cell_type": "code",
   "execution_count": 111,
   "id": "01258353",
   "metadata": {},
   "outputs": [
    {
     "data": {
      "text/plain": [
       "order_id                             int64\n",
       "customer_id                          int64\n",
       "restaurant_name                     object\n",
       "cuisine_type                        object\n",
       "day_of_the_week                     object\n",
       "rating                               int32\n",
       "cost_of_the_order                  float64\n",
       "food_preparation_time                int64\n",
       "delivery_time                        int64\n",
       "total_delivery_time                  int64\n",
       "delivery_data                       object\n",
       "customer_orders_freq                 int64\n",
       "customer_orders_freq_categories     object\n",
       "dtype: object"
      ]
     },
     "execution_count": 111,
     "metadata": {},
     "output_type": "execute_result"
    }
   ],
   "source": [
    "df3.dtypes"
   ]
  },
  {
   "cell_type": "code",
   "execution_count": 112,
   "id": "1f458efe",
   "metadata": {},
   "outputs": [
    {
     "data": {
      "text/plain": [
       "16.50431662269129"
      ]
     },
     "execution_count": 112,
     "metadata": {},
     "output_type": "execute_result"
    }
   ],
   "source": [
    "df3['cost_of_the_order'].mean()"
   ]
  },
  {
   "cell_type": "code",
   "execution_count": 113,
   "id": "672880a5-841d-4f24-86d4-00e9a412d680",
   "metadata": {},
   "outputs": [
    {
     "data": {
      "text/plain": [
       "14.16"
      ]
     },
     "execution_count": 113,
     "metadata": {},
     "output_type": "execute_result"
    }
   ],
   "source": [
    "df3['cost_of_the_order'].median()"
   ]
  },
  {
   "cell_type": "code",
   "execution_count": 114,
   "id": "73afdb7f-e2bc-4cee-ade3-dea0de65cf0e",
   "metadata": {},
   "outputs": [
    {
     "data": {
      "text/plain": [
       "<AxesSubplot: xlabel='cost_of_the_order', ylabel='Count'>"
      ]
     },
     "execution_count": 114,
     "metadata": {},
     "output_type": "execute_result"
    },
    {
     "data": {
      "image/png": "[encoded data removed]",
      "text/plain": [
       "<Figure size 800x400 with 1 Axes>"
      ]
     },
     "metadata": {},
     "output_type": "display_data"
    }
   ],
   "source": [
    "sns.histplot(df3['cost_of_the_order'], kde=True)"
   ]
  },
  {
   "cell_type": "markdown",
   "id": "6eb7e291",
   "metadata": {},
   "source": [
    "##### Handling the nullvalues and filling them with the mean"
   ]
  },
  {
   "cell_type": "code",
   "execution_count": 115,
   "id": "b997a50b",
   "metadata": {},
   "outputs": [],
   "source": [
    "df3['cost_of_the_order'].fillna(df3['cost_of_the_order'].median(), inplace =True)"
   ]
  },
  {
   "cell_type": "code",
   "execution_count": 116,
   "id": "8adcc0c8",
   "metadata": {},
   "outputs": [
    {
     "data": {
      "text/plain": [
       "0"
      ]
     },
     "execution_count": 116,
     "metadata": {},
     "output_type": "execute_result"
    }
   ],
   "source": [
    "df3['cost_of_the_order'].isnull().sum()"
   ]
  },
  {
   "cell_type": "code",
   "execution_count": 117,
   "id": "701e60ca",
   "metadata": {},
   "outputs": [
    {
     "data": {
      "text/plain": [
       "dtype('float64')"
      ]
     },
     "execution_count": 117,
     "metadata": {},
     "output_type": "execute_result"
    }
   ],
   "source": [
    "df3['cost_of_the_order'].dtype"
   ]
  },
  {
   "cell_type": "markdown",
   "id": "5be9f0f4",
   "metadata": {},
   "source": [
    "using the resting rest - already filtered on the rated orders"
   ]
  },
  {
   "cell_type": "code",
   "execution_count": 118,
   "id": "a1399a93",
   "metadata": {},
   "outputs": [
    {
     "data": {
      "text/plain": [
       "Text(0, 0.5, 'Frequency of the orders')"
      ]
     },
     "execution_count": 118,
     "metadata": {},
     "output_type": "execute_result"
    },
    {
     "data": {
      "image/png": "[encoded data removed]",
      "text/plain": [
       "<Figure size 400x400 with 1 Axes>"
      ]
     },
     "metadata": {},
     "output_type": "display_data"
    }
   ],
   "source": [
    "sns.set(rc={\"figure.figsize\":(4, 4)}) \n",
    "cost_ax = sns.histplot(data=df3['cost_of_the_order'], color='mediumpurple', kde=True, bins=10)\n",
    "cost_ax.set_title('Order cost overview', fontdict={'size': 20, 'weight': 'bold'})\n",
    "cost_ax.set_xlabel('Cost of the orders', fontdict={'size': 10})\n",
    "cost_ax.set_ylabel('Frequency of the orders', fontdict={'size': 10})"
   ]
  },
  {
   "cell_type": "code",
   "execution_count": 119,
   "id": "a55f2e0b",
   "metadata": {},
   "outputs": [],
   "source": [
    "def order_price_categories(category):\n",
    "    if category > 25:\n",
    "        return 'Above 25$'\n",
    "    elif category > 10 and category < 25:\n",
    "        return 'Between 10$ & 25$'\n",
    "    else:\n",
    "        return 'Below 10$'\n",
    "    \n",
    "    \n",
    "df3['Order price'] = df3['cost_of_the_order'].apply(order_price_categories)"
   ]
  },
  {
   "cell_type": "code",
   "execution_count": 120,
   "id": "7c477f04",
   "metadata": {},
   "outputs": [
    {
     "data": {
      "text/html": [
       "<div>\n",
       "<style scoped>\n",
       "    .dataframe tbody tr th:only-of-type {\n",
       "        vertical-align: middle;\n",
       "    }\n",
       "\n",
       "    .dataframe tbody tr th {\n",
       "        vertical-align: top;\n",
       "    }\n",
       "\n",
       "    .dataframe thead th {\n",
       "        text-align: right;\n",
       "    }\n",
       "</style>\n",
       "<table border=\"1\" class=\"dataframe\">\n",
       "  <thead>\n",
       "    <tr style=\"text-align: right;\">\n",
       "      <th></th>\n",
       "      <th>order_id</th>\n",
       "      <th>customer_id</th>\n",
       "      <th>restaurant_name</th>\n",
       "      <th>cuisine_type</th>\n",
       "      <th>day_of_the_week</th>\n",
       "      <th>rating</th>\n",
       "      <th>cost_of_the_order</th>\n",
       "      <th>food_preparation_time</th>\n",
       "      <th>delivery_time</th>\n",
       "      <th>total_delivery_time</th>\n",
       "      <th>delivery_data</th>\n",
       "      <th>customer_orders_freq</th>\n",
       "      <th>customer_orders_freq_categories</th>\n",
       "      <th>Order price</th>\n",
       "    </tr>\n",
       "  </thead>\n",
       "  <tbody>\n",
       "    <tr>\n",
       "      <th>0</th>\n",
       "      <td>1477147</td>\n",
       "      <td>337525</td>\n",
       "      <td>Hangawi</td>\n",
       "      <td>Korean</td>\n",
       "      <td>Weekend</td>\n",
       "      <td>0</td>\n",
       "      <td>30.75</td>\n",
       "      <td>25</td>\n",
       "      <td>20</td>\n",
       "      <td>45</td>\n",
       "      <td>30 - 60</td>\n",
       "      <td>2</td>\n",
       "      <td>Between 1 &amp; 3 orders placed</td>\n",
       "      <td>Above 25$</td>\n",
       "    </tr>\n",
       "    <tr>\n",
       "      <th>1</th>\n",
       "      <td>1477685</td>\n",
       "      <td>358141</td>\n",
       "      <td>Blue Ribbon Sushi Izakaya</td>\n",
       "      <td>Japanese</td>\n",
       "      <td>Weekend</td>\n",
       "      <td>0</td>\n",
       "      <td>12.08</td>\n",
       "      <td>25</td>\n",
       "      <td>23</td>\n",
       "      <td>48</td>\n",
       "      <td>30 - 60</td>\n",
       "      <td>1</td>\n",
       "      <td>One-time customer</td>\n",
       "      <td>Between 10$ &amp; 25$</td>\n",
       "    </tr>\n",
       "    <tr>\n",
       "      <th>2</th>\n",
       "      <td>1477070</td>\n",
       "      <td>66393</td>\n",
       "      <td>Cafe Habana</td>\n",
       "      <td>Mexican</td>\n",
       "      <td>Weekday</td>\n",
       "      <td>5</td>\n",
       "      <td>12.23</td>\n",
       "      <td>23</td>\n",
       "      <td>28</td>\n",
       "      <td>51</td>\n",
       "      <td>30 - 60</td>\n",
       "      <td>1</td>\n",
       "      <td>One-time customer</td>\n",
       "      <td>Between 10$ &amp; 25$</td>\n",
       "    </tr>\n",
       "    <tr>\n",
       "      <th>3</th>\n",
       "      <td>1477334</td>\n",
       "      <td>106968</td>\n",
       "      <td>Blue Ribbon Fried Chicken</td>\n",
       "      <td>American</td>\n",
       "      <td>Weekend</td>\n",
       "      <td>3</td>\n",
       "      <td>29.20</td>\n",
       "      <td>25</td>\n",
       "      <td>15</td>\n",
       "      <td>40</td>\n",
       "      <td>30 - 60</td>\n",
       "      <td>2</td>\n",
       "      <td>Between 1 &amp; 3 orders placed</td>\n",
       "      <td>Above 25$</td>\n",
       "    </tr>\n",
       "    <tr>\n",
       "      <th>4</th>\n",
       "      <td>1478249</td>\n",
       "      <td>76942</td>\n",
       "      <td>Dirty Bird to Go</td>\n",
       "      <td>American</td>\n",
       "      <td>Weekday</td>\n",
       "      <td>4</td>\n",
       "      <td>11.59</td>\n",
       "      <td>25</td>\n",
       "      <td>24</td>\n",
       "      <td>49</td>\n",
       "      <td>30 - 60</td>\n",
       "      <td>3</td>\n",
       "      <td>One-time customer</td>\n",
       "      <td>Between 10$ &amp; 25$</td>\n",
       "    </tr>\n",
       "  </tbody>\n",
       "</table>\n",
       "</div>"
      ],
      "text/plain": [
       "   order_id  customer_id            restaurant_name cuisine_type  \\\n",
       "0   1477147       337525                    Hangawi       Korean   \n",
       "1   1477685       358141  Blue Ribbon Sushi Izakaya     Japanese   \n",
       "2   1477070        66393                Cafe Habana      Mexican   \n",
       "3   1477334       106968  Blue Ribbon Fried Chicken     American   \n",
       "4   1478249        76942           Dirty Bird to Go     American   \n",
       "\n",
       "  day_of_the_week  rating  cost_of_the_order  food_preparation_time  \\\n",
       "0         Weekend       0              30.75                     25   \n",
       "1         Weekend       0              12.08                     25   \n",
       "2         Weekday       5              12.23                     23   \n",
       "3         Weekend       3              29.20                     25   \n",
       "4         Weekday       4              11.59                     25   \n",
       "\n",
       "   delivery_time  total_delivery_time delivery_data  customer_orders_freq  \\\n",
       "0             20                   45       30 - 60                     2   \n",
       "1             23                   48       30 - 60                     1   \n",
       "2             28                   51       30 - 60                     1   \n",
       "3             15                   40       30 - 60                     2   \n",
       "4             24                   49       30 - 60                     3   \n",
       "\n",
       "  customer_orders_freq_categories        Order price  \n",
       "0     Between 1 & 3 orders placed          Above 25$  \n",
       "1               One-time customer  Between 10$ & 25$  \n",
       "2               One-time customer  Between 10$ & 25$  \n",
       "3     Between 1 & 3 orders placed          Above 25$  \n",
       "4               One-time customer  Between 10$ & 25$  "
      ]
     },
     "execution_count": 120,
     "metadata": {},
     "output_type": "execute_result"
    }
   ],
   "source": [
    "df3.head()"
   ]
  },
  {
   "cell_type": "code",
   "execution_count": 121,
   "id": "f837d96f",
   "metadata": {},
   "outputs": [
    {
     "data": {
      "text/plain": [
       "Between 10$ & 25$    1200\n",
       "Below 10$             393\n",
       "Above 25$             305\n",
       "Name: Order price, dtype: int64"
      ]
     },
     "execution_count": 121,
     "metadata": {},
     "output_type": "execute_result"
    }
   ],
   "source": [
    "df3['Order price'].value_counts()"
   ]
  },
  {
   "cell_type": "code",
   "execution_count": 122,
   "id": "7d346dd1",
   "metadata": {},
   "outputs": [
    {
     "data": {
      "text/html": [
       "<div>\n",
       "<style scoped>\n",
       "    .dataframe tbody tr th:only-of-type {\n",
       "        vertical-align: middle;\n",
       "    }\n",
       "\n",
       "    .dataframe tbody tr th {\n",
       "        vertical-align: top;\n",
       "    }\n",
       "\n",
       "    .dataframe thead th {\n",
       "        text-align: right;\n",
       "    }\n",
       "</style>\n",
       "<table border=\"1\" class=\"dataframe\">\n",
       "  <thead>\n",
       "    <tr style=\"text-align: right;\">\n",
       "      <th></th>\n",
       "      <th>order_id</th>\n",
       "      <th>customer_id</th>\n",
       "      <th>restaurant_name</th>\n",
       "      <th>cuisine_type</th>\n",
       "      <th>day_of_the_week</th>\n",
       "      <th>rating</th>\n",
       "      <th>cost_of_the_order</th>\n",
       "      <th>food_preparation_time</th>\n",
       "      <th>delivery_time</th>\n",
       "      <th>total_delivery_time</th>\n",
       "      <th>delivery_data</th>\n",
       "      <th>customer_orders_freq</th>\n",
       "      <th>customer_orders_freq_categories</th>\n",
       "      <th>Order price</th>\n",
       "    </tr>\n",
       "  </thead>\n",
       "  <tbody>\n",
       "    <tr>\n",
       "      <th>0</th>\n",
       "      <td>1477147</td>\n",
       "      <td>337525</td>\n",
       "      <td>Hangawi</td>\n",
       "      <td>Korean</td>\n",
       "      <td>Weekend</td>\n",
       "      <td>0</td>\n",
       "      <td>30.75</td>\n",
       "      <td>25</td>\n",
       "      <td>20</td>\n",
       "      <td>45</td>\n",
       "      <td>30 - 60</td>\n",
       "      <td>2</td>\n",
       "      <td>Between 1 &amp; 3 orders placed</td>\n",
       "      <td>Above 25$</td>\n",
       "    </tr>\n",
       "    <tr>\n",
       "      <th>1</th>\n",
       "      <td>1477685</td>\n",
       "      <td>358141</td>\n",
       "      <td>Blue Ribbon Sushi Izakaya</td>\n",
       "      <td>Japanese</td>\n",
       "      <td>Weekend</td>\n",
       "      <td>0</td>\n",
       "      <td>12.08</td>\n",
       "      <td>25</td>\n",
       "      <td>23</td>\n",
       "      <td>48</td>\n",
       "      <td>30 - 60</td>\n",
       "      <td>1</td>\n",
       "      <td>One-time customer</td>\n",
       "      <td>Between 10$ &amp; 25$</td>\n",
       "    </tr>\n",
       "    <tr>\n",
       "      <th>2</th>\n",
       "      <td>1477070</td>\n",
       "      <td>66393</td>\n",
       "      <td>Cafe Habana</td>\n",
       "      <td>Mexican</td>\n",
       "      <td>Weekday</td>\n",
       "      <td>5</td>\n",
       "      <td>12.23</td>\n",
       "      <td>23</td>\n",
       "      <td>28</td>\n",
       "      <td>51</td>\n",
       "      <td>30 - 60</td>\n",
       "      <td>1</td>\n",
       "      <td>One-time customer</td>\n",
       "      <td>Between 10$ &amp; 25$</td>\n",
       "    </tr>\n",
       "    <tr>\n",
       "      <th>3</th>\n",
       "      <td>1477334</td>\n",
       "      <td>106968</td>\n",
       "      <td>Blue Ribbon Fried Chicken</td>\n",
       "      <td>American</td>\n",
       "      <td>Weekend</td>\n",
       "      <td>3</td>\n",
       "      <td>29.20</td>\n",
       "      <td>25</td>\n",
       "      <td>15</td>\n",
       "      <td>40</td>\n",
       "      <td>30 - 60</td>\n",
       "      <td>2</td>\n",
       "      <td>Between 1 &amp; 3 orders placed</td>\n",
       "      <td>Above 25$</td>\n",
       "    </tr>\n",
       "    <tr>\n",
       "      <th>4</th>\n",
       "      <td>1478249</td>\n",
       "      <td>76942</td>\n",
       "      <td>Dirty Bird to Go</td>\n",
       "      <td>American</td>\n",
       "      <td>Weekday</td>\n",
       "      <td>4</td>\n",
       "      <td>11.59</td>\n",
       "      <td>25</td>\n",
       "      <td>24</td>\n",
       "      <td>49</td>\n",
       "      <td>30 - 60</td>\n",
       "      <td>3</td>\n",
       "      <td>One-time customer</td>\n",
       "      <td>Between 10$ &amp; 25$</td>\n",
       "    </tr>\n",
       "  </tbody>\n",
       "</table>\n",
       "</div>"
      ],
      "text/plain": [
       "   order_id  customer_id            restaurant_name cuisine_type  \\\n",
       "0   1477147       337525                    Hangawi       Korean   \n",
       "1   1477685       358141  Blue Ribbon Sushi Izakaya     Japanese   \n",
       "2   1477070        66393                Cafe Habana      Mexican   \n",
       "3   1477334       106968  Blue Ribbon Fried Chicken     American   \n",
       "4   1478249        76942           Dirty Bird to Go     American   \n",
       "\n",
       "  day_of_the_week  rating  cost_of_the_order  food_preparation_time  \\\n",
       "0         Weekend       0              30.75                     25   \n",
       "1         Weekend       0              12.08                     25   \n",
       "2         Weekday       5              12.23                     23   \n",
       "3         Weekend       3              29.20                     25   \n",
       "4         Weekday       4              11.59                     25   \n",
       "\n",
       "   delivery_time  total_delivery_time delivery_data  customer_orders_freq  \\\n",
       "0             20                   45       30 - 60                     2   \n",
       "1             23                   48       30 - 60                     1   \n",
       "2             28                   51       30 - 60                     1   \n",
       "3             15                   40       30 - 60                     2   \n",
       "4             24                   49       30 - 60                     3   \n",
       "\n",
       "  customer_orders_freq_categories        Order price  \n",
       "0     Between 1 & 3 orders placed          Above 25$  \n",
       "1               One-time customer  Between 10$ & 25$  \n",
       "2               One-time customer  Between 10$ & 25$  \n",
       "3     Between 1 & 3 orders placed          Above 25$  \n",
       "4               One-time customer  Between 10$ & 25$  "
      ]
     },
     "execution_count": 122,
     "metadata": {},
     "output_type": "execute_result"
    }
   ],
   "source": [
    "df3.head()"
   ]
  },
  {
   "cell_type": "code",
   "execution_count": 123,
   "id": "2ae27769",
   "metadata": {},
   "outputs": [
    {
     "data": {
      "text/plain": [
       "count    1898.000000\n",
       "mean       16.500611\n",
       "std         7.482147\n",
       "min         4.470000\n",
       "25%        12.080000\n",
       "50%        14.160000\n",
       "75%        22.297500\n",
       "max        35.410000\n",
       "Name: cost_of_the_order, dtype: float64"
      ]
     },
     "execution_count": 123,
     "metadata": {},
     "output_type": "execute_result"
    }
   ],
   "source": [
    "df3['cost_of_the_order'].describe()"
   ]
  },
  {
   "cell_type": "code",
   "execution_count": 124,
   "id": "a7c09403",
   "metadata": {},
   "outputs": [
    {
     "data": {
      "text/plain": [
       "<AxesSubplot: >"
      ]
     },
     "execution_count": 124,
     "metadata": {},
     "output_type": "execute_result"
    },
    {
     "data": {
      "image/png": "[encoded data removed]",
      "text/plain": [
       "<Figure size 300x300 with 1 Axes>"
      ]
     },
     "metadata": {},
     "output_type": "display_data"
    }
   ],
   "source": [
    "sns.set(rc={\"figure.figsize\":(3, 3)}) \n",
    "sns.boxplot(data=df3['cost_of_the_order'])"
   ]
  },
  {
   "cell_type": "code",
   "execution_count": 125,
   "id": "9a16b491",
   "metadata": {},
   "outputs": [],
   "source": [
    "categories = ['Below 10$', 'Between 10$ & 25$', 'Above 25$']"
   ]
  },
  {
   "cell_type": "code",
   "execution_count": 126,
   "id": "2e349f9e",
   "metadata": {},
   "outputs": [],
   "source": [
    "values = [456, 1190, 252]"
   ]
  },
  {
   "cell_type": "code",
   "execution_count": 127,
   "id": "cd649e98",
   "metadata": {},
   "outputs": [],
   "source": [
    "explodes = [0, 0, 0.3]"
   ]
  },
  {
   "cell_type": "code",
   "execution_count": 128,
   "id": "80fb3fea",
   "metadata": {},
   "outputs": [
    {
     "data": {
      "image/png": "[encoded data removed]",
      "text/plain": [
       "<Figure size 300x300 with 1 Axes>"
      ]
     },
     "metadata": {},
     "output_type": "display_data"
    }
   ],
   "source": [
    "plt.pie(values,labels=categories, explode=explodes, autopct='%.2f%%', pctdistance=0.7, startangle=45, counterclock=False) \n",
    "plt.show()"
   ]
  },
  {
   "cell_type": "code",
   "execution_count": null,
   "id": "04177d3f",
   "metadata": {},
   "outputs": [],
   "source": []
  },
  {
   "cell_type": "markdown",
   "id": "8c0e86ab-3560-4872-86f0-dcd8a2db24e3",
   "metadata": {},
   "source": [
    "## III. Conclusion & recommendation"
   ]
  },
  {
   "cell_type": "markdown",
   "id": "1309d021-b6aa-436e-9bff-55bf2bd70335",
   "metadata": {},
   "source": [
    "**Delivery**: \n",
    "improvement of the 10% which is over 60 minutes →e.g.: reward competition between the delivery employees.\n",
    "        \n",
    "**Cuisine popularity**:\n",
    "either contract the popular cuisines: american, japanese, italian, chinese, or promote the mexican, indian,middle eastern, mediterranean (1+1, or happy hour or ‘Asian days’) or contract new ones or re-categorize.\n",
    "              \n",
    "**Orders** : customer engagement increase targeting the between 1 and 3 orders place segmentation; e.g: in case order 3 times within 3 month, 20%discount.\n",
    "        \n",
    "**Cost**: motivate the restaurants for promotion package  above 20$ order cost.\n",
    "         \n",
    "**Ratings**: analyze the reason for 10% which are between 3 and 4."
   ]
  },
  {
   "cell_type": "code",
   "execution_count": null,
   "id": "b1486a97-29a0-46e6-8668-5a25b5f22747",
   "metadata": {},
   "outputs": [],
   "source": []
  }
 ],
 "metadata": {
  "kernelspec": {
   "display_name": "Python 3 (ipykernel)",
   "language": "python",
   "name": "python3"
  },
  "language_info": {
   "codemirror_mode": {
    "name": "ipython",
    "version": 3
   },
   "file_extension": ".py",
   "mimetype": "text/x-python",
   "name": "python",
   "nbconvert_exporter": "python",
   "pygments_lexer": "ipython3",
   "version": "3.11.5"
  }
 },
 "nbformat": 4,
 "nbformat_minor": 5
}
