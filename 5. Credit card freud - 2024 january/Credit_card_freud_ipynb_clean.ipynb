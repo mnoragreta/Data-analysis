{
  "cells": [
    {
      "cell_type": "markdown",
      "id": "09fb0be0",
      "metadata": {
        "id": "09fb0be0"
      },
      "source": [
        "# Context #\n",
        "It is important that credit card companies are able to recognize fraudulent credit card transactions so that customers are not charged for items that they did not purchase.\n",
        "\n",
        "# Content #\n",
        "The dataset contains transactions made by credit cards in September 2013 by European cardholders.\n",
        "This dataset presents transactions that occurred in two days, where we have 492 frauds out of 284,807 transactions. The dataset is highly unbalanced, the positive class (frauds) account for 0.172% of all transactions.\n",
        "\n",
        "It contains only numerical input variables which are the result of a PCA transformation. Feature 'Class' is the response variable and it takes value 1 in case of fraud and 0 otherwise.\n",
        "\n",
        "I will prepare both undersampled and oversampled dataset - cleaned from outliers and perform logistic regression on them in order to compare the results."
      ]
    },
    {
      "cell_type": "markdown",
      "id": "d24e8f95",
      "metadata": {
        "id": "d24e8f95"
      },
      "source": [
        "##### Import dataset"
      ]
    },
    {
      "cell_type": "code",
      "execution_count": 2,
      "id": "2e530bf2",
      "metadata": {
        "id": "2e530bf2"
      },
      "outputs": [],
      "source": [
        "import numpy as np\n",
        "import pandas as pd\n",
        "import matplotlib.pyplot as plt\n",
        "import seaborn as sns\n",
        "from sklearn.preprocessing import StandardScaler\n",
        "from imblearn.under_sampling import RandomUnderSampler\n",
        "from collections import Counter\n",
        "from imblearn.over_sampling import SMOTE\n",
        "from imblearn.pipeline import Pipeline\n",
        "from sklearn.ensemble import IsolationForest\n",
        "from sklearn.model_selection import train_test_split\n",
        "from sklearn.linear_model import LogisticRegression\n",
        "from sklearn.metrics import confusion_matrix\n",
        "from sklearn.metrics import classification_report\n",
        "\n",
        "data = pd.read_csv('/content/creditcard.csv')"
      ]
    },
    {
      "cell_type": "code",
      "execution_count": 3,
      "id": "e3ff8f97",
      "metadata": {
        "colab": {
          "base_uri": "https://localhost:8080/",
          "height": 443
        },
        "id": "e3ff8f97",
        "outputId": "da12b10d-8639-4bdc-cf7d-0432481ac310"
      },
      "outputs": [
        {
          "output_type": "execute_result",
          "data": {
            "text/plain": [
              "        Time        V1        V2        V3        V4        V5        V6  \\\n",
              "0          0 -1.359807 -0.072781  2.536347  1.378155 -0.338321  0.462388   \n",
              "1          0  1.191857  0.266151  0.166480  0.448154  0.060018 -0.082361   \n",
              "2          1 -1.358354 -1.340163  1.773209  0.379780 -0.503198  1.800499   \n",
              "3          1 -0.966272 -0.185226  1.792993 -0.863291 -0.010309  1.247203   \n",
              "4          2 -1.158233  0.877737  1.548718  0.403034 -0.407193  0.095921   \n",
              "...      ...       ...       ...       ...       ...       ...       ...   \n",
              "17913  29027 -0.422159  0.231118  1.666711  0.451976 -0.203598  0.097244   \n",
              "17914  29030  1.177387 -0.215585  0.202972  0.215323 -0.029312  0.601788   \n",
              "17915  29030 -0.553746  0.880858  1.644821 -0.132657  0.120940 -0.267411   \n",
              "17916  29030 -2.844632  3.717960 -7.165428  4.120419 -2.991039 -2.942326   \n",
              "17917  29031  1.050204  0.078269  0.484733  1.349623       NaN       NaN   \n",
              "\n",
              "             V7        V8        V9  ...       V21       V22       V23  \\\n",
              "0      0.239599  0.098698  0.363787  ... -0.018307  0.277838 -0.110474   \n",
              "1     -0.078803  0.085102 -0.255425  ... -0.225775 -0.638672  0.101288   \n",
              "2      0.791461  0.247676 -1.514654  ...  0.247998  0.771679  0.909412   \n",
              "3      0.237609  0.377436 -1.387024  ... -0.108300  0.005274 -0.190321   \n",
              "4      0.592941 -0.270533  0.817739  ... -0.009431  0.798278 -0.137458   \n",
              "...         ...       ...       ...  ...       ...       ...       ...   \n",
              "17913 -0.039666  0.354218  0.062463  ...  0.110909  0.435121 -0.056658   \n",
              "17914 -0.297021  0.188082  0.436370  ... -0.055842  0.075903 -0.187120   \n",
              "17915  0.466892  0.222443 -0.639624  ... -0.133339 -0.348662  0.029947   \n",
              "17916 -4.925187  2.204337 -2.663613  ...  0.894495 -0.340246  0.012222   \n",
              "17917       NaN       NaN       NaN  ...       NaN       NaN       NaN   \n",
              "\n",
              "            V24       V25       V26       V27       V28  Amount  Class  \n",
              "0      0.066928  0.128539 -0.189115  0.133558 -0.021053  149.62    0.0  \n",
              "1     -0.339846  0.167170  0.125895 -0.008983  0.014724    2.69    0.0  \n",
              "2     -0.689281 -0.327642 -0.139097 -0.055353 -0.059752  378.66    0.0  \n",
              "3     -1.175575  0.647376 -0.221929  0.062723  0.061458  123.50    0.0  \n",
              "4      0.141267 -0.206010  0.502292  0.219422  0.215153   69.99    0.0  \n",
              "...         ...       ...       ...       ...       ...     ...    ...  \n",
              "17913  0.265867 -0.548204  0.734013  0.117023  0.130972    9.00    0.0  \n",
              "17914 -0.717798  0.555294  0.731531 -0.022112 -0.010929   25.00    0.0  \n",
              "17915  0.199962 -0.328384  0.071511  0.275487  0.110195    0.89    0.0  \n",
              "17916 -0.059679 -0.104338 -0.295884  1.326228  0.322688   89.99    0.0  \n",
              "17917       NaN       NaN       NaN       NaN       NaN     NaN    NaN  \n",
              "\n",
              "[17918 rows x 31 columns]"
            ],
            "text/html": [
              "\n",
              "  <div id=\"df-73e2300b-a965-4230-ae73-73df9a6237c7\" class=\"colab-df-container\">\n",
              "    <div>\n",
              "<style scoped>\n",
              "    .dataframe tbody tr th:only-of-type {\n",
              "        vertical-align: middle;\n",
              "    }\n",
              "\n",
              "    .dataframe tbody tr th {\n",
              "        vertical-align: top;\n",
              "    }\n",
              "\n",
              "    .dataframe thead th {\n",
              "        text-align: right;\n",
              "    }\n",
              "</style>\n",
              "<table border=\"1\" class=\"dataframe\">\n",
              "  <thead>\n",
              "    <tr style=\"text-align: right;\">\n",
              "      <th></th>\n",
              "      <th>Time</th>\n",
              "      <th>V1</th>\n",
              "      <th>V2</th>\n",
              "      <th>V3</th>\n",
              "      <th>V4</th>\n",
              "      <th>V5</th>\n",
              "      <th>V6</th>\n",
              "      <th>V7</th>\n",
              "      <th>V8</th>\n",
              "      <th>V9</th>\n",
              "      <th>...</th>\n",
              "      <th>V21</th>\n",
              "      <th>V22</th>\n",
              "      <th>V23</th>\n",
              "      <th>V24</th>\n",
              "      <th>V25</th>\n",
              "      <th>V26</th>\n",
              "      <th>V27</th>\n",
              "      <th>V28</th>\n",
              "      <th>Amount</th>\n",
              "      <th>Class</th>\n",
              "    </tr>\n",
              "  </thead>\n",
              "  <tbody>\n",
              "    <tr>\n",
              "      <th>0</th>\n",
              "      <td>0</td>\n",
              "      <td>-1.359807</td>\n",
              "      <td>-0.072781</td>\n",
              "      <td>2.536347</td>\n",
              "      <td>1.378155</td>\n",
              "      <td>-0.338321</td>\n",
              "      <td>0.462388</td>\n",
              "      <td>0.239599</td>\n",
              "      <td>0.098698</td>\n",
              "      <td>0.363787</td>\n",
              "      <td>...</td>\n",
              "      <td>-0.018307</td>\n",
              "      <td>0.277838</td>\n",
              "      <td>-0.110474</td>\n",
              "      <td>0.066928</td>\n",
              "      <td>0.128539</td>\n",
              "      <td>-0.189115</td>\n",
              "      <td>0.133558</td>\n",
              "      <td>-0.021053</td>\n",
              "      <td>149.62</td>\n",
              "      <td>0.0</td>\n",
              "    </tr>\n",
              "    <tr>\n",
              "      <th>1</th>\n",
              "      <td>0</td>\n",
              "      <td>1.191857</td>\n",
              "      <td>0.266151</td>\n",
              "      <td>0.166480</td>\n",
              "      <td>0.448154</td>\n",
              "      <td>0.060018</td>\n",
              "      <td>-0.082361</td>\n",
              "      <td>-0.078803</td>\n",
              "      <td>0.085102</td>\n",
              "      <td>-0.255425</td>\n",
              "      <td>...</td>\n",
              "      <td>-0.225775</td>\n",
              "      <td>-0.638672</td>\n",
              "      <td>0.101288</td>\n",
              "      <td>-0.339846</td>\n",
              "      <td>0.167170</td>\n",
              "      <td>0.125895</td>\n",
              "      <td>-0.008983</td>\n",
              "      <td>0.014724</td>\n",
              "      <td>2.69</td>\n",
              "      <td>0.0</td>\n",
              "    </tr>\n",
              "    <tr>\n",
              "      <th>2</th>\n",
              "      <td>1</td>\n",
              "      <td>-1.358354</td>\n",
              "      <td>-1.340163</td>\n",
              "      <td>1.773209</td>\n",
              "      <td>0.379780</td>\n",
              "      <td>-0.503198</td>\n",
              "      <td>1.800499</td>\n",
              "      <td>0.791461</td>\n",
              "      <td>0.247676</td>\n",
              "      <td>-1.514654</td>\n",
              "      <td>...</td>\n",
              "      <td>0.247998</td>\n",
              "      <td>0.771679</td>\n",
              "      <td>0.909412</td>\n",
              "      <td>-0.689281</td>\n",
              "      <td>-0.327642</td>\n",
              "      <td>-0.139097</td>\n",
              "      <td>-0.055353</td>\n",
              "      <td>-0.059752</td>\n",
              "      <td>378.66</td>\n",
              "      <td>0.0</td>\n",
              "    </tr>\n",
              "    <tr>\n",
              "      <th>3</th>\n",
              "      <td>1</td>\n",
              "      <td>-0.966272</td>\n",
              "      <td>-0.185226</td>\n",
              "      <td>1.792993</td>\n",
              "      <td>-0.863291</td>\n",
              "      <td>-0.010309</td>\n",
              "      <td>1.247203</td>\n",
              "      <td>0.237609</td>\n",
              "      <td>0.377436</td>\n",
              "      <td>-1.387024</td>\n",
              "      <td>...</td>\n",
              "      <td>-0.108300</td>\n",
              "      <td>0.005274</td>\n",
              "      <td>-0.190321</td>\n",
              "      <td>-1.175575</td>\n",
              "      <td>0.647376</td>\n",
              "      <td>-0.221929</td>\n",
              "      <td>0.062723</td>\n",
              "      <td>0.061458</td>\n",
              "      <td>123.50</td>\n",
              "      <td>0.0</td>\n",
              "    </tr>\n",
              "    <tr>\n",
              "      <th>4</th>\n",
              "      <td>2</td>\n",
              "      <td>-1.158233</td>\n",
              "      <td>0.877737</td>\n",
              "      <td>1.548718</td>\n",
              "      <td>0.403034</td>\n",
              "      <td>-0.407193</td>\n",
              "      <td>0.095921</td>\n",
              "      <td>0.592941</td>\n",
              "      <td>-0.270533</td>\n",
              "      <td>0.817739</td>\n",
              "      <td>...</td>\n",
              "      <td>-0.009431</td>\n",
              "      <td>0.798278</td>\n",
              "      <td>-0.137458</td>\n",
              "      <td>0.141267</td>\n",
              "      <td>-0.206010</td>\n",
              "      <td>0.502292</td>\n",
              "      <td>0.219422</td>\n",
              "      <td>0.215153</td>\n",
              "      <td>69.99</td>\n",
              "      <td>0.0</td>\n",
              "    </tr>\n",
              "    <tr>\n",
              "      <th>...</th>\n",
              "      <td>...</td>\n",
              "      <td>...</td>\n",
              "      <td>...</td>\n",
              "      <td>...</td>\n",
              "      <td>...</td>\n",
              "      <td>...</td>\n",
              "      <td>...</td>\n",
              "      <td>...</td>\n",
              "      <td>...</td>\n",
              "      <td>...</td>\n",
              "      <td>...</td>\n",
              "      <td>...</td>\n",
              "      <td>...</td>\n",
              "      <td>...</td>\n",
              "      <td>...</td>\n",
              "      <td>...</td>\n",
              "      <td>...</td>\n",
              "      <td>...</td>\n",
              "      <td>...</td>\n",
              "      <td>...</td>\n",
              "      <td>...</td>\n",
              "    </tr>\n",
              "    <tr>\n",
              "      <th>17913</th>\n",
              "      <td>29027</td>\n",
              "      <td>-0.422159</td>\n",
              "      <td>0.231118</td>\n",
              "      <td>1.666711</td>\n",
              "      <td>0.451976</td>\n",
              "      <td>-0.203598</td>\n",
              "      <td>0.097244</td>\n",
              "      <td>-0.039666</td>\n",
              "      <td>0.354218</td>\n",
              "      <td>0.062463</td>\n",
              "      <td>...</td>\n",
              "      <td>0.110909</td>\n",
              "      <td>0.435121</td>\n",
              "      <td>-0.056658</td>\n",
              "      <td>0.265867</td>\n",
              "      <td>-0.548204</td>\n",
              "      <td>0.734013</td>\n",
              "      <td>0.117023</td>\n",
              "      <td>0.130972</td>\n",
              "      <td>9.00</td>\n",
              "      <td>0.0</td>\n",
              "    </tr>\n",
              "    <tr>\n",
              "      <th>17914</th>\n",
              "      <td>29030</td>\n",
              "      <td>1.177387</td>\n",
              "      <td>-0.215585</td>\n",
              "      <td>0.202972</td>\n",
              "      <td>0.215323</td>\n",
              "      <td>-0.029312</td>\n",
              "      <td>0.601788</td>\n",
              "      <td>-0.297021</td>\n",
              "      <td>0.188082</td>\n",
              "      <td>0.436370</td>\n",
              "      <td>...</td>\n",
              "      <td>-0.055842</td>\n",
              "      <td>0.075903</td>\n",
              "      <td>-0.187120</td>\n",
              "      <td>-0.717798</td>\n",
              "      <td>0.555294</td>\n",
              "      <td>0.731531</td>\n",
              "      <td>-0.022112</td>\n",
              "      <td>-0.010929</td>\n",
              "      <td>25.00</td>\n",
              "      <td>0.0</td>\n",
              "    </tr>\n",
              "    <tr>\n",
              "      <th>17915</th>\n",
              "      <td>29030</td>\n",
              "      <td>-0.553746</td>\n",
              "      <td>0.880858</td>\n",
              "      <td>1.644821</td>\n",
              "      <td>-0.132657</td>\n",
              "      <td>0.120940</td>\n",
              "      <td>-0.267411</td>\n",
              "      <td>0.466892</td>\n",
              "      <td>0.222443</td>\n",
              "      <td>-0.639624</td>\n",
              "      <td>...</td>\n",
              "      <td>-0.133339</td>\n",
              "      <td>-0.348662</td>\n",
              "      <td>0.029947</td>\n",
              "      <td>0.199962</td>\n",
              "      <td>-0.328384</td>\n",
              "      <td>0.071511</td>\n",
              "      <td>0.275487</td>\n",
              "      <td>0.110195</td>\n",
              "      <td>0.89</td>\n",
              "      <td>0.0</td>\n",
              "    </tr>\n",
              "    <tr>\n",
              "      <th>17916</th>\n",
              "      <td>29030</td>\n",
              "      <td>-2.844632</td>\n",
              "      <td>3.717960</td>\n",
              "      <td>-7.165428</td>\n",
              "      <td>4.120419</td>\n",
              "      <td>-2.991039</td>\n",
              "      <td>-2.942326</td>\n",
              "      <td>-4.925187</td>\n",
              "      <td>2.204337</td>\n",
              "      <td>-2.663613</td>\n",
              "      <td>...</td>\n",
              "      <td>0.894495</td>\n",
              "      <td>-0.340246</td>\n",
              "      <td>0.012222</td>\n",
              "      <td>-0.059679</td>\n",
              "      <td>-0.104338</td>\n",
              "      <td>-0.295884</td>\n",
              "      <td>1.326228</td>\n",
              "      <td>0.322688</td>\n",
              "      <td>89.99</td>\n",
              "      <td>0.0</td>\n",
              "    </tr>\n",
              "    <tr>\n",
              "      <th>17917</th>\n",
              "      <td>29031</td>\n",
              "      <td>1.050204</td>\n",
              "      <td>0.078269</td>\n",
              "      <td>0.484733</td>\n",
              "      <td>1.349623</td>\n",
              "      <td>NaN</td>\n",
              "      <td>NaN</td>\n",
              "      <td>NaN</td>\n",
              "      <td>NaN</td>\n",
              "      <td>NaN</td>\n",
              "      <td>...</td>\n",
              "      <td>NaN</td>\n",
              "      <td>NaN</td>\n",
              "      <td>NaN</td>\n",
              "      <td>NaN</td>\n",
              "      <td>NaN</td>\n",
              "      <td>NaN</td>\n",
              "      <td>NaN</td>\n",
              "      <td>NaN</td>\n",
              "      <td>NaN</td>\n",
              "      <td>NaN</td>\n",
              "    </tr>\n",
              "  </tbody>\n",
              "</table>\n",
              "<p>17918 rows × 31 columns</p>\n",
              "</div>\n",
              "    <div class=\"colab-df-buttons\">\n",
              "\n",
              "  <div class=\"colab-df-container\">\n",
              "    <button class=\"colab-df-convert\" onclick=\"convertToInteractive('df-73e2300b-a965-4230-ae73-73df9a6237c7')\"\n",
              "            title=\"Convert this dataframe to an interactive table.\"\n",
              "            style=\"display:none;\">\n",
              "\n",
              "  <svg xmlns=\"http://www.w3.org/2000/svg\" height=\"24px\" viewBox=\"0 -960 960 960\">\n",
              "    <path d=\"M120-120v-720h720v720H120Zm60-500h600v-160H180v160Zm220 220h160v-160H400v160Zm0 220h160v-160H400v160ZM180-400h160v-160H180v160Zm440 0h160v-160H620v160ZM180-180h160v-160H180v160Zm440 0h160v-160H620v160Z\"/>\n",
              "  </svg>\n",
              "    </button>\n",
              "\n",
              "  <style>\n",
              "    .colab-df-container {\n",
              "      display:flex;\n",
              "      gap: 12px;\n",
              "    }\n",
              "\n",
              "    .colab-df-convert {\n",
              "      background-color: #E8F0FE;\n",
              "      border: none;\n",
              "      border-radius: 50%;\n",
              "      cursor: pointer;\n",
              "      display: none;\n",
              "      fill: #1967D2;\n",
              "      height: 32px;\n",
              "      padding: 0 0 0 0;\n",
              "      width: 32px;\n",
              "    }\n",
              "\n",
              "    .colab-df-convert:hover {\n",
              "      background-color: #E2EBFA;\n",
              "      box-shadow: 0px 1px 2px rgba(60, 64, 67, 0.3), 0px 1px 3px 1px rgba(60, 64, 67, 0.15);\n",
              "      fill: #174EA6;\n",
              "    }\n",
              "\n",
              "    .colab-df-buttons div {\n",
              "      margin-bottom: 4px;\n",
              "    }\n",
              "\n",
              "    [theme=dark] .colab-df-convert {\n",
              "      background-color: #3B4455;\n",
              "      fill: #D2E3FC;\n",
              "    }\n",
              "\n",
              "    [theme=dark] .colab-df-convert:hover {\n",
              "      background-color: #434B5C;\n",
              "      box-shadow: 0px 1px 3px 1px rgba(0, 0, 0, 0.15);\n",
              "      filter: drop-shadow(0px 1px 2px rgba(0, 0, 0, 0.3));\n",
              "      fill: #FFFFFF;\n",
              "    }\n",
              "  </style>\n",
              "\n",
              "    <script>\n",
              "      const buttonEl =\n",
              "        document.querySelector('#df-73e2300b-a965-4230-ae73-73df9a6237c7 button.colab-df-convert');\n",
              "      buttonEl.style.display =\n",
              "        google.colab.kernel.accessAllowed ? 'block' : 'none';\n",
              "\n",
              "      async function convertToInteractive(key) {\n",
              "        const element = document.querySelector('#df-73e2300b-a965-4230-ae73-73df9a6237c7');\n",
              "        const dataTable =\n",
              "          await google.colab.kernel.invokeFunction('convertToInteractive',\n",
              "                                                    [key], {});\n",
              "        if (!dataTable) return;\n",
              "\n",
              "        const docLinkHtml = 'Like what you see? Visit the ' +\n",
              "          '<a target=\"_blank\" href=https://colab.research.google.com/notebooks/data_table.ipynb>data table notebook</a>'\n",
              "          + ' to learn more about interactive tables.';\n",
              "        element.innerHTML = '';\n",
              "        dataTable['output_type'] = 'display_data';\n",
              "        await google.colab.output.renderOutput(dataTable, element);\n",
              "        const docLink = document.createElement('div');\n",
              "        docLink.innerHTML = docLinkHtml;\n",
              "        element.appendChild(docLink);\n",
              "      }\n",
              "    </script>\n",
              "  </div>\n",
              "\n",
              "\n",
              "<div id=\"df-816fb841-d044-4e48-8709-5a10a30f1039\">\n",
              "  <button class=\"colab-df-quickchart\" onclick=\"quickchart('df-816fb841-d044-4e48-8709-5a10a30f1039')\"\n",
              "            title=\"Suggest charts\"\n",
              "            style=\"display:none;\">\n",
              "\n",
              "<svg xmlns=\"http://www.w3.org/2000/svg\" height=\"24px\"viewBox=\"0 0 24 24\"\n",
              "     width=\"24px\">\n",
              "    <g>\n",
              "        <path d=\"M19 3H5c-1.1 0-2 .9-2 2v14c0 1.1.9 2 2 2h14c1.1 0 2-.9 2-2V5c0-1.1-.9-2-2-2zM9 17H7v-7h2v7zm4 0h-2V7h2v10zm4 0h-2v-4h2v4z\"/>\n",
              "    </g>\n",
              "</svg>\n",
              "  </button>\n",
              "\n",
              "<style>\n",
              "  .colab-df-quickchart {\n",
              "      --bg-color: #E8F0FE;\n",
              "      --fill-color: #1967D2;\n",
              "      --hover-bg-color: #E2EBFA;\n",
              "      --hover-fill-color: #174EA6;\n",
              "      --disabled-fill-color: #AAA;\n",
              "      --disabled-bg-color: #DDD;\n",
              "  }\n",
              "\n",
              "  [theme=dark] .colab-df-quickchart {\n",
              "      --bg-color: #3B4455;\n",
              "      --fill-color: #D2E3FC;\n",
              "      --hover-bg-color: #434B5C;\n",
              "      --hover-fill-color: #FFFFFF;\n",
              "      --disabled-bg-color: #3B4455;\n",
              "      --disabled-fill-color: #666;\n",
              "  }\n",
              "\n",
              "  .colab-df-quickchart {\n",
              "    background-color: var(--bg-color);\n",
              "    border: none;\n",
              "    border-radius: 50%;\n",
              "    cursor: pointer;\n",
              "    display: none;\n",
              "    fill: var(--fill-color);\n",
              "    height: 32px;\n",
              "    padding: 0;\n",
              "    width: 32px;\n",
              "  }\n",
              "\n",
              "  .colab-df-quickchart:hover {\n",
              "    background-color: var(--hover-bg-color);\n",
              "    box-shadow: 0 1px 2px rgba(60, 64, 67, 0.3), 0 1px 3px 1px rgba(60, 64, 67, 0.15);\n",
              "    fill: var(--button-hover-fill-color);\n",
              "  }\n",
              "\n",
              "  .colab-df-quickchart-complete:disabled,\n",
              "  .colab-df-quickchart-complete:disabled:hover {\n",
              "    background-color: var(--disabled-bg-color);\n",
              "    fill: var(--disabled-fill-color);\n",
              "    box-shadow: none;\n",
              "  }\n",
              "\n",
              "  .colab-df-spinner {\n",
              "    border: 2px solid var(--fill-color);\n",
              "    border-color: transparent;\n",
              "    border-bottom-color: var(--fill-color);\n",
              "    animation:\n",
              "      spin 1s steps(1) infinite;\n",
              "  }\n",
              "\n",
              "  @keyframes spin {\n",
              "    0% {\n",
              "      border-color: transparent;\n",
              "      border-bottom-color: var(--fill-color);\n",
              "      border-left-color: var(--fill-color);\n",
              "    }\n",
              "    20% {\n",
              "      border-color: transparent;\n",
              "      border-left-color: var(--fill-color);\n",
              "      border-top-color: var(--fill-color);\n",
              "    }\n",
              "    30% {\n",
              "      border-color: transparent;\n",
              "      border-left-color: var(--fill-color);\n",
              "      border-top-color: var(--fill-color);\n",
              "      border-right-color: var(--fill-color);\n",
              "    }\n",
              "    40% {\n",
              "      border-color: transparent;\n",
              "      border-right-color: var(--fill-color);\n",
              "      border-top-color: var(--fill-color);\n",
              "    }\n",
              "    60% {\n",
              "      border-color: transparent;\n",
              "      border-right-color: var(--fill-color);\n",
              "    }\n",
              "    80% {\n",
              "      border-color: transparent;\n",
              "      border-right-color: var(--fill-color);\n",
              "      border-bottom-color: var(--fill-color);\n",
              "    }\n",
              "    90% {\n",
              "      border-color: transparent;\n",
              "      border-bottom-color: var(--fill-color);\n",
              "    }\n",
              "  }\n",
              "</style>\n",
              "\n",
              "  <script>\n",
              "    async function quickchart(key) {\n",
              "      const quickchartButtonEl =\n",
              "        document.querySelector('#' + key + ' button');\n",
              "      quickchartButtonEl.disabled = true;  // To prevent multiple clicks.\n",
              "      quickchartButtonEl.classList.add('colab-df-spinner');\n",
              "      try {\n",
              "        const charts = await google.colab.kernel.invokeFunction(\n",
              "            'suggestCharts', [key], {});\n",
              "      } catch (error) {\n",
              "        console.error('Error during call to suggestCharts:', error);\n",
              "      }\n",
              "      quickchartButtonEl.classList.remove('colab-df-spinner');\n",
              "      quickchartButtonEl.classList.add('colab-df-quickchart-complete');\n",
              "    }\n",
              "    (() => {\n",
              "      let quickchartButtonEl =\n",
              "        document.querySelector('#df-816fb841-d044-4e48-8709-5a10a30f1039 button');\n",
              "      quickchartButtonEl.style.display =\n",
              "        google.colab.kernel.accessAllowed ? 'block' : 'none';\n",
              "    })();\n",
              "  </script>\n",
              "</div>\n",
              "    </div>\n",
              "  </div>\n"
            ]
          },
          "metadata": {},
          "execution_count": 3
        }
      ],
      "source": [
        "data"
      ]
    },
    {
      "cell_type": "markdown",
      "source": [
        "#### Let's carry out first the sanity check to understand the data structure, missing values."
      ],
      "metadata": {
        "id": "Bt2QEeukQ6NY"
      },
      "id": "Bt2QEeukQ6NY"
    },
    {
      "cell_type": "code",
      "source": [
        "data.info()"
      ],
      "metadata": {
        "colab": {
          "base_uri": "https://localhost:8080/"
        },
        "id": "uc3fkOPUPNL8",
        "outputId": "8c22383e-2aed-4994-9ecf-db8f5dec15fc"
      },
      "id": "uc3fkOPUPNL8",
      "execution_count": 4,
      "outputs": [
        {
          "output_type": "stream",
          "name": "stdout",
          "text": [
            "<class 'pandas.core.frame.DataFrame'>\n",
            "RangeIndex: 17918 entries, 0 to 17917\n",
            "Data columns (total 31 columns):\n",
            " #   Column  Non-Null Count  Dtype  \n",
            "---  ------  --------------  -----  \n",
            " 0   Time    17918 non-null  int64  \n",
            " 1   V1      17918 non-null  float64\n",
            " 2   V2      17918 non-null  float64\n",
            " 3   V3      17918 non-null  float64\n",
            " 4   V4      17918 non-null  float64\n",
            " 5   V5      17917 non-null  float64\n",
            " 6   V6      17917 non-null  float64\n",
            " 7   V7      17917 non-null  float64\n",
            " 8   V8      17917 non-null  float64\n",
            " 9   V9      17917 non-null  float64\n",
            " 10  V10     17917 non-null  float64\n",
            " 11  V11     17917 non-null  float64\n",
            " 12  V12     17917 non-null  float64\n",
            " 13  V13     17917 non-null  float64\n",
            " 14  V14     17917 non-null  float64\n",
            " 15  V15     17917 non-null  float64\n",
            " 16  V16     17917 non-null  float64\n",
            " 17  V17     17917 non-null  float64\n",
            " 18  V18     17917 non-null  float64\n",
            " 19  V19     17917 non-null  float64\n",
            " 20  V20     17917 non-null  float64\n",
            " 21  V21     17917 non-null  float64\n",
            " 22  V22     17917 non-null  float64\n",
            " 23  V23     17917 non-null  float64\n",
            " 24  V24     17917 non-null  float64\n",
            " 25  V25     17917 non-null  float64\n",
            " 26  V26     17917 non-null  float64\n",
            " 27  V27     17917 non-null  float64\n",
            " 28  V28     17917 non-null  float64\n",
            " 29  Amount  17917 non-null  float64\n",
            " 30  Class   17917 non-null  float64\n",
            "dtypes: float64(30), int64(1)\n",
            "memory usage: 4.2 MB\n"
          ]
        }
      ]
    },
    {
      "cell_type": "code",
      "source": [
        "data.isnull().sum()"
      ],
      "metadata": {
        "colab": {
          "base_uri": "https://localhost:8080/"
        },
        "id": "p1v8lKirQKl5",
        "outputId": "a2374e9c-9298-4aa8-ef24-3f46ef73b355"
      },
      "id": "p1v8lKirQKl5",
      "execution_count": 5,
      "outputs": [
        {
          "output_type": "execute_result",
          "data": {
            "text/plain": [
              "Time      0\n",
              "V1        0\n",
              "V2        0\n",
              "V3        0\n",
              "V4        0\n",
              "V5        1\n",
              "V6        1\n",
              "V7        1\n",
              "V8        1\n",
              "V9        1\n",
              "V10       1\n",
              "V11       1\n",
              "V12       1\n",
              "V13       1\n",
              "V14       1\n",
              "V15       1\n",
              "V16       1\n",
              "V17       1\n",
              "V18       1\n",
              "V19       1\n",
              "V20       1\n",
              "V21       1\n",
              "V22       1\n",
              "V23       1\n",
              "V24       1\n",
              "V25       1\n",
              "V26       1\n",
              "V27       1\n",
              "V28       1\n",
              "Amount    1\n",
              "Class     1\n",
              "dtype: int64"
            ]
          },
          "metadata": {},
          "execution_count": 5
        }
      ]
    },
    {
      "cell_type": "markdown",
      "source": [
        "Since there are only 5 missing values in the very last row, we can drop it."
      ],
      "metadata": {
        "id": "YPebycclRGUV"
      },
      "id": "YPebycclRGUV"
    },
    {
      "cell_type": "code",
      "source": [
        "data.dropna(inplace=True)"
      ],
      "metadata": {
        "id": "QoQRn-J2PoO4"
      },
      "id": "QoQRn-J2PoO4",
      "execution_count": 6,
      "outputs": []
    },
    {
      "cell_type": "markdown",
      "id": "5ab8e6c2",
      "metadata": {
        "id": "5ab8e6c2"
      },
      "source": [
        "###### Count Values"
      ]
    },
    {
      "cell_type": "markdown",
      "source": [
        "Highly imbalanced dataset - majority of the class is 0 which are the non-freud ones."
      ],
      "metadata": {
        "id": "1QxvzUSoSDyC"
      },
      "id": "1QxvzUSoSDyC"
    },
    {
      "cell_type": "code",
      "execution_count": 7,
      "id": "8f8d21f0",
      "metadata": {
        "colab": {
          "base_uri": "https://localhost:8080/",
          "height": 466
        },
        "id": "8f8d21f0",
        "outputId": "73226d78-476b-47e8-c785-3d8b887a3680"
      },
      "outputs": [
        {
          "output_type": "execute_result",
          "data": {
            "text/plain": [
              "<Axes: xlabel='Class', ylabel='count'>"
            ]
          },
          "metadata": {},
          "execution_count": 7
        },
        {
          "output_type": "display_data",
          "data": {
            "text/plain": [
              "<Figure size 640x480 with 1 Axes>"
            ],
            "image/png": "[encoded data removed]"
          },
          "metadata": {}
        }
      ],
      "source": [
        "sns.countplot(data, x=data['Class'])"
      ]
    },
    {
      "cell_type": "code",
      "execution_count": 8,
      "id": "ae7f0c27",
      "metadata": {
        "id": "ae7f0c27",
        "outputId": "28697b33-21ed-4c20-d841-fc60c545e3b7",
        "colab": {
          "base_uri": "https://localhost:8080/"
        }
      },
      "outputs": [
        {
          "output_type": "execute_result",
          "data": {
            "text/plain": [
              "0.0    17836\n",
              "1.0       81\n",
              "Name: Class, dtype: int64"
            ]
          },
          "metadata": {},
          "execution_count": 8
        }
      ],
      "source": [
        "data['Class'].value_counts()"
      ]
    },
    {
      "cell_type": "code",
      "execution_count": 9,
      "id": "4cfb95d7",
      "metadata": {
        "id": "4cfb95d7"
      },
      "outputs": [],
      "source": [
        "class_0 = data[data['Class']==0]\n",
        "class_1 = data[data['Class']==1]"
      ]
    },
    {
      "cell_type": "code",
      "execution_count": 10,
      "id": "578fa9bd",
      "metadata": {
        "id": "578fa9bd",
        "outputId": "884bea3f-b7c5-4c4c-d255-eeacb1261bd3",
        "colab": {
          "base_uri": "https://localhost:8080/"
        }
      },
      "outputs": [
        {
          "output_type": "stream",
          "name": "stdout",
          "text": [
            "(17836, 31)\n"
          ]
        }
      ],
      "source": [
        "print(class_0.shape)"
      ]
    },
    {
      "cell_type": "code",
      "execution_count": 11,
      "id": "fc5e98cb",
      "metadata": {
        "id": "fc5e98cb",
        "outputId": "be560be7-1004-42ef-d342-25b1e462d06d",
        "colab": {
          "base_uri": "https://localhost:8080/"
        }
      },
      "outputs": [
        {
          "output_type": "stream",
          "name": "stdout",
          "text": [
            "(81, 31)\n"
          ]
        }
      ],
      "source": [
        "print(class_1.shape)"
      ]
    },
    {
      "cell_type": "markdown",
      "source": [
        "Since V1-V28 values are scaled (between 0 and 1), therefore we need to check the time and the amount variables as well before we move on to handling the Class target variable."
      ],
      "metadata": {
        "id": "TIQi0Dm3TAjr"
      },
      "id": "TIQi0Dm3TAjr"
    },
    {
      "cell_type": "code",
      "source": [
        "scaler = StandardScaler()"
      ],
      "metadata": {
        "id": "DudaI9gPUhvs"
      },
      "id": "DudaI9gPUhvs",
      "execution_count": 12,
      "outputs": []
    },
    {
      "cell_type": "code",
      "source": [
        "data['Amount_scaled'] = scaler.fit_transform(data['Amount'].values.reshape(-1,1))\n",
        "data['Time_scaled'] = scaler.fit_transform(data['Time'].values.reshape(-1,1))\n",
        "\n",
        "data.drop(['Time','Amount'], axis=1, inplace=True)"
      ],
      "metadata": {
        "id": "b2clGJjtUkZu"
      },
      "id": "b2clGJjtUkZu",
      "execution_count": 13,
      "outputs": []
    },
    {
      "cell_type": "code",
      "source": [
        "data"
      ],
      "metadata": {
        "colab": {
          "base_uri": "https://localhost:8080/",
          "height": 443
        },
        "id": "8mGClWJRXCJW",
        "outputId": "e068a02d-db8a-4158-8662-c23d029aec22"
      },
      "id": "8mGClWJRXCJW",
      "execution_count": 14,
      "outputs": [
        {
          "output_type": "execute_result",
          "data": {
            "text/plain": [
              "             V1        V2        V3        V4        V5        V6        V7  \\\n",
              "0     -1.359807 -0.072781  2.536347  1.378155 -0.338321  0.462388  0.239599   \n",
              "1      1.191857  0.266151  0.166480  0.448154  0.060018 -0.082361 -0.078803   \n",
              "2     -1.358354 -1.340163  1.773209  0.379780 -0.503198  1.800499  0.791461   \n",
              "3     -0.966272 -0.185226  1.792993 -0.863291 -0.010309  1.247203  0.237609   \n",
              "4     -1.158233  0.877737  1.548718  0.403034 -0.407193  0.095921  0.592941   \n",
              "...         ...       ...       ...       ...       ...       ...       ...   \n",
              "17912  1.412874 -0.525224 -0.064590 -0.917303 -0.575127 -0.460097 -0.492201   \n",
              "17913 -0.422159  0.231118  1.666711  0.451976 -0.203598  0.097244 -0.039666   \n",
              "17914  1.177387 -0.215585  0.202972  0.215323 -0.029312  0.601788 -0.297021   \n",
              "17915 -0.553746  0.880858  1.644821 -0.132657  0.120940 -0.267411  0.466892   \n",
              "17916 -2.844632  3.717960 -7.165428  4.120419 -2.991039 -2.942326 -4.925187   \n",
              "\n",
              "             V8        V9       V10  ...       V22       V23       V24  \\\n",
              "0      0.098698  0.363787  0.090794  ...  0.277838 -0.110474  0.066928   \n",
              "1      0.085102 -0.255425 -0.166974  ... -0.638672  0.101288 -0.339846   \n",
              "2      0.247676 -1.514654  0.207643  ...  0.771679  0.909412 -0.689281   \n",
              "3      0.377436 -1.387024 -0.054952  ...  0.005274 -0.190321 -1.175575   \n",
              "4     -0.270533  0.817739  0.753074  ...  0.798278 -0.137458  0.141267   \n",
              "...         ...       ...       ...  ...       ...       ...       ...   \n",
              "17912 -0.081752 -1.062077  0.831941  ...  0.504571 -0.215697 -0.317648   \n",
              "17913  0.354218  0.062463 -0.267672  ...  0.435121 -0.056658  0.265867   \n",
              "17914  0.188082  0.436370 -0.199326  ...  0.075903 -0.187120 -0.717798   \n",
              "17915  0.222443 -0.639624 -0.174843  ... -0.348662  0.029947  0.199962   \n",
              "17916  2.204337 -2.663613 -6.888367  ... -0.340246  0.012222 -0.059679   \n",
              "\n",
              "            V25       V26       V27       V28  Class  Amount_scaled  \\\n",
              "0      0.128539 -0.189115  0.133558 -0.021053    0.0       0.434064   \n",
              "1      0.167170  0.125895 -0.008983  0.014724    0.0      -0.342606   \n",
              "2     -0.327642 -0.139097 -0.055353 -0.059752    0.0       1.644767   \n",
              "3      0.647376 -0.221929  0.062723  0.061458    0.0       0.295994   \n",
              "4     -0.206010  0.502292  0.219422  0.215153    0.0       0.013141   \n",
              "...         ...       ...       ...       ...    ...            ...   \n",
              "17912  0.678751 -0.091695 -0.014617 -0.005543    0.0      -0.246348   \n",
              "17913 -0.548204  0.734013  0.117023  0.130972    0.0      -0.309251   \n",
              "17914  0.555294  0.731531 -0.022112 -0.010929    0.0      -0.224676   \n",
              "17915 -0.328384  0.071511  0.275487  0.110195    0.0      -0.352121   \n",
              "17916 -0.104338 -0.295884  1.326228  0.322688    0.0       0.118861   \n",
              "\n",
              "       Time_scaled  \n",
              "0        -1.409147  \n",
              "1        -1.409147  \n",
              "2        -1.409046  \n",
              "3        -1.409046  \n",
              "4        -1.408944  \n",
              "...            ...  \n",
              "17912     1.532599  \n",
              "17913     1.532599  \n",
              "17914     1.532903  \n",
              "17915     1.532903  \n",
              "17916     1.532903  \n",
              "\n",
              "[17917 rows x 31 columns]"
            ],
            "text/html": [
              "\n",
              "  <div id=\"df-9e29db9f-c3fc-4bdf-9871-ac2f9a42bffe\" class=\"colab-df-container\">\n",
              "    <div>\n",
              "<style scoped>\n",
              "    .dataframe tbody tr th:only-of-type {\n",
              "        vertical-align: middle;\n",
              "    }\n",
              "\n",
              "    .dataframe tbody tr th {\n",
              "        vertical-align: top;\n",
              "    }\n",
              "\n",
              "    .dataframe thead th {\n",
              "        text-align: right;\n",
              "    }\n",
              "</style>\n",
              "<table border=\"1\" class=\"dataframe\">\n",
              "  <thead>\n",
              "    <tr style=\"text-align: right;\">\n",
              "      <th></th>\n",
              "      <th>V1</th>\n",
              "      <th>V2</th>\n",
              "      <th>V3</th>\n",
              "      <th>V4</th>\n",
              "      <th>V5</th>\n",
              "      <th>V6</th>\n",
              "      <th>V7</th>\n",
              "      <th>V8</th>\n",
              "      <th>V9</th>\n",
              "      <th>V10</th>\n",
              "      <th>...</th>\n",
              "      <th>V22</th>\n",
              "      <th>V23</th>\n",
              "      <th>V24</th>\n",
              "      <th>V25</th>\n",
              "      <th>V26</th>\n",
              "      <th>V27</th>\n",
              "      <th>V28</th>\n",
              "      <th>Class</th>\n",
              "      <th>Amount_scaled</th>\n",
              "      <th>Time_scaled</th>\n",
              "    </tr>\n",
              "  </thead>\n",
              "  <tbody>\n",
              "    <tr>\n",
              "      <th>0</th>\n",
              "      <td>-1.359807</td>\n",
              "      <td>-0.072781</td>\n",
              "      <td>2.536347</td>\n",
              "      <td>1.378155</td>\n",
              "      <td>-0.338321</td>\n",
              "      <td>0.462388</td>\n",
              "      <td>0.239599</td>\n",
              "      <td>0.098698</td>\n",
              "      <td>0.363787</td>\n",
              "      <td>0.090794</td>\n",
              "      <td>...</td>\n",
              "      <td>0.277838</td>\n",
              "      <td>-0.110474</td>\n",
              "      <td>0.066928</td>\n",
              "      <td>0.128539</td>\n",
              "      <td>-0.189115</td>\n",
              "      <td>0.133558</td>\n",
              "      <td>-0.021053</td>\n",
              "      <td>0.0</td>\n",
              "      <td>0.434064</td>\n",
              "      <td>-1.409147</td>\n",
              "    </tr>\n",
              "    <tr>\n",
              "      <th>1</th>\n",
              "      <td>1.191857</td>\n",
              "      <td>0.266151</td>\n",
              "      <td>0.166480</td>\n",
              "      <td>0.448154</td>\n",
              "      <td>0.060018</td>\n",
              "      <td>-0.082361</td>\n",
              "      <td>-0.078803</td>\n",
              "      <td>0.085102</td>\n",
              "      <td>-0.255425</td>\n",
              "      <td>-0.166974</td>\n",
              "      <td>...</td>\n",
              "      <td>-0.638672</td>\n",
              "      <td>0.101288</td>\n",
              "      <td>-0.339846</td>\n",
              "      <td>0.167170</td>\n",
              "      <td>0.125895</td>\n",
              "      <td>-0.008983</td>\n",
              "      <td>0.014724</td>\n",
              "      <td>0.0</td>\n",
              "      <td>-0.342606</td>\n",
              "      <td>-1.409147</td>\n",
              "    </tr>\n",
              "    <tr>\n",
              "      <th>2</th>\n",
              "      <td>-1.358354</td>\n",
              "      <td>-1.340163</td>\n",
              "      <td>1.773209</td>\n",
              "      <td>0.379780</td>\n",
              "      <td>-0.503198</td>\n",
              "      <td>1.800499</td>\n",
              "      <td>0.791461</td>\n",
              "      <td>0.247676</td>\n",
              "      <td>-1.514654</td>\n",
              "      <td>0.207643</td>\n",
              "      <td>...</td>\n",
              "      <td>0.771679</td>\n",
              "      <td>0.909412</td>\n",
              "      <td>-0.689281</td>\n",
              "      <td>-0.327642</td>\n",
              "      <td>-0.139097</td>\n",
              "      <td>-0.055353</td>\n",
              "      <td>-0.059752</td>\n",
              "      <td>0.0</td>\n",
              "      <td>1.644767</td>\n",
              "      <td>-1.409046</td>\n",
              "    </tr>\n",
              "    <tr>\n",
              "      <th>3</th>\n",
              "      <td>-0.966272</td>\n",
              "      <td>-0.185226</td>\n",
              "      <td>1.792993</td>\n",
              "      <td>-0.863291</td>\n",
              "      <td>-0.010309</td>\n",
              "      <td>1.247203</td>\n",
              "      <td>0.237609</td>\n",
              "      <td>0.377436</td>\n",
              "      <td>-1.387024</td>\n",
              "      <td>-0.054952</td>\n",
              "      <td>...</td>\n",
              "      <td>0.005274</td>\n",
              "      <td>-0.190321</td>\n",
              "      <td>-1.175575</td>\n",
              "      <td>0.647376</td>\n",
              "      <td>-0.221929</td>\n",
              "      <td>0.062723</td>\n",
              "      <td>0.061458</td>\n",
              "      <td>0.0</td>\n",
              "      <td>0.295994</td>\n",
              "      <td>-1.409046</td>\n",
              "    </tr>\n",
              "    <tr>\n",
              "      <th>4</th>\n",
              "      <td>-1.158233</td>\n",
              "      <td>0.877737</td>\n",
              "      <td>1.548718</td>\n",
              "      <td>0.403034</td>\n",
              "      <td>-0.407193</td>\n",
              "      <td>0.095921</td>\n",
              "      <td>0.592941</td>\n",
              "      <td>-0.270533</td>\n",
              "      <td>0.817739</td>\n",
              "      <td>0.753074</td>\n",
              "      <td>...</td>\n",
              "      <td>0.798278</td>\n",
              "      <td>-0.137458</td>\n",
              "      <td>0.141267</td>\n",
              "      <td>-0.206010</td>\n",
              "      <td>0.502292</td>\n",
              "      <td>0.219422</td>\n",
              "      <td>0.215153</td>\n",
              "      <td>0.0</td>\n",
              "      <td>0.013141</td>\n",
              "      <td>-1.408944</td>\n",
              "    </tr>\n",
              "    <tr>\n",
              "      <th>...</th>\n",
              "      <td>...</td>\n",
              "      <td>...</td>\n",
              "      <td>...</td>\n",
              "      <td>...</td>\n",
              "      <td>...</td>\n",
              "      <td>...</td>\n",
              "      <td>...</td>\n",
              "      <td>...</td>\n",
              "      <td>...</td>\n",
              "      <td>...</td>\n",
              "      <td>...</td>\n",
              "      <td>...</td>\n",
              "      <td>...</td>\n",
              "      <td>...</td>\n",
              "      <td>...</td>\n",
              "      <td>...</td>\n",
              "      <td>...</td>\n",
              "      <td>...</td>\n",
              "      <td>...</td>\n",
              "      <td>...</td>\n",
              "      <td>...</td>\n",
              "    </tr>\n",
              "    <tr>\n",
              "      <th>17912</th>\n",
              "      <td>1.412874</td>\n",
              "      <td>-0.525224</td>\n",
              "      <td>-0.064590</td>\n",
              "      <td>-0.917303</td>\n",
              "      <td>-0.575127</td>\n",
              "      <td>-0.460097</td>\n",
              "      <td>-0.492201</td>\n",
              "      <td>-0.081752</td>\n",
              "      <td>-1.062077</td>\n",
              "      <td>0.831941</td>\n",
              "      <td>...</td>\n",
              "      <td>0.504571</td>\n",
              "      <td>-0.215697</td>\n",
              "      <td>-0.317648</td>\n",
              "      <td>0.678751</td>\n",
              "      <td>-0.091695</td>\n",
              "      <td>-0.014617</td>\n",
              "      <td>-0.005543</td>\n",
              "      <td>0.0</td>\n",
              "      <td>-0.246348</td>\n",
              "      <td>1.532599</td>\n",
              "    </tr>\n",
              "    <tr>\n",
              "      <th>17913</th>\n",
              "      <td>-0.422159</td>\n",
              "      <td>0.231118</td>\n",
              "      <td>1.666711</td>\n",
              "      <td>0.451976</td>\n",
              "      <td>-0.203598</td>\n",
              "      <td>0.097244</td>\n",
              "      <td>-0.039666</td>\n",
              "      <td>0.354218</td>\n",
              "      <td>0.062463</td>\n",
              "      <td>-0.267672</td>\n",
              "      <td>...</td>\n",
              "      <td>0.435121</td>\n",
              "      <td>-0.056658</td>\n",
              "      <td>0.265867</td>\n",
              "      <td>-0.548204</td>\n",
              "      <td>0.734013</td>\n",
              "      <td>0.117023</td>\n",
              "      <td>0.130972</td>\n",
              "      <td>0.0</td>\n",
              "      <td>-0.309251</td>\n",
              "      <td>1.532599</td>\n",
              "    </tr>\n",
              "    <tr>\n",
              "      <th>17914</th>\n",
              "      <td>1.177387</td>\n",
              "      <td>-0.215585</td>\n",
              "      <td>0.202972</td>\n",
              "      <td>0.215323</td>\n",
              "      <td>-0.029312</td>\n",
              "      <td>0.601788</td>\n",
              "      <td>-0.297021</td>\n",
              "      <td>0.188082</td>\n",
              "      <td>0.436370</td>\n",
              "      <td>-0.199326</td>\n",
              "      <td>...</td>\n",
              "      <td>0.075903</td>\n",
              "      <td>-0.187120</td>\n",
              "      <td>-0.717798</td>\n",
              "      <td>0.555294</td>\n",
              "      <td>0.731531</td>\n",
              "      <td>-0.022112</td>\n",
              "      <td>-0.010929</td>\n",
              "      <td>0.0</td>\n",
              "      <td>-0.224676</td>\n",
              "      <td>1.532903</td>\n",
              "    </tr>\n",
              "    <tr>\n",
              "      <th>17915</th>\n",
              "      <td>-0.553746</td>\n",
              "      <td>0.880858</td>\n",
              "      <td>1.644821</td>\n",
              "      <td>-0.132657</td>\n",
              "      <td>0.120940</td>\n",
              "      <td>-0.267411</td>\n",
              "      <td>0.466892</td>\n",
              "      <td>0.222443</td>\n",
              "      <td>-0.639624</td>\n",
              "      <td>-0.174843</td>\n",
              "      <td>...</td>\n",
              "      <td>-0.348662</td>\n",
              "      <td>0.029947</td>\n",
              "      <td>0.199962</td>\n",
              "      <td>-0.328384</td>\n",
              "      <td>0.071511</td>\n",
              "      <td>0.275487</td>\n",
              "      <td>0.110195</td>\n",
              "      <td>0.0</td>\n",
              "      <td>-0.352121</td>\n",
              "      <td>1.532903</td>\n",
              "    </tr>\n",
              "    <tr>\n",
              "      <th>17916</th>\n",
              "      <td>-2.844632</td>\n",
              "      <td>3.717960</td>\n",
              "      <td>-7.165428</td>\n",
              "      <td>4.120419</td>\n",
              "      <td>-2.991039</td>\n",
              "      <td>-2.942326</td>\n",
              "      <td>-4.925187</td>\n",
              "      <td>2.204337</td>\n",
              "      <td>-2.663613</td>\n",
              "      <td>-6.888367</td>\n",
              "      <td>...</td>\n",
              "      <td>-0.340246</td>\n",
              "      <td>0.012222</td>\n",
              "      <td>-0.059679</td>\n",
              "      <td>-0.104338</td>\n",
              "      <td>-0.295884</td>\n",
              "      <td>1.326228</td>\n",
              "      <td>0.322688</td>\n",
              "      <td>0.0</td>\n",
              "      <td>0.118861</td>\n",
              "      <td>1.532903</td>\n",
              "    </tr>\n",
              "  </tbody>\n",
              "</table>\n",
              "<p>17917 rows × 31 columns</p>\n",
              "</div>\n",
              "    <div class=\"colab-df-buttons\">\n",
              "\n",
              "  <div class=\"colab-df-container\">\n",
              "    <button class=\"colab-df-convert\" onclick=\"convertToInteractive('df-9e29db9f-c3fc-4bdf-9871-ac2f9a42bffe')\"\n",
              "            title=\"Convert this dataframe to an interactive table.\"\n",
              "            style=\"display:none;\">\n",
              "\n",
              "  <svg xmlns=\"http://www.w3.org/2000/svg\" height=\"24px\" viewBox=\"0 -960 960 960\">\n",
              "    <path d=\"M120-120v-720h720v720H120Zm60-500h600v-160H180v160Zm220 220h160v-160H400v160Zm0 220h160v-160H400v160ZM180-400h160v-160H180v160Zm440 0h160v-160H620v160ZM180-180h160v-160H180v160Zm440 0h160v-160H620v160Z\"/>\n",
              "  </svg>\n",
              "    </button>\n",
              "\n",
              "  <style>\n",
              "    .colab-df-container {\n",
              "      display:flex;\n",
              "      gap: 12px;\n",
              "    }\n",
              "\n",
              "    .colab-df-convert {\n",
              "      background-color: #E8F0FE;\n",
              "      border: none;\n",
              "      border-radius: 50%;\n",
              "      cursor: pointer;\n",
              "      display: none;\n",
              "      fill: #1967D2;\n",
              "      height: 32px;\n",
              "      padding: 0 0 0 0;\n",
              "      width: 32px;\n",
              "    }\n",
              "\n",
              "    .colab-df-convert:hover {\n",
              "      background-color: #E2EBFA;\n",
              "      box-shadow: 0px 1px 2px rgba(60, 64, 67, 0.3), 0px 1px 3px 1px rgba(60, 64, 67, 0.15);\n",
              "      fill: #174EA6;\n",
              "    }\n",
              "\n",
              "    .colab-df-buttons div {\n",
              "      margin-bottom: 4px;\n",
              "    }\n",
              "\n",
              "    [theme=dark] .colab-df-convert {\n",
              "      background-color: #3B4455;\n",
              "      fill: #D2E3FC;\n",
              "    }\n",
              "\n",
              "    [theme=dark] .colab-df-convert:hover {\n",
              "      background-color: #434B5C;\n",
              "      box-shadow: 0px 1px 3px 1px rgba(0, 0, 0, 0.15);\n",
              "      filter: drop-shadow(0px 1px 2px rgba(0, 0, 0, 0.3));\n",
              "      fill: #FFFFFF;\n",
              "    }\n",
              "  </style>\n",
              "\n",
              "    <script>\n",
              "      const buttonEl =\n",
              "        document.querySelector('#df-9e29db9f-c3fc-4bdf-9871-ac2f9a42bffe button.colab-df-convert');\n",
              "      buttonEl.style.display =\n",
              "        google.colab.kernel.accessAllowed ? 'block' : 'none';\n",
              "\n",
              "      async function convertToInteractive(key) {\n",
              "        const element = document.querySelector('#df-9e29db9f-c3fc-4bdf-9871-ac2f9a42bffe');\n",
              "        const dataTable =\n",
              "          await google.colab.kernel.invokeFunction('convertToInteractive',\n",
              "                                                    [key], {});\n",
              "        if (!dataTable) return;\n",
              "\n",
              "        const docLinkHtml = 'Like what you see? Visit the ' +\n",
              "          '<a target=\"_blank\" href=https://colab.research.google.com/notebooks/data_table.ipynb>data table notebook</a>'\n",
              "          + ' to learn more about interactive tables.';\n",
              "        element.innerHTML = '';\n",
              "        dataTable['output_type'] = 'display_data';\n",
              "        await google.colab.output.renderOutput(dataTable, element);\n",
              "        const docLink = document.createElement('div');\n",
              "        docLink.innerHTML = docLinkHtml;\n",
              "        element.appendChild(docLink);\n",
              "      }\n",
              "    </script>\n",
              "  </div>\n",
              "\n",
              "\n",
              "<div id=\"df-0c9837f4-1b64-4edd-bbf3-5d825ff7128e\">\n",
              "  <button class=\"colab-df-quickchart\" onclick=\"quickchart('df-0c9837f4-1b64-4edd-bbf3-5d825ff7128e')\"\n",
              "            title=\"Suggest charts\"\n",
              "            style=\"display:none;\">\n",
              "\n",
              "<svg xmlns=\"http://www.w3.org/2000/svg\" height=\"24px\"viewBox=\"0 0 24 24\"\n",
              "     width=\"24px\">\n",
              "    <g>\n",
              "        <path d=\"M19 3H5c-1.1 0-2 .9-2 2v14c0 1.1.9 2 2 2h14c1.1 0 2-.9 2-2V5c0-1.1-.9-2-2-2zM9 17H7v-7h2v7zm4 0h-2V7h2v10zm4 0h-2v-4h2v4z\"/>\n",
              "    </g>\n",
              "</svg>\n",
              "  </button>\n",
              "\n",
              "<style>\n",
              "  .colab-df-quickchart {\n",
              "      --bg-color: #E8F0FE;\n",
              "      --fill-color: #1967D2;\n",
              "      --hover-bg-color: #E2EBFA;\n",
              "      --hover-fill-color: #174EA6;\n",
              "      --disabled-fill-color: #AAA;\n",
              "      --disabled-bg-color: #DDD;\n",
              "  }\n",
              "\n",
              "  [theme=dark] .colab-df-quickchart {\n",
              "      --bg-color: #3B4455;\n",
              "      --fill-color: #D2E3FC;\n",
              "      --hover-bg-color: #434B5C;\n",
              "      --hover-fill-color: #FFFFFF;\n",
              "      --disabled-bg-color: #3B4455;\n",
              "      --disabled-fill-color: #666;\n",
              "  }\n",
              "\n",
              "  .colab-df-quickchart {\n",
              "    background-color: var(--bg-color);\n",
              "    border: none;\n",
              "    border-radius: 50%;\n",
              "    cursor: pointer;\n",
              "    display: none;\n",
              "    fill: var(--fill-color);\n",
              "    height: 32px;\n",
              "    padding: 0;\n",
              "    width: 32px;\n",
              "  }\n",
              "\n",
              "  .colab-df-quickchart:hover {\n",
              "    background-color: var(--hover-bg-color);\n",
              "    box-shadow: 0 1px 2px rgba(60, 64, 67, 0.3), 0 1px 3px 1px rgba(60, 64, 67, 0.15);\n",
              "    fill: var(--button-hover-fill-color);\n",
              "  }\n",
              "\n",
              "  .colab-df-quickchart-complete:disabled,\n",
              "  .colab-df-quickchart-complete:disabled:hover {\n",
              "    background-color: var(--disabled-bg-color);\n",
              "    fill: var(--disabled-fill-color);\n",
              "    box-shadow: none;\n",
              "  }\n",
              "\n",
              "  .colab-df-spinner {\n",
              "    border: 2px solid var(--fill-color);\n",
              "    border-color: transparent;\n",
              "    border-bottom-color: var(--fill-color);\n",
              "    animation:\n",
              "      spin 1s steps(1) infinite;\n",
              "  }\n",
              "\n",
              "  @keyframes spin {\n",
              "    0% {\n",
              "      border-color: transparent;\n",
              "      border-bottom-color: var(--fill-color);\n",
              "      border-left-color: var(--fill-color);\n",
              "    }\n",
              "    20% {\n",
              "      border-color: transparent;\n",
              "      border-left-color: var(--fill-color);\n",
              "      border-top-color: var(--fill-color);\n",
              "    }\n",
              "    30% {\n",
              "      border-color: transparent;\n",
              "      border-left-color: var(--fill-color);\n",
              "      border-top-color: var(--fill-color);\n",
              "      border-right-color: var(--fill-color);\n",
              "    }\n",
              "    40% {\n",
              "      border-color: transparent;\n",
              "      border-right-color: var(--fill-color);\n",
              "      border-top-color: var(--fill-color);\n",
              "    }\n",
              "    60% {\n",
              "      border-color: transparent;\n",
              "      border-right-color: var(--fill-color);\n",
              "    }\n",
              "    80% {\n",
              "      border-color: transparent;\n",
              "      border-right-color: var(--fill-color);\n",
              "      border-bottom-color: var(--fill-color);\n",
              "    }\n",
              "    90% {\n",
              "      border-color: transparent;\n",
              "      border-bottom-color: var(--fill-color);\n",
              "    }\n",
              "  }\n",
              "</style>\n",
              "\n",
              "  <script>\n",
              "    async function quickchart(key) {\n",
              "      const quickchartButtonEl =\n",
              "        document.querySelector('#' + key + ' button');\n",
              "      quickchartButtonEl.disabled = true;  // To prevent multiple clicks.\n",
              "      quickchartButtonEl.classList.add('colab-df-spinner');\n",
              "      try {\n",
              "        const charts = await google.colab.kernel.invokeFunction(\n",
              "            'suggestCharts', [key], {});\n",
              "      } catch (error) {\n",
              "        console.error('Error during call to suggestCharts:', error);\n",
              "      }\n",
              "      quickchartButtonEl.classList.remove('colab-df-spinner');\n",
              "      quickchartButtonEl.classList.add('colab-df-quickchart-complete');\n",
              "    }\n",
              "    (() => {\n",
              "      let quickchartButtonEl =\n",
              "        document.querySelector('#df-0c9837f4-1b64-4edd-bbf3-5d825ff7128e button');\n",
              "      quickchartButtonEl.style.display =\n",
              "        google.colab.kernel.accessAllowed ? 'block' : 'none';\n",
              "    })();\n",
              "  </script>\n",
              "</div>\n",
              "    </div>\n",
              "  </div>\n"
            ]
          },
          "metadata": {},
          "execution_count": 14
        }
      ]
    },
    {
      "cell_type": "code",
      "execution_count": 15,
      "id": "7107a5c9",
      "metadata": {
        "id": "7107a5c9"
      },
      "outputs": [],
      "source": [
        "X = data.drop('Class' , axis=1)\n",
        "y = data.Class"
      ]
    },
    {
      "cell_type": "markdown",
      "id": "d13f2642",
      "metadata": {
        "id": "d13f2642"
      },
      "source": [
        "###### Under Sampling"
      ]
    },
    {
      "cell_type": "code",
      "execution_count": 16,
      "id": "2bf06a85",
      "metadata": {
        "id": "2bf06a85"
      },
      "outputs": [],
      "source": [
        "under_sampler = RandomUnderSampler()"
      ]
    },
    {
      "cell_type": "code",
      "execution_count": 17,
      "id": "63699443",
      "metadata": {
        "id": "63699443"
      },
      "outputs": [],
      "source": [
        "X_undersampled, y_undersampled = under_sampler.fit_resample(X, y)"
      ]
    },
    {
      "cell_type": "code",
      "execution_count": 18,
      "id": "417f680f",
      "metadata": {
        "colab": {
          "base_uri": "https://localhost:8080/"
        },
        "id": "417f680f",
        "outputId": "8839730f-2df9-4c23-91ee-161e0288bd49"
      },
      "outputs": [
        {
          "output_type": "stream",
          "name": "stdout",
          "text": [
            "Counter({0.0: 81, 1.0: 81})\n"
          ]
        }
      ],
      "source": [
        "print(Counter(y_undersampled))"
      ]
    },
    {
      "cell_type": "code",
      "execution_count": 19,
      "id": "97c4a6a0",
      "metadata": {
        "id": "97c4a6a0"
      },
      "outputs": [],
      "source": [
        "X_undersampled['class'] = y_undersampled"
      ]
    },
    {
      "cell_type": "code",
      "execution_count": 20,
      "id": "cb075feb",
      "metadata": {
        "colab": {
          "base_uri": "https://localhost:8080/",
          "height": 466
        },
        "id": "cb075feb",
        "outputId": "6e431023-311d-4b1e-cce8-fd093ab4874f"
      },
      "outputs": [
        {
          "output_type": "execute_result",
          "data": {
            "text/plain": [
              "<Axes: xlabel='class', ylabel='count'>"
            ]
          },
          "metadata": {},
          "execution_count": 20
        },
        {
          "output_type": "display_data",
          "data": {
            "text/plain": [
              "<Figure size 640x480 with 1 Axes>"
            ],
            "image/png": "[encoded data removed]"
          },
          "metadata": {}
        }
      ],
      "source": [
        "sns.countplot(data=X_undersampled , x=X_undersampled['class'])"
      ]
    },
    {
      "cell_type": "markdown",
      "source": [
        "**Note**: Drawbacks of the two\n",
        "\n",
        "Undersampling - Random Under Sampler:\n",
        "\n",
        "Loss of Information:Random undersampling involves discarding instances from the majority class randomly. This can lead to a significant loss of information and may discard potentially important examples.\n",
        "Reduced Model Performance:In scenarios where the majority class contains valuable information, random undersampling might reduce the overall performance of the model by removing relevant instances.\n",
        "\n",
        "Oversampling - SMOTE:\n",
        "\n",
        "Overfitting to Synthetic Examples:The synthetic examples generated by SMOTE might lead to overfitting if the model relies too heavily on these artificial instances.\n",
        "Sensitive to Noisy Data: SMOTE can be sensitive to noisy examples, and the generation of synthetic instances might be influenced by noisy data points in the minority class.\n"
      ],
      "metadata": {
        "id": "gC0gUKtOZu9g"
      },
      "id": "gC0gUKtOZu9g"
    },
    {
      "cell_type": "markdown",
      "id": "de09d48b",
      "metadata": {
        "id": "de09d48b"
      },
      "source": [
        "###### Over Sampling"
      ]
    },
    {
      "cell_type": "code",
      "execution_count": 21,
      "id": "fb39e004",
      "metadata": {
        "id": "fb39e004"
      },
      "outputs": [],
      "source": [
        "from imblearn.over_sampling import SMOTE"
      ]
    },
    {
      "cell_type": "code",
      "execution_count": 22,
      "id": "480c5180",
      "metadata": {
        "id": "480c5180"
      },
      "outputs": [],
      "source": [
        "smote = SMOTE()"
      ]
    },
    {
      "cell_type": "code",
      "execution_count": 23,
      "id": "b944dbed",
      "metadata": {
        "id": "b944dbed"
      },
      "outputs": [],
      "source": [
        "X_oversampled, y_oversampled = smote.fit_resample(X, y)"
      ]
    },
    {
      "cell_type": "code",
      "execution_count": 24,
      "id": "8b8fd7f4",
      "metadata": {
        "id": "8b8fd7f4"
      },
      "outputs": [],
      "source": [
        "X_oversampled['Class'] = y_oversampled"
      ]
    },
    {
      "cell_type": "code",
      "execution_count": 25,
      "id": "1fb2231e",
      "metadata": {
        "colab": {
          "base_uri": "https://localhost:8080/",
          "height": 466
        },
        "id": "1fb2231e",
        "outputId": "3b86622d-c49b-4c51-9f08-7a73bd7589aa"
      },
      "outputs": [
        {
          "output_type": "execute_result",
          "data": {
            "text/plain": [
              "<Axes: xlabel='Class', ylabel='count'>"
            ]
          },
          "metadata": {},
          "execution_count": 25
        },
        {
          "output_type": "display_data",
          "data": {
            "text/plain": [
              "<Figure size 640x480 with 1 Axes>"
            ],
            "image/png": "[encoded data removed]"
          },
          "metadata": {}
        }
      ],
      "source": [
        "sns.countplot(data=X_oversampled , x=X_oversampled['Class'])"
      ]
    },
    {
      "cell_type": "markdown",
      "source": [
        "Create pipelines for oversampling and undersampling"
      ],
      "metadata": {
        "id": "i8iNyFgqkJ2g"
      },
      "id": "i8iNyFgqkJ2g"
    },
    {
      "cell_type": "code",
      "source": [
        "oversample_pipeline = Pipeline([\n",
        "    ('oversample', SMOTE())])"
      ],
      "metadata": {
        "id": "2KFoAKq9kHS-"
      },
      "id": "2KFoAKq9kHS-",
      "execution_count": 26,
      "outputs": []
    },
    {
      "cell_type": "code",
      "source": [
        "undersample_pipeline = Pipeline([\n",
        "    ('undersample', RandomUnderSampler())])"
      ],
      "metadata": {
        "id": "dtbgJDzpkM0m"
      },
      "id": "dtbgJDzpkM0m",
      "execution_count": 27,
      "outputs": []
    },
    {
      "cell_type": "code",
      "source": [
        "X_oversampled, y_oversampled = oversample_pipeline.fit_resample(X, y)\n",
        "X_undersampled, y_undersampled = undersample_pipeline.fit_resample(X, y)"
      ],
      "metadata": {
        "id": "oAEmr_jgkM3o"
      },
      "id": "oAEmr_jgkM3o",
      "execution_count": 28,
      "outputs": []
    },
    {
      "cell_type": "code",
      "source": [
        "data_oversampled = pd.DataFrame(X_oversampled, columns=X.columns)\n",
        "data_oversampled['Class'] = y_oversampled"
      ],
      "metadata": {
        "id": "yCLy6LKVkM6p"
      },
      "id": "yCLy6LKVkM6p",
      "execution_count": 29,
      "outputs": []
    },
    {
      "cell_type": "code",
      "source": [
        "data_undersampled = pd.DataFrame(X_undersampled, columns=X.columns)\n",
        "data_undersampled['Class'] = y_undersampled"
      ],
      "metadata": {
        "id": "XeberK-MklAF"
      },
      "id": "XeberK-MklAF",
      "execution_count": 30,
      "outputs": []
    },
    {
      "cell_type": "code",
      "source": [],
      "metadata": {
        "id": "ToUDPupAkmiw"
      },
      "id": "ToUDPupAkmiw",
      "execution_count": 30,
      "outputs": []
    },
    {
      "cell_type": "code",
      "execution_count": 31,
      "id": "281c782f",
      "metadata": {
        "id": "281c782f"
      },
      "outputs": [],
      "source": [
        "corr = data.corr()"
      ]
    },
    {
      "cell_type": "code",
      "source": [
        "colormap = sns.color_palette(palette='PRGn')"
      ],
      "metadata": {
        "id": "xNNeWG5OdKKR"
      },
      "id": "xNNeWG5OdKKR",
      "execution_count": 32,
      "outputs": []
    },
    {
      "cell_type": "code",
      "source": [
        "sns.heatmap(corr, annot=False,fmt='.1g', cmap=colormap)"
      ],
      "metadata": {
        "colab": {
          "base_uri": "https://localhost:8080/",
          "height": 524
        },
        "id": "3gMjqQLcdOky",
        "outputId": "ea87ad71-3afa-4bd8-9900-16c08cf5c365"
      },
      "id": "3gMjqQLcdOky",
      "execution_count": 33,
      "outputs": [
        {
          "output_type": "execute_result",
          "data": {
            "text/plain": [
              "<Axes: >"
            ]
          },
          "metadata": {},
          "execution_count": 33
        },
        {
          "output_type": "display_data",
          "data": {
            "text/plain": [
              "<Figure size 640x480 with 2 Axes>"
            ],
            "image/png": "[encoded data removed]"
          },
          "metadata": {}
        }
      ]
    },
    {
      "cell_type": "code",
      "source": [
        "corr_over = data_oversampled.corr()"
      ],
      "metadata": {
        "id": "lQ8U52L-kyu0"
      },
      "id": "lQ8U52L-kyu0",
      "execution_count": 34,
      "outputs": []
    },
    {
      "cell_type": "code",
      "source": [
        "sns.heatmap(corr_over, annot=False,fmt='.1g', cmap=colormap)"
      ],
      "metadata": {
        "colab": {
          "base_uri": "https://localhost:8080/",
          "height": 544
        },
        "id": "1htMEQg_kyxg",
        "outputId": "898fff10-65f6-44ac-a9c7-1473dc990c3c"
      },
      "id": "1htMEQg_kyxg",
      "execution_count": 35,
      "outputs": [
        {
          "output_type": "execute_result",
          "data": {
            "text/plain": [
              "<Axes: >"
            ]
          },
          "metadata": {},
          "execution_count": 35
        },
        {
          "output_type": "display_data",
          "data": {
            "text/plain": [
              "<Figure size 640x480 with 2 Axes>"
            ],
            "image/png": "[encoded data removed]"
          },
          "metadata": {}
        }
      ]
    },
    {
      "cell_type": "code",
      "source": [
        "corr_under = data_undersampled.corr()"
      ],
      "metadata": {
        "id": "V704X_J1ky0S"
      },
      "id": "V704X_J1ky0S",
      "execution_count": 36,
      "outputs": []
    },
    {
      "cell_type": "code",
      "source": [
        "sns.heatmap(corr_under, annot=False,fmt='.1g', cmap=colormap)"
      ],
      "metadata": {
        "colab": {
          "base_uri": "https://localhost:8080/",
          "height": 544
        },
        "id": "-94fgLnYky3F",
        "outputId": "f2adf914-d19d-4f71-8d7c-2ce695772902"
      },
      "id": "-94fgLnYky3F",
      "execution_count": 37,
      "outputs": [
        {
          "output_type": "execute_result",
          "data": {
            "text/plain": [
              "<Axes: >"
            ]
          },
          "metadata": {},
          "execution_count": 37
        },
        {
          "output_type": "display_data",
          "data": {
            "text/plain": [
              "<Figure size 640x480 with 2 Axes>"
            ],
            "image/png": "[encoded data removed]"
          },
          "metadata": {}
        }
      ]
    },
    {
      "cell_type": "markdown",
      "source": [
        "positive correlation:V2, V4, V11\n",
        "\n",
        "negative correlation: V10, V12, V14, V16"
      ],
      "metadata": {
        "id": "rdfULFKKnVo5"
      },
      "id": "rdfULFKKnVo5"
    },
    {
      "cell_type": "markdown",
      "source": [
        "The idea is to remove the outliers in 2 different way on the data_undersampled and data_oversampled and fit the logistic regression model on both and will compare them in the end"
      ],
      "metadata": {
        "id": "hRICm-ZSrSXZ"
      },
      "id": "hRICm-ZSrSXZ"
    },
    {
      "cell_type": "code",
      "source": [
        "model_iso = IsolationForest(contamination=0.03)"
      ],
      "metadata": {
        "id": "65XCFrLjaTWd"
      },
      "id": "65XCFrLjaTWd",
      "execution_count": 38,
      "outputs": []
    },
    {
      "cell_type": "code",
      "source": [
        "model_iso.fit(data_oversampled)"
      ],
      "metadata": {
        "colab": {
          "base_uri": "https://localhost:8080/",
          "height": 109
        },
        "id": "9B0L7istaTZF",
        "outputId": "25b103b7-0c36-4825-8df1-63f636baee30"
      },
      "id": "9B0L7istaTZF",
      "execution_count": 39,
      "outputs": [
        {
          "output_type": "stream",
          "name": "stderr",
          "text": [
            "/usr/local/lib/python3.10/dist-packages/sklearn/base.py:439: UserWarning: X does not have valid feature names, but IsolationForest was fitted with feature names\n",
            "  warnings.warn(\n"
          ]
        },
        {
          "output_type": "execute_result",
          "data": {
            "text/plain": [
              "IsolationForest(contamination=0.03)"
            ],
            "text/html": [
              "<style>#sk-container-id-1 {color: black;background-color: white;}#sk-container-id-1 pre{padding: 0;}#sk-container-id-1 div.sk-toggleable {background-color: white;}#sk-container-id-1 label.sk-toggleable__label {cursor: pointer;display: block;width: 100%;margin-bottom: 0;padding: 0.3em;box-sizing: border-box;text-align: center;}#sk-container-id-1 label.sk-toggleable__label-arrow:before {content: \"▸\";float: left;margin-right: 0.25em;color: #696969;}#sk-container-id-1 label.sk-toggleable__label-arrow:hover:before {color: black;}#sk-container-id-1 div.sk-estimator:hover label.sk-toggleable__label-arrow:before {color: black;}#sk-container-id-1 div.sk-toggleable__content {max-height: 0;max-width: 0;overflow: hidden;text-align: left;background-color: #f0f8ff;}#sk-container-id-1 div.sk-toggleable__content pre {margin: 0.2em;color: black;border-radius: 0.25em;background-color: #f0f8ff;}#sk-container-id-1 input.sk-toggleable__control:checked~div.sk-toggleable__content {max-height: 200px;max-width: 100%;overflow: auto;}#sk-container-id-1 input.sk-toggleable__control:checked~label.sk-toggleable__label-arrow:before {content: \"▾\";}#sk-container-id-1 div.sk-estimator input.sk-toggleable__control:checked~label.sk-toggleable__label {background-color: #d4ebff;}#sk-container-id-1 div.sk-label input.sk-toggleable__control:checked~label.sk-toggleable__label {background-color: #d4ebff;}#sk-container-id-1 input.sk-hidden--visually {border: 0;clip: rect(1px 1px 1px 1px);clip: rect(1px, 1px, 1px, 1px);height: 1px;margin: -1px;overflow: hidden;padding: 0;position: absolute;width: 1px;}#sk-container-id-1 div.sk-estimator {font-family: monospace;background-color: #f0f8ff;border: 1px dotted black;border-radius: 0.25em;box-sizing: border-box;margin-bottom: 0.5em;}#sk-container-id-1 div.sk-estimator:hover {background-color: #d4ebff;}#sk-container-id-1 div.sk-parallel-item::after {content: \"\";width: 100%;border-bottom: 1px solid gray;flex-grow: 1;}#sk-container-id-1 div.sk-label:hover label.sk-toggleable__label {background-color: #d4ebff;}#sk-container-id-1 div.sk-serial::before {content: \"\";position: absolute;border-left: 1px solid gray;box-sizing: border-box;top: 0;bottom: 0;left: 50%;z-index: 0;}#sk-container-id-1 div.sk-serial {display: flex;flex-direction: column;align-items: center;background-color: white;padding-right: 0.2em;padding-left: 0.2em;position: relative;}#sk-container-id-1 div.sk-item {position: relative;z-index: 1;}#sk-container-id-1 div.sk-parallel {display: flex;align-items: stretch;justify-content: center;background-color: white;position: relative;}#sk-container-id-1 div.sk-item::before, #sk-container-id-1 div.sk-parallel-item::before {content: \"\";position: absolute;border-left: 1px solid gray;box-sizing: border-box;top: 0;bottom: 0;left: 50%;z-index: -1;}#sk-container-id-1 div.sk-parallel-item {display: flex;flex-direction: column;z-index: 1;position: relative;background-color: white;}#sk-container-id-1 div.sk-parallel-item:first-child::after {align-self: flex-end;width: 50%;}#sk-container-id-1 div.sk-parallel-item:last-child::after {align-self: flex-start;width: 50%;}#sk-container-id-1 div.sk-parallel-item:only-child::after {width: 0;}#sk-container-id-1 div.sk-dashed-wrapped {border: 1px dashed gray;margin: 0 0.4em 0.5em 0.4em;box-sizing: border-box;padding-bottom: 0.4em;background-color: white;}#sk-container-id-1 div.sk-label label {font-family: monospace;font-weight: bold;display: inline-block;line-height: 1.2em;}#sk-container-id-1 div.sk-label-container {text-align: center;}#sk-container-id-1 div.sk-container {/* jupyter's `normalize.less` sets `[hidden] { display: none; }` but bootstrap.min.css set `[hidden] { display: none !important; }` so we also need the `!important` here to be able to override the default hidden behavior on the sphinx rendered scikit-learn.org. See: https://github.com/scikit-learn/scikit-learn/issues/21755 */display: inline-block !important;position: relative;}#sk-container-id-1 div.sk-text-repr-fallback {display: none;}</style><div id=\"sk-container-id-1\" class=\"sk-top-container\"><div class=\"sk-text-repr-fallback\"><pre>IsolationForest(contamination=0.03)</pre><b>In a Jupyter environment, please rerun this cell to show the HTML representation or trust the notebook. <br />On GitHub, the HTML representation is unable to render, please try loading this page with nbviewer.org.</b></div><div class=\"sk-container\" hidden><div class=\"sk-item\"><div class=\"sk-estimator sk-toggleable\"><input class=\"sk-toggleable__control sk-hidden--visually\" id=\"sk-estimator-id-1\" type=\"checkbox\" checked><label for=\"sk-estimator-id-1\" class=\"sk-toggleable__label sk-toggleable__label-arrow\">IsolationForest</label><div class=\"sk-toggleable__content\"><pre>IsolationForest(contamination=0.03)</pre></div></div></div></div></div>"
            ]
          },
          "metadata": {},
          "execution_count": 39
        }
      ]
    },
    {
      "cell_type": "code",
      "source": [
        "preds = model_iso.predict(data_oversampled)"
      ],
      "metadata": {
        "id": "Mmg0ljobaTcA"
      },
      "id": "Mmg0ljobaTcA",
      "execution_count": 40,
      "outputs": []
    },
    {
      "cell_type": "code",
      "source": [
        "data_oversampled['outliers'] = preds"
      ],
      "metadata": {
        "id": "quUGMP96aTem"
      },
      "id": "quUGMP96aTem",
      "execution_count": 46,
      "outputs": []
    },
    {
      "cell_type": "code",
      "source": [
        "data_oversampled['outliers'].unique()"
      ],
      "metadata": {
        "colab": {
          "base_uri": "https://localhost:8080/"
        },
        "id": "D4kpxYxSaTg0",
        "outputId": "827c8750-2daf-43fa-e308-a62cf44b2f60"
      },
      "id": "D4kpxYxSaTg0",
      "execution_count": 47,
      "outputs": [
        {
          "output_type": "execute_result",
          "data": {
            "text/plain": [
              "array([ 1, -1])"
            ]
          },
          "metadata": {},
          "execution_count": 47
        }
      ]
    },
    {
      "cell_type": "code",
      "source": [
        "data_oversampled['outliers'].value_counts()"
      ],
      "metadata": {
        "colab": {
          "base_uri": "https://localhost:8080/"
        },
        "id": "Om8CbcxWoyBh",
        "outputId": "1ebc39ab-c0e8-4742-e298-cff4fc6e4fab"
      },
      "id": "Om8CbcxWoyBh",
      "execution_count": 48,
      "outputs": [
        {
          "output_type": "execute_result",
          "data": {
            "text/plain": [
              " 1    34601\n",
              "-1     1071\n",
              "Name: outliers, dtype: int64"
            ]
          },
          "metadata": {},
          "execution_count": 48
        }
      ]
    },
    {
      "cell_type": "code",
      "source": [
        "data_oversampled_cleaned = data_oversampled.query('outliers==1')"
      ],
      "metadata": {
        "id": "GMrlTvRvoyJn"
      },
      "id": "GMrlTvRvoyJn",
      "execution_count": 50,
      "outputs": []
    },
    {
      "cell_type": "code",
      "source": [],
      "metadata": {
        "id": "zz12-FSYy85u"
      },
      "id": "zz12-FSYy85u",
      "execution_count": 50,
      "outputs": []
    },
    {
      "cell_type": "code",
      "source": [
        "non_outlier_condition = (\n",
        "    (data_undersampled['V2'] < data_undersampled['V2'].quantile(0.97)) &\n",
        "    (data_undersampled['V4'] < data_undersampled['V4'].quantile(0.97)) &\n",
        "    (data_undersampled['V10'] < data_undersampled['V10'].quantile(0.97)) &\n",
        "    (data_undersampled['V11'] < data_undersampled['V11'].quantile(0.97)) &\n",
        "    (data_undersampled['V12'] < data_undersampled['V12'].quantile(0.97)) &\n",
        "    (data_undersampled['V14'] < data_undersampled['V14'].quantile(0.97)) &\n",
        "    (data_undersampled['V16'] < data_undersampled['V16'].quantile(0.97)) &\n",
        "    (data_undersampled['V2'] > data_undersampled['V2'].quantile(0.03)) &\n",
        "    (data_undersampled['V4'] > data_undersampled['V4'].quantile(0.03)) &\n",
        "    (data_undersampled['V10'] > data_undersampled['V10'].quantile(0.03)) &\n",
        "    (data_undersampled['V11'] > data_undersampled['V11'].quantile(0.03)) &\n",
        "    (data_undersampled['V12'] > data_undersampled['V12'].quantile(0.03)) &\n",
        "    (data_undersampled['V14'] > data_undersampled['V14'].quantile(0.03)) &\n",
        "    (data_undersampled['V16'] > data_undersampled['V16'].quantile(0.03))\n",
        ")"
      ],
      "metadata": {
        "id": "5hdqOHVYoyM7"
      },
      "id": "5hdqOHVYoyM7",
      "execution_count": 51,
      "outputs": []
    },
    {
      "cell_type": "code",
      "source": [
        "data_undersampled_cleaned = data_undersampled[non_outlier_condition]"
      ],
      "metadata": {
        "id": "Juy_Pf8xsFyK"
      },
      "id": "Juy_Pf8xsFyK",
      "execution_count": 52,
      "outputs": []
    },
    {
      "cell_type": "markdown",
      "source": [
        "Logistic regression for data_undersampled_cleand - without outliers"
      ],
      "metadata": {
        "id": "YAqD94hMynxx"
      },
      "id": "YAqD94hMynxx"
    },
    {
      "cell_type": "code",
      "source": [
        "model = LogisticRegression()"
      ],
      "metadata": {
        "id": "khSveKGIsF0g"
      },
      "id": "khSveKGIsF0g",
      "execution_count": 53,
      "outputs": []
    },
    {
      "cell_type": "code",
      "source": [
        "X_under = data_undersampled_cleaned.drop('Class', axis=1)\n",
        "y_under = data_undersampled_cleaned['Class']"
      ],
      "metadata": {
        "id": "JTdWK_PNsF3f"
      },
      "id": "JTdWK_PNsF3f",
      "execution_count": 54,
      "outputs": []
    },
    {
      "cell_type": "code",
      "source": [
        "X_train, X_test, y_train, y_test = train_test_split(X, y, test_size=0.23, random_state=1)"
      ],
      "metadata": {
        "id": "1LU_xgSkwUbX"
      },
      "id": "1LU_xgSkwUbX",
      "execution_count": 55,
      "outputs": []
    },
    {
      "cell_type": "code",
      "source": [
        "model.fit(X_under, y_under)"
      ],
      "metadata": {
        "colab": {
          "base_uri": "https://localhost:8080/",
          "height": 74
        },
        "id": "eI5pF-WRwUfJ",
        "outputId": "5d74b33a-b4fd-4112-e902-88c5c20392f2"
      },
      "id": "eI5pF-WRwUfJ",
      "execution_count": 56,
      "outputs": [
        {
          "output_type": "execute_result",
          "data": {
            "text/plain": [
              "LogisticRegression()"
            ],
            "text/html": [
              "<style>#sk-container-id-2 {color: black;background-color: white;}#sk-container-id-2 pre{padding: 0;}#sk-container-id-2 div.sk-toggleable {background-color: white;}#sk-container-id-2 label.sk-toggleable__label {cursor: pointer;display: block;width: 100%;margin-bottom: 0;padding: 0.3em;box-sizing: border-box;text-align: center;}#sk-container-id-2 label.sk-toggleable__label-arrow:before {content: \"▸\";float: left;margin-right: 0.25em;color: #696969;}#sk-container-id-2 label.sk-toggleable__label-arrow:hover:before {color: black;}#sk-container-id-2 div.sk-estimator:hover label.sk-toggleable__label-arrow:before {color: black;}#sk-container-id-2 div.sk-toggleable__content {max-height: 0;max-width: 0;overflow: hidden;text-align: left;background-color: #f0f8ff;}#sk-container-id-2 div.sk-toggleable__content pre {margin: 0.2em;color: black;border-radius: 0.25em;background-color: #f0f8ff;}#sk-container-id-2 input.sk-toggleable__control:checked~div.sk-toggleable__content {max-height: 200px;max-width: 100%;overflow: auto;}#sk-container-id-2 input.sk-toggleable__control:checked~label.sk-toggleable__label-arrow:before {content: \"▾\";}#sk-container-id-2 div.sk-estimator input.sk-toggleable__control:checked~label.sk-toggleable__label {background-color: #d4ebff;}#sk-container-id-2 div.sk-label input.sk-toggleable__control:checked~label.sk-toggleable__label {background-color: #d4ebff;}#sk-container-id-2 input.sk-hidden--visually {border: 0;clip: rect(1px 1px 1px 1px);clip: rect(1px, 1px, 1px, 1px);height: 1px;margin: -1px;overflow: hidden;padding: 0;position: absolute;width: 1px;}#sk-container-id-2 div.sk-estimator {font-family: monospace;background-color: #f0f8ff;border: 1px dotted black;border-radius: 0.25em;box-sizing: border-box;margin-bottom: 0.5em;}#sk-container-id-2 div.sk-estimator:hover {background-color: #d4ebff;}#sk-container-id-2 div.sk-parallel-item::after {content: \"\";width: 100%;border-bottom: 1px solid gray;flex-grow: 1;}#sk-container-id-2 div.sk-label:hover label.sk-toggleable__label {background-color: #d4ebff;}#sk-container-id-2 div.sk-serial::before {content: \"\";position: absolute;border-left: 1px solid gray;box-sizing: border-box;top: 0;bottom: 0;left: 50%;z-index: 0;}#sk-container-id-2 div.sk-serial {display: flex;flex-direction: column;align-items: center;background-color: white;padding-right: 0.2em;padding-left: 0.2em;position: relative;}#sk-container-id-2 div.sk-item {position: relative;z-index: 1;}#sk-container-id-2 div.sk-parallel {display: flex;align-items: stretch;justify-content: center;background-color: white;position: relative;}#sk-container-id-2 div.sk-item::before, #sk-container-id-2 div.sk-parallel-item::before {content: \"\";position: absolute;border-left: 1px solid gray;box-sizing: border-box;top: 0;bottom: 0;left: 50%;z-index: -1;}#sk-container-id-2 div.sk-parallel-item {display: flex;flex-direction: column;z-index: 1;position: relative;background-color: white;}#sk-container-id-2 div.sk-parallel-item:first-child::after {align-self: flex-end;width: 50%;}#sk-container-id-2 div.sk-parallel-item:last-child::after {align-self: flex-start;width: 50%;}#sk-container-id-2 div.sk-parallel-item:only-child::after {width: 0;}#sk-container-id-2 div.sk-dashed-wrapped {border: 1px dashed gray;margin: 0 0.4em 0.5em 0.4em;box-sizing: border-box;padding-bottom: 0.4em;background-color: white;}#sk-container-id-2 div.sk-label label {font-family: monospace;font-weight: bold;display: inline-block;line-height: 1.2em;}#sk-container-id-2 div.sk-label-container {text-align: center;}#sk-container-id-2 div.sk-container {/* jupyter's `normalize.less` sets `[hidden] { display: none; }` but bootstrap.min.css set `[hidden] { display: none !important; }` so we also need the `!important` here to be able to override the default hidden behavior on the sphinx rendered scikit-learn.org. See: https://github.com/scikit-learn/scikit-learn/issues/21755 */display: inline-block !important;position: relative;}#sk-container-id-2 div.sk-text-repr-fallback {display: none;}</style><div id=\"sk-container-id-2\" class=\"sk-top-container\"><div class=\"sk-text-repr-fallback\"><pre>LogisticRegression()</pre><b>In a Jupyter environment, please rerun this cell to show the HTML representation or trust the notebook. <br />On GitHub, the HTML representation is unable to render, please try loading this page with nbviewer.org.</b></div><div class=\"sk-container\" hidden><div class=\"sk-item\"><div class=\"sk-estimator sk-toggleable\"><input class=\"sk-toggleable__control sk-hidden--visually\" id=\"sk-estimator-id-2\" type=\"checkbox\" checked><label for=\"sk-estimator-id-2\" class=\"sk-toggleable__label sk-toggleable__label-arrow\">LogisticRegression</label><div class=\"sk-toggleable__content\"><pre>LogisticRegression()</pre></div></div></div></div></div>"
            ]
          },
          "metadata": {},
          "execution_count": 56
        }
      ]
    },
    {
      "cell_type": "code",
      "source": [
        "y_pred_under = model.predict(X_test)"
      ],
      "metadata": {
        "id": "2PdUYjfSwUjq"
      },
      "id": "2PdUYjfSwUjq",
      "execution_count": 57,
      "outputs": []
    },
    {
      "cell_type": "code",
      "source": [
        "from sklearn.metrics import confusion_matrix\n",
        "\n",
        "cm = confusion_matrix(y_test, y_pred_under)\n",
        "cmap = sns.color_palette(palette='PiYG')\n",
        "\n",
        "sns.heatmap(cm, annot=True, cmap=cmap)"
      ],
      "metadata": {
        "colab": {
          "base_uri": "https://localhost:8080/",
          "height": 451
        },
        "id": "FfLy5Z9qwUm1",
        "outputId": "5c433a55-96ff-4cb9-9d38-02e7dc087f6f"
      },
      "id": "FfLy5Z9qwUm1",
      "execution_count": 58,
      "outputs": [
        {
          "output_type": "execute_result",
          "data": {
            "text/plain": [
              "<Axes: >"
            ]
          },
          "metadata": {},
          "execution_count": 58
        },
        {
          "output_type": "display_data",
          "data": {
            "text/plain": [
              "<Figure size 640x480 with 2 Axes>"
            ],
            "image/png": "[encoded data removed]"
          },
          "metadata": {}
        }
      ]
    },
    {
      "cell_type": "code",
      "source": [
        "from sklearn.metrics import classification_report\n",
        "\n",
        "report = classification_report(y_pred_under, y_test)\n",
        "\n",
        "print(report)"
      ],
      "metadata": {
        "colab": {
          "base_uri": "https://localhost:8080/"
        },
        "id": "G4-T5NzfwUp2",
        "outputId": "d6ddd578-2fd3-4124-ad98-aaa3a570af45"
      },
      "id": "G4-T5NzfwUp2",
      "execution_count": 59,
      "outputs": [
        {
          "output_type": "stream",
          "name": "stdout",
          "text": [
            "              precision    recall  f1-score   support\n",
            "\n",
            "         0.0       0.98      1.00      0.99      4012\n",
            "         1.0       1.00      0.16      0.27       109\n",
            "\n",
            "    accuracy                           0.98      4121\n",
            "   macro avg       0.99      0.58      0.63      4121\n",
            "weighted avg       0.98      0.98      0.97      4121\n",
            "\n"
          ]
        }
      ]
    },
    {
      "cell_type": "code",
      "source": [],
      "metadata": {
        "id": "RfccKZEpwUsq"
      },
      "id": "RfccKZEpwUsq",
      "execution_count": 59,
      "outputs": []
    },
    {
      "cell_type": "markdown",
      "source": [
        "Logistic regression for data_oversampled_cleand - without outliers"
      ],
      "metadata": {
        "id": "bJ-87MD6ytmb"
      },
      "id": "bJ-87MD6ytmb"
    },
    {
      "cell_type": "code",
      "source": [
        "X_over = data_oversampled_cleaned.drop('Class', axis=1)\n",
        "y_over = data_oversampled_cleaned['Class']"
      ],
      "metadata": {
        "id": "eiUxWwU7sF6m"
      },
      "id": "eiUxWwU7sF6m",
      "execution_count": 60,
      "outputs": []
    },
    {
      "cell_type": "code",
      "source": [
        "X_train, X_test, y_train, y_test = train_test_split(X, y, test_size=0.23, random_state=1)"
      ],
      "metadata": {
        "id": "4Oa5kFBjyyJF"
      },
      "id": "4Oa5kFBjyyJF",
      "execution_count": 61,
      "outputs": []
    },
    {
      "cell_type": "code",
      "source": [
        "model.fit(X_over, y_over)"
      ],
      "metadata": {
        "colab": {
          "base_uri": "https://localhost:8080/",
          "height": 213
        },
        "id": "25SPa8ouyyL2",
        "outputId": "fb41cbc9-06c1-484a-d728-e2ebdc49062d"
      },
      "id": "25SPa8ouyyL2",
      "execution_count": 62,
      "outputs": [
        {
          "output_type": "stream",
          "name": "stderr",
          "text": [
            "/usr/local/lib/python3.10/dist-packages/sklearn/linear_model/_logistic.py:458: ConvergenceWarning: lbfgs failed to converge (status=1):\n",
            "STOP: TOTAL NO. of ITERATIONS REACHED LIMIT.\n",
            "\n",
            "Increase the number of iterations (max_iter) or scale the data as shown in:\n",
            "    https://scikit-learn.org/stable/modules/preprocessing.html\n",
            "Please also refer to the documentation for alternative solver options:\n",
            "    https://scikit-learn.org/stable/modules/linear_model.html#logistic-regression\n",
            "  n_iter_i = _check_optimize_result(\n"
          ]
        },
        {
          "output_type": "execute_result",
          "data": {
            "text/plain": [
              "LogisticRegression()"
            ],
            "text/html": [
              "<style>#sk-container-id-3 {color: black;background-color: white;}#sk-container-id-3 pre{padding: 0;}#sk-container-id-3 div.sk-toggleable {background-color: white;}#sk-container-id-3 label.sk-toggleable__label {cursor: pointer;display: block;width: 100%;margin-bottom: 0;padding: 0.3em;box-sizing: border-box;text-align: center;}#sk-container-id-3 label.sk-toggleable__label-arrow:before {content: \"▸\";float: left;margin-right: 0.25em;color: #696969;}#sk-container-id-3 label.sk-toggleable__label-arrow:hover:before {color: black;}#sk-container-id-3 div.sk-estimator:hover label.sk-toggleable__label-arrow:before {color: black;}#sk-container-id-3 div.sk-toggleable__content {max-height: 0;max-width: 0;overflow: hidden;text-align: left;background-color: #f0f8ff;}#sk-container-id-3 div.sk-toggleable__content pre {margin: 0.2em;color: black;border-radius: 0.25em;background-color: #f0f8ff;}#sk-container-id-3 input.sk-toggleable__control:checked~div.sk-toggleable__content {max-height: 200px;max-width: 100%;overflow: auto;}#sk-container-id-3 input.sk-toggleable__control:checked~label.sk-toggleable__label-arrow:before {content: \"▾\";}#sk-container-id-3 div.sk-estimator input.sk-toggleable__control:checked~label.sk-toggleable__label {background-color: #d4ebff;}#sk-container-id-3 div.sk-label input.sk-toggleable__control:checked~label.sk-toggleable__label {background-color: #d4ebff;}#sk-container-id-3 input.sk-hidden--visually {border: 0;clip: rect(1px 1px 1px 1px);clip: rect(1px, 1px, 1px, 1px);height: 1px;margin: -1px;overflow: hidden;padding: 0;position: absolute;width: 1px;}#sk-container-id-3 div.sk-estimator {font-family: monospace;background-color: #f0f8ff;border: 1px dotted black;border-radius: 0.25em;box-sizing: border-box;margin-bottom: 0.5em;}#sk-container-id-3 div.sk-estimator:hover {background-color: #d4ebff;}#sk-container-id-3 div.sk-parallel-item::after {content: \"\";width: 100%;border-bottom: 1px solid gray;flex-grow: 1;}#sk-container-id-3 div.sk-label:hover label.sk-toggleable__label {background-color: #d4ebff;}#sk-container-id-3 div.sk-serial::before {content: \"\";position: absolute;border-left: 1px solid gray;box-sizing: border-box;top: 0;bottom: 0;left: 50%;z-index: 0;}#sk-container-id-3 div.sk-serial {display: flex;flex-direction: column;align-items: center;background-color: white;padding-right: 0.2em;padding-left: 0.2em;position: relative;}#sk-container-id-3 div.sk-item {position: relative;z-index: 1;}#sk-container-id-3 div.sk-parallel {display: flex;align-items: stretch;justify-content: center;background-color: white;position: relative;}#sk-container-id-3 div.sk-item::before, #sk-container-id-3 div.sk-parallel-item::before {content: \"\";position: absolute;border-left: 1px solid gray;box-sizing: border-box;top: 0;bottom: 0;left: 50%;z-index: -1;}#sk-container-id-3 div.sk-parallel-item {display: flex;flex-direction: column;z-index: 1;position: relative;background-color: white;}#sk-container-id-3 div.sk-parallel-item:first-child::after {align-self: flex-end;width: 50%;}#sk-container-id-3 div.sk-parallel-item:last-child::after {align-self: flex-start;width: 50%;}#sk-container-id-3 div.sk-parallel-item:only-child::after {width: 0;}#sk-container-id-3 div.sk-dashed-wrapped {border: 1px dashed gray;margin: 0 0.4em 0.5em 0.4em;box-sizing: border-box;padding-bottom: 0.4em;background-color: white;}#sk-container-id-3 div.sk-label label {font-family: monospace;font-weight: bold;display: inline-block;line-height: 1.2em;}#sk-container-id-3 div.sk-label-container {text-align: center;}#sk-container-id-3 div.sk-container {/* jupyter's `normalize.less` sets `[hidden] { display: none; }` but bootstrap.min.css set `[hidden] { display: none !important; }` so we also need the `!important` here to be able to override the default hidden behavior on the sphinx rendered scikit-learn.org. See: https://github.com/scikit-learn/scikit-learn/issues/21755 */display: inline-block !important;position: relative;}#sk-container-id-3 div.sk-text-repr-fallback {display: none;}</style><div id=\"sk-container-id-3\" class=\"sk-top-container\"><div class=\"sk-text-repr-fallback\"><pre>LogisticRegression()</pre><b>In a Jupyter environment, please rerun this cell to show the HTML representation or trust the notebook. <br />On GitHub, the HTML representation is unable to render, please try loading this page with nbviewer.org.</b></div><div class=\"sk-container\" hidden><div class=\"sk-item\"><div class=\"sk-estimator sk-toggleable\"><input class=\"sk-toggleable__control sk-hidden--visually\" id=\"sk-estimator-id-3\" type=\"checkbox\" checked><label for=\"sk-estimator-id-3\" class=\"sk-toggleable__label sk-toggleable__label-arrow\">LogisticRegression</label><div class=\"sk-toggleable__content\"><pre>LogisticRegression()</pre></div></div></div></div></div>"
            ]
          },
          "metadata": {},
          "execution_count": 62
        }
      ]
    },
    {
      "cell_type": "code",
      "source": [
        "X_test['outliers'] = 1"
      ],
      "metadata": {
        "id": "zmrY11Sw1JLt"
      },
      "id": "zmrY11Sw1JLt",
      "execution_count": 63,
      "outputs": []
    },
    {
      "cell_type": "code",
      "source": [
        "y_pred_over = model.predict(X_test)"
      ],
      "metadata": {
        "id": "AIKlrIpKyyOk"
      },
      "id": "AIKlrIpKyyOk",
      "execution_count": 64,
      "outputs": []
    },
    {
      "cell_type": "code",
      "source": [
        "from sklearn.metrics import confusion_matrix\n",
        "\n",
        "cm = confusion_matrix(y_test, y_pred_over)\n",
        "cmap = sns.color_palette(palette='PiYG')\n",
        "\n",
        "sns.heatmap(cm, annot=True, cmap=cmap)"
      ],
      "metadata": {
        "colab": {
          "base_uri": "https://localhost:8080/",
          "height": 447
        },
        "id": "5mbkneKdyyRl",
        "outputId": "f5aef0a2-41da-44aa-d305-70c94a700292"
      },
      "id": "5mbkneKdyyRl",
      "execution_count": 65,
      "outputs": [
        {
          "output_type": "execute_result",
          "data": {
            "text/plain": [
              "<Axes: >"
            ]
          },
          "metadata": {},
          "execution_count": 65
        },
        {
          "output_type": "display_data",
          "data": {
            "text/plain": [
              "<Figure size 640x480 with 2 Axes>"
            ],
            "image/png": "[encoded data removed]"
          },
          "metadata": {}
        }
      ]
    },
    {
      "cell_type": "code",
      "source": [
        "from sklearn.metrics import classification_report\n",
        "\n",
        "report = classification_report(y_pred_over, y_test)\n",
        "\n",
        "print(report)"
      ],
      "metadata": {
        "colab": {
          "base_uri": "https://localhost:8080/"
        },
        "id": "ZAST0oYvyyUf",
        "outputId": "3587a073-fa21-46db-9945-6c640bc047b3"
      },
      "id": "ZAST0oYvyyUf",
      "execution_count": 66,
      "outputs": [
        {
          "output_type": "stream",
          "name": "stdout",
          "text": [
            "              precision    recall  f1-score   support\n",
            "\n",
            "         0.0       0.99      1.00      0.99      4060\n",
            "         1.0       1.00      0.28      0.44        61\n",
            "\n",
            "    accuracy                           0.99      4121\n",
            "   macro avg       0.99      0.64      0.72      4121\n",
            "weighted avg       0.99      0.99      0.99      4121\n",
            "\n"
          ]
        }
      ]
    },
    {
      "cell_type": "markdown",
      "source": [
        "Comparison:\n",
        "\n",
        "Undersampling: Achieves high precision for non-fraud cases but sacrifices recall for fraud cases.\n",
        "Oversampling: Similar to undersampling, with high precision for non-fraud cases but low recall for fraud cases.\n",
        "\n",
        "Considerations:\n",
        "\n",
        "If the concern is reducing false positives (misclassifying non-fraud as fraud), you might prefer higher precision.\n",
        "If the consequence of missing a fraud case (false negatives) is severe, you might prioritize higher recall.\n",
        "\n",
        " The choice depends on the specific objectives and trade-offs relevant to your application."
      ],
      "metadata": {
        "id": "R6nV99VB1xqt"
      },
      "id": "R6nV99VB1xqt"
    }
  ],
  "metadata": {
    "kernelspec": {
      "display_name": "Python 3 (ipykernel)",
      "language": "python",
      "name": "python3"
    },
    "language_info": {
      "codemirror_mode": {
        "name": "ipython",
        "version": 3
      },
      "file_extension": ".py",
      "mimetype": "text/x-python",
      "name": "python",
      "nbconvert_exporter": "python",
      "pygments_lexer": "ipython3",
      "version": "3.11.5"
    },
    "colab": {
      "provenance": []
    }
  },
  "nbformat": 4,
  "nbformat_minor": 5
}