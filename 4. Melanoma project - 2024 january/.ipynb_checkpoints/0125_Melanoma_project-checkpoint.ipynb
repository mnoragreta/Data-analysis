{
 "cells": [
  {
   "cell_type": "markdown",
   "id": "bad60719",
   "metadata": {},
   "source": [
    "### Context ###\n",
    "\n",
    "The data consists of measurements made on patients with malignant melanoma. Each patient\n",
    "had their tumour removed by surgery at the Department of Plastic Surgery, University Hospital\n",
    "of Odense, Denmark during the period 1962 to 1977. The surgery consisted of complete\n",
    "removal of the tumour together with about 2.5cm of the surrounding skin.\n",
    "Among the measurements taken were the thickness of the tumour and whether it was\n",
    "ulcerated or not. These are thought to be important prognostic variables in that patients with a\n",
    "thick and/or ulcerated tumour have an increased chance of death from melanoma. Patients\n",
    "were followed until the end of 1977. The data frame contains the following columns.\n",
    "\n",
    "\n",
    "    • time - Survival time in days since the operation.\n",
    "    • status - The patients status at the end of the study.\n",
    "    1 indicates that they had died from melanoma, 2 indicates that they were still alive and 3\n",
    "    indicates that they had died from causes unrelated to their melanoma.\n",
    "    • sex - The patients sex; 1=male, 0=female.\n",
    "    • age - Age in years at the time of the operation.\n",
    "    • year - Year of operation.\n",
    "    • thickness - Tumour thickness in mm.\n",
    "    • ulcer - Indicator of ulceration; 1=present, 0=absent"
   ]
  },
  {
   "cell_type": "markdown",
   "id": "ecebc843",
   "metadata": {},
   "source": [
    "importing the required libraries"
   ]
  },
  {
   "cell_type": "code",
   "execution_count": 1,
   "id": "fe41b665",
   "metadata": {},
   "outputs": [],
   "source": [
    "import pandas as pd\n",
    "import numpy as np\n",
    "import matplotlib.pyplot as plt\n",
    "import seaborn as sns\n",
    "import warnings\n",
    "warnings.filterwarnings('ignore', category=UserWarning, module='sklearn')"
   ]
  },
  {
   "cell_type": "code",
   "execution_count": 2,
   "id": "e59e76e8",
   "metadata": {},
   "outputs": [],
   "source": [
    "df = pd.read_csv('melanoma.csv')"
   ]
  },
  {
   "cell_type": "code",
   "execution_count": 3,
   "id": "ed48223d",
   "metadata": {},
   "outputs": [
    {
     "data": {
      "text/html": [
       "<div>\n",
       "<style scoped>\n",
       "    .dataframe tbody tr th:only-of-type {\n",
       "        vertical-align: middle;\n",
       "    }\n",
       "\n",
       "    .dataframe tbody tr th {\n",
       "        vertical-align: top;\n",
       "    }\n",
       "\n",
       "    .dataframe thead th {\n",
       "        text-align: right;\n",
       "    }\n",
       "</style>\n",
       "<table border=\"1\" class=\"dataframe\">\n",
       "  <thead>\n",
       "    <tr style=\"text-align: right;\">\n",
       "      <th></th>\n",
       "      <th>time</th>\n",
       "      <th>status</th>\n",
       "      <th>sex</th>\n",
       "      <th>age</th>\n",
       "      <th>year</th>\n",
       "      <th>thickness</th>\n",
       "      <th>ulcer</th>\n",
       "    </tr>\n",
       "  </thead>\n",
       "  <tbody>\n",
       "    <tr>\n",
       "      <th>0</th>\n",
       "      <td>10</td>\n",
       "      <td>3</td>\n",
       "      <td>1</td>\n",
       "      <td>76</td>\n",
       "      <td>1972</td>\n",
       "      <td>6.76</td>\n",
       "      <td>1</td>\n",
       "    </tr>\n",
       "    <tr>\n",
       "      <th>1</th>\n",
       "      <td>30</td>\n",
       "      <td>3</td>\n",
       "      <td>1</td>\n",
       "      <td>56</td>\n",
       "      <td>1968</td>\n",
       "      <td>0.65</td>\n",
       "      <td>0</td>\n",
       "    </tr>\n",
       "    <tr>\n",
       "      <th>2</th>\n",
       "      <td>35</td>\n",
       "      <td>2</td>\n",
       "      <td>1</td>\n",
       "      <td>41</td>\n",
       "      <td>1977</td>\n",
       "      <td>1.34</td>\n",
       "      <td>0</td>\n",
       "    </tr>\n",
       "    <tr>\n",
       "      <th>3</th>\n",
       "      <td>99</td>\n",
       "      <td>3</td>\n",
       "      <td>0</td>\n",
       "      <td>71</td>\n",
       "      <td>1968</td>\n",
       "      <td>2.90</td>\n",
       "      <td>0</td>\n",
       "    </tr>\n",
       "    <tr>\n",
       "      <th>4</th>\n",
       "      <td>185</td>\n",
       "      <td>1</td>\n",
       "      <td>1</td>\n",
       "      <td>52</td>\n",
       "      <td>1965</td>\n",
       "      <td>12.08</td>\n",
       "      <td>1</td>\n",
       "    </tr>\n",
       "    <tr>\n",
       "      <th>...</th>\n",
       "      <td>...</td>\n",
       "      <td>...</td>\n",
       "      <td>...</td>\n",
       "      <td>...</td>\n",
       "      <td>...</td>\n",
       "      <td>...</td>\n",
       "      <td>...</td>\n",
       "    </tr>\n",
       "    <tr>\n",
       "      <th>200</th>\n",
       "      <td>4492</td>\n",
       "      <td>2</td>\n",
       "      <td>1</td>\n",
       "      <td>29</td>\n",
       "      <td>1965</td>\n",
       "      <td>7.06</td>\n",
       "      <td>1</td>\n",
       "    </tr>\n",
       "    <tr>\n",
       "      <th>201</th>\n",
       "      <td>4668</td>\n",
       "      <td>2</td>\n",
       "      <td>0</td>\n",
       "      <td>40</td>\n",
       "      <td>1965</td>\n",
       "      <td>6.12</td>\n",
       "      <td>0</td>\n",
       "    </tr>\n",
       "    <tr>\n",
       "      <th>202</th>\n",
       "      <td>4688</td>\n",
       "      <td>2</td>\n",
       "      <td>0</td>\n",
       "      <td>42</td>\n",
       "      <td>1965</td>\n",
       "      <td>0.48</td>\n",
       "      <td>0</td>\n",
       "    </tr>\n",
       "    <tr>\n",
       "      <th>203</th>\n",
       "      <td>4926</td>\n",
       "      <td>2</td>\n",
       "      <td>0</td>\n",
       "      <td>50</td>\n",
       "      <td>1964</td>\n",
       "      <td>2.26</td>\n",
       "      <td>0</td>\n",
       "    </tr>\n",
       "    <tr>\n",
       "      <th>204</th>\n",
       "      <td>5565</td>\n",
       "      <td>2</td>\n",
       "      <td>0</td>\n",
       "      <td>41</td>\n",
       "      <td>1962</td>\n",
       "      <td>2.90</td>\n",
       "      <td>0</td>\n",
       "    </tr>\n",
       "  </tbody>\n",
       "</table>\n",
       "<p>205 rows × 7 columns</p>\n",
       "</div>"
      ],
      "text/plain": [
       "     time  status  sex  age  year  thickness  ulcer\n",
       "0      10       3    1   76  1972       6.76      1\n",
       "1      30       3    1   56  1968       0.65      0\n",
       "2      35       2    1   41  1977       1.34      0\n",
       "3      99       3    0   71  1968       2.90      0\n",
       "4     185       1    1   52  1965      12.08      1\n",
       "..    ...     ...  ...  ...   ...        ...    ...\n",
       "200  4492       2    1   29  1965       7.06      1\n",
       "201  4668       2    0   40  1965       6.12      0\n",
       "202  4688       2    0   42  1965       0.48      0\n",
       "203  4926       2    0   50  1964       2.26      0\n",
       "204  5565       2    0   41  1962       2.90      0\n",
       "\n",
       "[205 rows x 7 columns]"
      ]
     },
     "execution_count": 3,
     "metadata": {},
     "output_type": "execute_result"
    }
   ],
   "source": [
    "df"
   ]
  },
  {
   "cell_type": "code",
   "execution_count": 4,
   "id": "c68c856c",
   "metadata": {},
   "outputs": [],
   "source": [
    "df = df.drop_duplicates()"
   ]
  },
  {
   "cell_type": "code",
   "execution_count": 5,
   "id": "cc2945f6",
   "metadata": {},
   "outputs": [
    {
     "name": "stdout",
     "output_type": "stream",
     "text": [
      "<class 'pandas.core.frame.DataFrame'>\n",
      "RangeIndex: 205 entries, 0 to 204\n",
      "Data columns (total 7 columns):\n",
      " #   Column     Non-Null Count  Dtype  \n",
      "---  ------     --------------  -----  \n",
      " 0   time       205 non-null    int64  \n",
      " 1   status     205 non-null    int64  \n",
      " 2   sex        205 non-null    int64  \n",
      " 3   age        205 non-null    int64  \n",
      " 4   year       205 non-null    int64  \n",
      " 5   thickness  205 non-null    float64\n",
      " 6   ulcer      205 non-null    int64  \n",
      "dtypes: float64(1), int64(6)\n",
      "memory usage: 11.3 KB\n"
     ]
    }
   ],
   "source": [
    "df.info()"
   ]
  },
  {
   "cell_type": "markdown",
   "id": "a5e717e3",
   "metadata": {},
   "source": [
    "### summary statistics ###"
   ]
  },
  {
   "cell_type": "code",
   "execution_count": 6,
   "id": "e11448c4",
   "metadata": {},
   "outputs": [],
   "source": [
    "df['Year of survival'] = df['time'] / 365"
   ]
  },
  {
   "cell_type": "code",
   "execution_count": 7,
   "id": "9fb43294",
   "metadata": {},
   "outputs": [
    {
     "data": {
      "text/html": [
       "<div>\n",
       "<style scoped>\n",
       "    .dataframe tbody tr th:only-of-type {\n",
       "        vertical-align: middle;\n",
       "    }\n",
       "\n",
       "    .dataframe tbody tr th {\n",
       "        vertical-align: top;\n",
       "    }\n",
       "\n",
       "    .dataframe thead th {\n",
       "        text-align: right;\n",
       "    }\n",
       "</style>\n",
       "<table border=\"1\" class=\"dataframe\">\n",
       "  <thead>\n",
       "    <tr style=\"text-align: right;\">\n",
       "      <th></th>\n",
       "      <th>time</th>\n",
       "      <th>status</th>\n",
       "      <th>sex</th>\n",
       "      <th>age</th>\n",
       "      <th>year</th>\n",
       "      <th>thickness</th>\n",
       "      <th>ulcer</th>\n",
       "      <th>Year of survival</th>\n",
       "    </tr>\n",
       "  </thead>\n",
       "  <tbody>\n",
       "    <tr>\n",
       "      <th>count</th>\n",
       "      <td>205.000000</td>\n",
       "      <td>205.000000</td>\n",
       "      <td>205.000000</td>\n",
       "      <td>205.000000</td>\n",
       "      <td>205.000000</td>\n",
       "      <td>205.000000</td>\n",
       "      <td>205.000000</td>\n",
       "      <td>205.000000</td>\n",
       "    </tr>\n",
       "    <tr>\n",
       "      <th>mean</th>\n",
       "      <td>2152.800000</td>\n",
       "      <td>1.790244</td>\n",
       "      <td>0.385366</td>\n",
       "      <td>52.463415</td>\n",
       "      <td>1969.907317</td>\n",
       "      <td>2.919854</td>\n",
       "      <td>0.439024</td>\n",
       "      <td>5.898082</td>\n",
       "    </tr>\n",
       "    <tr>\n",
       "      <th>std</th>\n",
       "      <td>1122.060667</td>\n",
       "      <td>0.551204</td>\n",
       "      <td>0.487873</td>\n",
       "      <td>16.671711</td>\n",
       "      <td>2.575563</td>\n",
       "      <td>2.959433</td>\n",
       "      <td>0.497483</td>\n",
       "      <td>3.074139</td>\n",
       "    </tr>\n",
       "    <tr>\n",
       "      <th>min</th>\n",
       "      <td>10.000000</td>\n",
       "      <td>1.000000</td>\n",
       "      <td>0.000000</td>\n",
       "      <td>4.000000</td>\n",
       "      <td>1962.000000</td>\n",
       "      <td>0.100000</td>\n",
       "      <td>0.000000</td>\n",
       "      <td>0.027397</td>\n",
       "    </tr>\n",
       "    <tr>\n",
       "      <th>25%</th>\n",
       "      <td>1525.000000</td>\n",
       "      <td>1.000000</td>\n",
       "      <td>0.000000</td>\n",
       "      <td>42.000000</td>\n",
       "      <td>1968.000000</td>\n",
       "      <td>0.970000</td>\n",
       "      <td>0.000000</td>\n",
       "      <td>4.178082</td>\n",
       "    </tr>\n",
       "    <tr>\n",
       "      <th>50%</th>\n",
       "      <td>2005.000000</td>\n",
       "      <td>2.000000</td>\n",
       "      <td>0.000000</td>\n",
       "      <td>54.000000</td>\n",
       "      <td>1970.000000</td>\n",
       "      <td>1.940000</td>\n",
       "      <td>0.000000</td>\n",
       "      <td>5.493151</td>\n",
       "    </tr>\n",
       "    <tr>\n",
       "      <th>75%</th>\n",
       "      <td>3042.000000</td>\n",
       "      <td>2.000000</td>\n",
       "      <td>1.000000</td>\n",
       "      <td>65.000000</td>\n",
       "      <td>1972.000000</td>\n",
       "      <td>3.560000</td>\n",
       "      <td>1.000000</td>\n",
       "      <td>8.334247</td>\n",
       "    </tr>\n",
       "    <tr>\n",
       "      <th>max</th>\n",
       "      <td>5565.000000</td>\n",
       "      <td>3.000000</td>\n",
       "      <td>1.000000</td>\n",
       "      <td>95.000000</td>\n",
       "      <td>1977.000000</td>\n",
       "      <td>17.420000</td>\n",
       "      <td>1.000000</td>\n",
       "      <td>15.246575</td>\n",
       "    </tr>\n",
       "  </tbody>\n",
       "</table>\n",
       "</div>"
      ],
      "text/plain": [
       "              time      status         sex         age         year   \n",
       "count   205.000000  205.000000  205.000000  205.000000   205.000000  \\\n",
       "mean   2152.800000    1.790244    0.385366   52.463415  1969.907317   \n",
       "std    1122.060667    0.551204    0.487873   16.671711     2.575563   \n",
       "min      10.000000    1.000000    0.000000    4.000000  1962.000000   \n",
       "25%    1525.000000    1.000000    0.000000   42.000000  1968.000000   \n",
       "50%    2005.000000    2.000000    0.000000   54.000000  1970.000000   \n",
       "75%    3042.000000    2.000000    1.000000   65.000000  1972.000000   \n",
       "max    5565.000000    3.000000    1.000000   95.000000  1977.000000   \n",
       "\n",
       "        thickness       ulcer  Year of survival  \n",
       "count  205.000000  205.000000        205.000000  \n",
       "mean     2.919854    0.439024          5.898082  \n",
       "std      2.959433    0.497483          3.074139  \n",
       "min      0.100000    0.000000          0.027397  \n",
       "25%      0.970000    0.000000          4.178082  \n",
       "50%      1.940000    0.000000          5.493151  \n",
       "75%      3.560000    1.000000          8.334247  \n",
       "max     17.420000    1.000000         15.246575  "
      ]
     },
     "execution_count": 7,
     "metadata": {},
     "output_type": "execute_result"
    }
   ],
   "source": [
    "df.describe()"
   ]
  },
  {
   "cell_type": "code",
   "execution_count": 8,
   "id": "a5b63537",
   "metadata": {},
   "outputs": [
    {
     "data": {
      "text/plain": [
       "sex\n",
       "0    126\n",
       "1     79\n",
       "Name: count, dtype: int64"
      ]
     },
     "execution_count": 8,
     "metadata": {},
     "output_type": "execute_result"
    }
   ],
   "source": [
    "df['sex'].value_counts()"
   ]
  },
  {
   "cell_type": "code",
   "execution_count": 9,
   "id": "0de33b3d",
   "metadata": {},
   "outputs": [
    {
     "data": {
      "text/plain": [
       "0.6146341463414634"
      ]
     },
     "execution_count": 9,
     "metadata": {},
     "output_type": "execute_result"
    }
   ],
   "source": [
    "126/205"
   ]
  },
  {
   "cell_type": "markdown",
   "id": "c0aa6863",
   "metadata": {},
   "source": [
    "### checking for each variables"
   ]
  },
  {
   "cell_type": "markdown",
   "id": "e88ab197",
   "metadata": {},
   "source": [
    "### Before any visualization let's change the status and sex for categorical columns ###"
   ]
  },
  {
   "cell_type": "code",
   "execution_count": 10,
   "id": "e0c31189",
   "metadata": {},
   "outputs": [],
   "source": [
    "sex_categorical = {'sex': {1: 'male', 0: 'female'}}"
   ]
  },
  {
   "cell_type": "code",
   "execution_count": 11,
   "id": "0bd33d63",
   "metadata": {},
   "outputs": [],
   "source": [
    "df = df.replace(sex_categorical)"
   ]
  },
  {
   "cell_type": "code",
   "execution_count": 12,
   "id": "10efa1af",
   "metadata": {},
   "outputs": [
    {
     "data": {
      "text/html": [
       "<div>\n",
       "<style scoped>\n",
       "    .dataframe tbody tr th:only-of-type {\n",
       "        vertical-align: middle;\n",
       "    }\n",
       "\n",
       "    .dataframe tbody tr th {\n",
       "        vertical-align: top;\n",
       "    }\n",
       "\n",
       "    .dataframe thead th {\n",
       "        text-align: right;\n",
       "    }\n",
       "</style>\n",
       "<table border=\"1\" class=\"dataframe\">\n",
       "  <thead>\n",
       "    <tr style=\"text-align: right;\">\n",
       "      <th></th>\n",
       "      <th>time</th>\n",
       "      <th>status</th>\n",
       "      <th>sex</th>\n",
       "      <th>age</th>\n",
       "      <th>year</th>\n",
       "      <th>thickness</th>\n",
       "      <th>ulcer</th>\n",
       "      <th>Year of survival</th>\n",
       "    </tr>\n",
       "  </thead>\n",
       "  <tbody>\n",
       "    <tr>\n",
       "      <th>0</th>\n",
       "      <td>10</td>\n",
       "      <td>3</td>\n",
       "      <td>male</td>\n",
       "      <td>76</td>\n",
       "      <td>1972</td>\n",
       "      <td>6.76</td>\n",
       "      <td>1</td>\n",
       "      <td>0.027397</td>\n",
       "    </tr>\n",
       "    <tr>\n",
       "      <th>1</th>\n",
       "      <td>30</td>\n",
       "      <td>3</td>\n",
       "      <td>male</td>\n",
       "      <td>56</td>\n",
       "      <td>1968</td>\n",
       "      <td>0.65</td>\n",
       "      <td>0</td>\n",
       "      <td>0.082192</td>\n",
       "    </tr>\n",
       "    <tr>\n",
       "      <th>2</th>\n",
       "      <td>35</td>\n",
       "      <td>2</td>\n",
       "      <td>male</td>\n",
       "      <td>41</td>\n",
       "      <td>1977</td>\n",
       "      <td>1.34</td>\n",
       "      <td>0</td>\n",
       "      <td>0.095890</td>\n",
       "    </tr>\n",
       "    <tr>\n",
       "      <th>3</th>\n",
       "      <td>99</td>\n",
       "      <td>3</td>\n",
       "      <td>female</td>\n",
       "      <td>71</td>\n",
       "      <td>1968</td>\n",
       "      <td>2.90</td>\n",
       "      <td>0</td>\n",
       "      <td>0.271233</td>\n",
       "    </tr>\n",
       "    <tr>\n",
       "      <th>4</th>\n",
       "      <td>185</td>\n",
       "      <td>1</td>\n",
       "      <td>male</td>\n",
       "      <td>52</td>\n",
       "      <td>1965</td>\n",
       "      <td>12.08</td>\n",
       "      <td>1</td>\n",
       "      <td>0.506849</td>\n",
       "    </tr>\n",
       "    <tr>\n",
       "      <th>...</th>\n",
       "      <td>...</td>\n",
       "      <td>...</td>\n",
       "      <td>...</td>\n",
       "      <td>...</td>\n",
       "      <td>...</td>\n",
       "      <td>...</td>\n",
       "      <td>...</td>\n",
       "      <td>...</td>\n",
       "    </tr>\n",
       "    <tr>\n",
       "      <th>200</th>\n",
       "      <td>4492</td>\n",
       "      <td>2</td>\n",
       "      <td>male</td>\n",
       "      <td>29</td>\n",
       "      <td>1965</td>\n",
       "      <td>7.06</td>\n",
       "      <td>1</td>\n",
       "      <td>12.306849</td>\n",
       "    </tr>\n",
       "    <tr>\n",
       "      <th>201</th>\n",
       "      <td>4668</td>\n",
       "      <td>2</td>\n",
       "      <td>female</td>\n",
       "      <td>40</td>\n",
       "      <td>1965</td>\n",
       "      <td>6.12</td>\n",
       "      <td>0</td>\n",
       "      <td>12.789041</td>\n",
       "    </tr>\n",
       "    <tr>\n",
       "      <th>202</th>\n",
       "      <td>4688</td>\n",
       "      <td>2</td>\n",
       "      <td>female</td>\n",
       "      <td>42</td>\n",
       "      <td>1965</td>\n",
       "      <td>0.48</td>\n",
       "      <td>0</td>\n",
       "      <td>12.843836</td>\n",
       "    </tr>\n",
       "    <tr>\n",
       "      <th>203</th>\n",
       "      <td>4926</td>\n",
       "      <td>2</td>\n",
       "      <td>female</td>\n",
       "      <td>50</td>\n",
       "      <td>1964</td>\n",
       "      <td>2.26</td>\n",
       "      <td>0</td>\n",
       "      <td>13.495890</td>\n",
       "    </tr>\n",
       "    <tr>\n",
       "      <th>204</th>\n",
       "      <td>5565</td>\n",
       "      <td>2</td>\n",
       "      <td>female</td>\n",
       "      <td>41</td>\n",
       "      <td>1962</td>\n",
       "      <td>2.90</td>\n",
       "      <td>0</td>\n",
       "      <td>15.246575</td>\n",
       "    </tr>\n",
       "  </tbody>\n",
       "</table>\n",
       "<p>205 rows × 8 columns</p>\n",
       "</div>"
      ],
      "text/plain": [
       "     time  status     sex  age  year  thickness  ulcer  Year of survival\n",
       "0      10       3    male   76  1972       6.76      1          0.027397\n",
       "1      30       3    male   56  1968       0.65      0          0.082192\n",
       "2      35       2    male   41  1977       1.34      0          0.095890\n",
       "3      99       3  female   71  1968       2.90      0          0.271233\n",
       "4     185       1    male   52  1965      12.08      1          0.506849\n",
       "..    ...     ...     ...  ...   ...        ...    ...               ...\n",
       "200  4492       2    male   29  1965       7.06      1         12.306849\n",
       "201  4668       2  female   40  1965       6.12      0         12.789041\n",
       "202  4688       2  female   42  1965       0.48      0         12.843836\n",
       "203  4926       2  female   50  1964       2.26      0         13.495890\n",
       "204  5565       2  female   41  1962       2.90      0         15.246575\n",
       "\n",
       "[205 rows x 8 columns]"
      ]
     },
     "execution_count": 12,
     "metadata": {},
     "output_type": "execute_result"
    }
   ],
   "source": [
    "df"
   ]
  },
  {
   "cell_type": "code",
   "execution_count": 13,
   "id": "66cc10c5",
   "metadata": {},
   "outputs": [],
   "source": [
    "status_categorical = {'status': {1:'died from melanoma', 2: 'still alive', 3: 'died unrelated melanoma'}}"
   ]
  },
  {
   "cell_type": "code",
   "execution_count": 14,
   "id": "11271f0f",
   "metadata": {},
   "outputs": [],
   "source": [
    "df = df.replace(status_categorical)"
   ]
  },
  {
   "cell_type": "code",
   "execution_count": 15,
   "id": "571473d5",
   "metadata": {},
   "outputs": [
    {
     "data": {
      "text/html": [
       "<div>\n",
       "<style scoped>\n",
       "    .dataframe tbody tr th:only-of-type {\n",
       "        vertical-align: middle;\n",
       "    }\n",
       "\n",
       "    .dataframe tbody tr th {\n",
       "        vertical-align: top;\n",
       "    }\n",
       "\n",
       "    .dataframe thead th {\n",
       "        text-align: right;\n",
       "    }\n",
       "</style>\n",
       "<table border=\"1\" class=\"dataframe\">\n",
       "  <thead>\n",
       "    <tr style=\"text-align: right;\">\n",
       "      <th></th>\n",
       "      <th>time</th>\n",
       "      <th>status</th>\n",
       "      <th>sex</th>\n",
       "      <th>age</th>\n",
       "      <th>year</th>\n",
       "      <th>thickness</th>\n",
       "      <th>ulcer</th>\n",
       "      <th>Year of survival</th>\n",
       "    </tr>\n",
       "  </thead>\n",
       "  <tbody>\n",
       "    <tr>\n",
       "      <th>0</th>\n",
       "      <td>10</td>\n",
       "      <td>died unrelated melanoma</td>\n",
       "      <td>male</td>\n",
       "      <td>76</td>\n",
       "      <td>1972</td>\n",
       "      <td>6.76</td>\n",
       "      <td>1</td>\n",
       "      <td>0.027397</td>\n",
       "    </tr>\n",
       "    <tr>\n",
       "      <th>1</th>\n",
       "      <td>30</td>\n",
       "      <td>died unrelated melanoma</td>\n",
       "      <td>male</td>\n",
       "      <td>56</td>\n",
       "      <td>1968</td>\n",
       "      <td>0.65</td>\n",
       "      <td>0</td>\n",
       "      <td>0.082192</td>\n",
       "    </tr>\n",
       "    <tr>\n",
       "      <th>2</th>\n",
       "      <td>35</td>\n",
       "      <td>still alive</td>\n",
       "      <td>male</td>\n",
       "      <td>41</td>\n",
       "      <td>1977</td>\n",
       "      <td>1.34</td>\n",
       "      <td>0</td>\n",
       "      <td>0.095890</td>\n",
       "    </tr>\n",
       "    <tr>\n",
       "      <th>3</th>\n",
       "      <td>99</td>\n",
       "      <td>died unrelated melanoma</td>\n",
       "      <td>female</td>\n",
       "      <td>71</td>\n",
       "      <td>1968</td>\n",
       "      <td>2.90</td>\n",
       "      <td>0</td>\n",
       "      <td>0.271233</td>\n",
       "    </tr>\n",
       "    <tr>\n",
       "      <th>4</th>\n",
       "      <td>185</td>\n",
       "      <td>died from melanoma</td>\n",
       "      <td>male</td>\n",
       "      <td>52</td>\n",
       "      <td>1965</td>\n",
       "      <td>12.08</td>\n",
       "      <td>1</td>\n",
       "      <td>0.506849</td>\n",
       "    </tr>\n",
       "    <tr>\n",
       "      <th>...</th>\n",
       "      <td>...</td>\n",
       "      <td>...</td>\n",
       "      <td>...</td>\n",
       "      <td>...</td>\n",
       "      <td>...</td>\n",
       "      <td>...</td>\n",
       "      <td>...</td>\n",
       "      <td>...</td>\n",
       "    </tr>\n",
       "    <tr>\n",
       "      <th>200</th>\n",
       "      <td>4492</td>\n",
       "      <td>still alive</td>\n",
       "      <td>male</td>\n",
       "      <td>29</td>\n",
       "      <td>1965</td>\n",
       "      <td>7.06</td>\n",
       "      <td>1</td>\n",
       "      <td>12.306849</td>\n",
       "    </tr>\n",
       "    <tr>\n",
       "      <th>201</th>\n",
       "      <td>4668</td>\n",
       "      <td>still alive</td>\n",
       "      <td>female</td>\n",
       "      <td>40</td>\n",
       "      <td>1965</td>\n",
       "      <td>6.12</td>\n",
       "      <td>0</td>\n",
       "      <td>12.789041</td>\n",
       "    </tr>\n",
       "    <tr>\n",
       "      <th>202</th>\n",
       "      <td>4688</td>\n",
       "      <td>still alive</td>\n",
       "      <td>female</td>\n",
       "      <td>42</td>\n",
       "      <td>1965</td>\n",
       "      <td>0.48</td>\n",
       "      <td>0</td>\n",
       "      <td>12.843836</td>\n",
       "    </tr>\n",
       "    <tr>\n",
       "      <th>203</th>\n",
       "      <td>4926</td>\n",
       "      <td>still alive</td>\n",
       "      <td>female</td>\n",
       "      <td>50</td>\n",
       "      <td>1964</td>\n",
       "      <td>2.26</td>\n",
       "      <td>0</td>\n",
       "      <td>13.495890</td>\n",
       "    </tr>\n",
       "    <tr>\n",
       "      <th>204</th>\n",
       "      <td>5565</td>\n",
       "      <td>still alive</td>\n",
       "      <td>female</td>\n",
       "      <td>41</td>\n",
       "      <td>1962</td>\n",
       "      <td>2.90</td>\n",
       "      <td>0</td>\n",
       "      <td>15.246575</td>\n",
       "    </tr>\n",
       "  </tbody>\n",
       "</table>\n",
       "<p>205 rows × 8 columns</p>\n",
       "</div>"
      ],
      "text/plain": [
       "     time                   status     sex  age  year  thickness  ulcer   \n",
       "0      10  died unrelated melanoma    male   76  1972       6.76      1  \\\n",
       "1      30  died unrelated melanoma    male   56  1968       0.65      0   \n",
       "2      35              still alive    male   41  1977       1.34      0   \n",
       "3      99  died unrelated melanoma  female   71  1968       2.90      0   \n",
       "4     185       died from melanoma    male   52  1965      12.08      1   \n",
       "..    ...                      ...     ...  ...   ...        ...    ...   \n",
       "200  4492              still alive    male   29  1965       7.06      1   \n",
       "201  4668              still alive  female   40  1965       6.12      0   \n",
       "202  4688              still alive  female   42  1965       0.48      0   \n",
       "203  4926              still alive  female   50  1964       2.26      0   \n",
       "204  5565              still alive  female   41  1962       2.90      0   \n",
       "\n",
       "     Year of survival  \n",
       "0            0.027397  \n",
       "1            0.082192  \n",
       "2            0.095890  \n",
       "3            0.271233  \n",
       "4            0.506849  \n",
       "..                ...  \n",
       "200         12.306849  \n",
       "201         12.789041  \n",
       "202         12.843836  \n",
       "203         13.495890  \n",
       "204         15.246575  \n",
       "\n",
       "[205 rows x 8 columns]"
      ]
     },
     "execution_count": 15,
     "metadata": {},
     "output_type": "execute_result"
    }
   ],
   "source": [
    "df"
   ]
  },
  {
   "cell_type": "code",
   "execution_count": null,
   "id": "a0fd40c8",
   "metadata": {},
   "outputs": [],
   "source": []
  },
  {
   "cell_type": "markdown",
   "id": "cb2db8e9",
   "metadata": {},
   "source": [
    "*** thickness ***"
   ]
  },
  {
   "cell_type": "code",
   "execution_count": 16,
   "id": "2dc1960c",
   "metadata": {},
   "outputs": [
    {
     "data": {
      "text/plain": [
       "<AxesSubplot: ylabel='thickness'>"
      ]
     },
     "execution_count": 16,
     "metadata": {},
     "output_type": "execute_result"
    },
    {
     "data": {
      "image/png": "[encoded data removed]",
      "text/plain": [
       "<Figure size 400x300 with 1 Axes>"
      ]
     },
     "metadata": {},
     "output_type": "display_data"
    }
   ],
   "source": [
    "sns.set(rc={\"figure.figsize\":(4,3)})\n",
    "sns.boxplot(y=df['thickness'])"
   ]
  },
  {
   "cell_type": "code",
   "execution_count": 17,
   "id": "c0868343",
   "metadata": {},
   "outputs": [
    {
     "data": {
      "text/plain": [
       "<AxesSubplot: >"
      ]
     },
     "execution_count": 17,
     "metadata": {},
     "output_type": "execute_result"
    },
    {
     "data": {
      "image/png": "[encoded data removed]",
      "text/plain": [
       "<Figure size 400x300 with 1 Axes>"
      ]
     },
     "metadata": {},
     "output_type": "display_data"
    }
   ],
   "source": [
    "df['thickness'].hist(bins=50)"
   ]
  },
  {
   "cell_type": "markdown",
   "id": "3ef30ee5",
   "metadata": {},
   "source": [
    "Observation: Majority of the tumour thickness is between 0-5, with average of 2,19, however there are extreme values even above 15. This distirbution is a positive distribution, right-skewed. "
   ]
  },
  {
   "cell_type": "code",
   "execution_count": 18,
   "id": "5c204bfd",
   "metadata": {},
   "outputs": [
    {
     "data": {
      "text/plain": [
       "2.181544274078034"
      ]
     },
     "execution_count": 18,
     "metadata": {},
     "output_type": "execute_result"
    }
   ],
   "source": [
    "df['thickness'].skew()"
   ]
  },
  {
   "cell_type": "markdown",
   "id": "cd89cc23",
   "metadata": {},
   "source": [
    "*** age ***"
   ]
  },
  {
   "cell_type": "code",
   "execution_count": 19,
   "id": "e7fec95c",
   "metadata": {},
   "outputs": [
    {
     "data": {
      "text/plain": [
       "<AxesSubplot: ylabel='age'>"
      ]
     },
     "execution_count": 19,
     "metadata": {},
     "output_type": "execute_result"
    },
    {
     "data": {
      "image/png": "[encoded data removed]",
      "text/plain": [
       "<Figure size 400x300 with 1 Axes>"
      ]
     },
     "metadata": {},
     "output_type": "display_data"
    }
   ],
   "source": [
    "sns.set(rc={\"figure.figsize\":(4,3)})\n",
    "sns.boxplot(y=df['age'])"
   ]
  },
  {
   "cell_type": "code",
   "execution_count": 20,
   "id": "5abe67b7",
   "metadata": {},
   "outputs": [
    {
     "data": {
      "text/plain": [
       "<AxesSubplot: >"
      ]
     },
     "execution_count": 20,
     "metadata": {},
     "output_type": "execute_result"
    },
    {
     "data": {
      "image/png": "[encoded data removed]",
      "text/plain": [
       "<Figure size 400x300 with 1 Axes>"
      ]
     },
     "metadata": {},
     "output_type": "display_data"
    }
   ],
   "source": [
    "df['age'].hist(bins=50)"
   ]
  },
  {
   "cell_type": "code",
   "execution_count": 21,
   "id": "daefec3d",
   "metadata": {},
   "outputs": [
    {
     "data": {
      "text/plain": [
       "-0.3001769466939697"
      ]
     },
     "execution_count": 21,
     "metadata": {},
     "output_type": "execute_result"
    }
   ],
   "source": [
    "df['age'].skew()"
   ]
  },
  {
   "cell_type": "markdown",
   "id": "8e6b5013",
   "metadata": {},
   "source": [
    "Observation: Sadly there are some extreme values with quite young ages having melanoma as well, but generally we can also say that people below 40 can be impacted too, with a slightly lower chance.  Distribution slightly negative one, left tailed."
   ]
  },
  {
   "cell_type": "code",
   "execution_count": null,
   "id": "b004c783",
   "metadata": {},
   "outputs": [],
   "source": []
  },
  {
   "cell_type": "markdown",
   "id": "1ed9ff69",
   "metadata": {},
   "source": [
    "*** years of survival ***"
   ]
  },
  {
   "cell_type": "code",
   "execution_count": 22,
   "id": "9feafe1c",
   "metadata": {},
   "outputs": [
    {
     "data": {
      "text/plain": [
       "<AxesSubplot: ylabel='Year of survival'>"
      ]
     },
     "execution_count": 22,
     "metadata": {},
     "output_type": "execute_result"
    },
    {
     "data": {
      "image/png": "[encoded data removed]",
      "text/plain": [
       "<Figure size 400x300 with 1 Axes>"
      ]
     },
     "metadata": {},
     "output_type": "display_data"
    }
   ],
   "source": [
    "sns.set(rc={\"figure.figsize\":(4,3)})\n",
    "sns.boxplot(y=df['Year of survival'])"
   ]
  },
  {
   "cell_type": "code",
   "execution_count": 23,
   "id": "9e7895ea",
   "metadata": {},
   "outputs": [
    {
     "data": {
      "text/plain": [
       "<AxesSubplot: >"
      ]
     },
     "execution_count": 23,
     "metadata": {},
     "output_type": "execute_result"
    },
    {
     "data": {
      "image/png": "[encoded data removed]",
      "text/plain": [
       "<Figure size 400x300 with 1 Axes>"
      ]
     },
     "metadata": {},
     "output_type": "display_data"
    }
   ],
   "source": [
    "df['Year of survival'].hist(bins=50)"
   ]
  },
  {
   "cell_type": "code",
   "execution_count": 24,
   "id": "0292e557",
   "metadata": {},
   "outputs": [
    {
     "data": {
      "text/plain": [
       "0.33264739725725634"
      ]
     },
     "execution_count": 24,
     "metadata": {},
     "output_type": "execute_result"
    }
   ],
   "source": [
    "df['Year of survival'].skew()"
   ]
  },
  {
   "cell_type": "markdown",
   "id": "3335d415",
   "metadata": {},
   "source": [
    "Observation: the majority of the people are above the median which means good chances for survival. Please note that this study followed the patients in a time period of 15 years - so there might be patients who had the surgery at the at end of this period - so for them the year of survival is quite low even though they might live still today. "
   ]
  },
  {
   "cell_type": "code",
   "execution_count": null,
   "id": "88a6a039",
   "metadata": {},
   "outputs": [],
   "source": []
  },
  {
   "cell_type": "code",
   "execution_count": 25,
   "id": "c907f505",
   "metadata": {},
   "outputs": [
    {
     "data": {
      "text/plain": [
       "15.246575342465754"
      ]
     },
     "execution_count": 25,
     "metadata": {},
     "output_type": "execute_result"
    }
   ],
   "source": [
    "5565/365"
   ]
  },
  {
   "cell_type": "markdown",
   "id": "7c4da525",
   "metadata": {},
   "source": [
    "Min days of survival: 10 days\n",
    "\n",
    "Max days of survival: 15 years"
   ]
  },
  {
   "cell_type": "markdown",
   "id": "8fab094a",
   "metadata": {},
   "source": [
    "checking the variables"
   ]
  },
  {
   "cell_type": "code",
   "execution_count": 26,
   "id": "f5b6d507",
   "metadata": {},
   "outputs": [
    {
     "data": {
      "image/png": "[encoded data removed]",
      "text/plain": [
       "<Figure size 400x300 with 1 Axes>"
      ]
     },
     "metadata": {},
     "output_type": "display_data"
    }
   ],
   "source": [
    "sns.boxplot(x='sex', y='thickness', data = df )\n",
    "plt.xticks(rotation=45)\n",
    "plt.show()"
   ]
  },
  {
   "cell_type": "code",
   "execution_count": 27,
   "id": "74ce38aa",
   "metadata": {},
   "outputs": [
    {
     "data": {
      "text/plain": [
       "<seaborn.axisgrid.FacetGrid at 0x238cc9cb2d0>"
      ]
     },
     "execution_count": 27,
     "metadata": {},
     "output_type": "execute_result"
    },
    {
     "data": {
      "image/png": "[encoded data removed]",
      "text/plain": [
       "<Figure size 500x500 with 1 Axes>"
      ]
     },
     "metadata": {},
     "output_type": "display_data"
    }
   ],
   "source": [
    "sns.displot(df['thickness'])"
   ]
  },
  {
   "cell_type": "code",
   "execution_count": 28,
   "id": "7144d2ce",
   "metadata": {},
   "outputs": [],
   "source": [
    "male = df[df['sex'] == 'male' ]"
   ]
  },
  {
   "cell_type": "code",
   "execution_count": 29,
   "id": "fe739b3b",
   "metadata": {},
   "outputs": [
    {
     "data": {
      "text/plain": [
       "3.611139240506328"
      ]
     },
     "execution_count": 29,
     "metadata": {},
     "output_type": "execute_result"
    }
   ],
   "source": [
    "male['thickness'].mean()"
   ]
  },
  {
   "cell_type": "code",
   "execution_count": 30,
   "id": "04eafddd",
   "metadata": {},
   "outputs": [],
   "source": [
    "female = df[df['sex'] == 'female' ]"
   ]
  },
  {
   "cell_type": "code",
   "execution_count": 31,
   "id": "85885417",
   "metadata": {},
   "outputs": [
    {
     "data": {
      "text/plain": [
       "2.4864285714285708"
      ]
     },
     "execution_count": 31,
     "metadata": {},
     "output_type": "execute_result"
    }
   ],
   "source": [
    "female['thickness'].mean()"
   ]
  },
  {
   "cell_type": "markdown",
   "id": "65294850",
   "metadata": {},
   "source": [
    "Men usually has thicker tumour, the average thickness for men is 3.6 and for women 2.5"
   ]
  },
  {
   "cell_type": "markdown",
   "id": "f67fd244",
   "metadata": {},
   "source": [
    "Most endangered ages: 45 - 70"
   ]
  },
  {
   "cell_type": "code",
   "execution_count": 32,
   "id": "f004d64f",
   "metadata": {},
   "outputs": [],
   "source": [
    "mean_age = df['age'].mean()"
   ]
  },
  {
   "cell_type": "code",
   "execution_count": 33,
   "id": "169b33cc",
   "metadata": {
    "scrolled": false
   },
   "outputs": [
    {
     "data": {
      "image/png": "[encoded data removed]",
      "text/plain": [
       "<Figure size 600x400 with 1 Axes>"
      ]
     },
     "metadata": {},
     "output_type": "display_data"
    }
   ],
   "source": [
    "plt.figure(figsize=(6,4))\n",
    "sns.histplot(df['age'], bins=30, kde=False, color='skyblue')\n",
    "\n",
    "plt.axvline(mean_age, color='red', linestyle='dashed', linewidth=2, label=f'Mean Age: {mean_age:.2f}')\n",
    "\n",
    "plt.xlabel('Age')\n",
    "plt.ylabel('Number of cases per age')\n",
    "plt.title('Distribution of Age with Mean Age Line')\n",
    "plt.legend()\n",
    "\n",
    "plt.show()"
   ]
  },
  {
   "cell_type": "code",
   "execution_count": 34,
   "id": "a481214b",
   "metadata": {},
   "outputs": [
    {
     "data": {
      "text/plain": [
       "time                115\n",
       "status              115\n",
       "sex                 115\n",
       "age                 115\n",
       "year                115\n",
       "thickness           115\n",
       "ulcer               115\n",
       "Year of survival    115\n",
       "dtype: int64"
      ]
     },
     "execution_count": 34,
     "metadata": {},
     "output_type": "execute_result"
    }
   ],
   "source": [
    "df[df['ulcer'] == 0].count()"
   ]
  },
  {
   "cell_type": "code",
   "execution_count": 35,
   "id": "ce28195f",
   "metadata": {},
   "outputs": [
    {
     "data": {
      "text/plain": [
       "0.5609756097560976"
      ]
     },
     "execution_count": 35,
     "metadata": {},
     "output_type": "execute_result"
    }
   ],
   "source": [
    "115/205"
   ]
  },
  {
   "cell_type": "markdown",
   "id": "dbec5370",
   "metadata": {},
   "source": [
    "56% does not have any ucler, 44 had ulcer"
   ]
  },
  {
   "cell_type": "code",
   "execution_count": null,
   "id": "f091bd74",
   "metadata": {},
   "outputs": [],
   "source": []
  },
  {
   "cell_type": "markdown",
   "id": "a1654d77",
   "metadata": {},
   "source": [
    "### graphical summaries ### "
   ]
  },
  {
   "cell_type": "code",
   "execution_count": 36,
   "id": "0195e29c",
   "metadata": {},
   "outputs": [
    {
     "data": {
      "text/plain": [
       "<Figure size 800x700 with 0 Axes>"
      ]
     },
     "metadata": {},
     "output_type": "display_data"
    },
    {
     "data": {
      "image/png": "[encoded data removed]",
      "text/plain": [
       "<Figure size 1000x500 with 2 Axes>"
      ]
     },
     "metadata": {},
     "output_type": "display_data"
    }
   ],
   "source": [
    "plt.figure(figsize = (8, 7))\n",
    "sns.relplot(x='age', y = 'thickness',data = df,\n",
    "            kind = 'scatter', col='ulcer', color='deeppink')\n",
    "plt.show()"
   ]
  },
  {
   "cell_type": "markdown",
   "id": "d6194ee3",
   "metadata": {},
   "source": [
    "Generally we can say that who has less thick tumour they have less chance for ulcer."
   ]
  },
  {
   "cell_type": "code",
   "execution_count": 37,
   "id": "0d353925",
   "metadata": {},
   "outputs": [
    {
     "data": {
      "image/png": "[encoded data removed]",
      "text/plain": [
       "<Figure size 600.875x500 with 1 Axes>"
      ]
     },
     "metadata": {},
     "output_type": "display_data"
    }
   ],
   "source": [
    "sns.relplot(x='age', y = 'thickness',data = df,\n",
    "           kind = 'scatter',\n",
    "           hue = 'sex') #status as well\n",
    "plt.show()"
   ]
  },
  {
   "cell_type": "code",
   "execution_count": null,
   "id": "990f9a5d",
   "metadata": {},
   "outputs": [],
   "source": []
  },
  {
   "cell_type": "code",
   "execution_count": 38,
   "id": "332db794",
   "metadata": {},
   "outputs": [],
   "source": [
    "death_categories = ['died from melanoma','alive', 'died unrelated melanoma']"
   ]
  },
  {
   "cell_type": "code",
   "execution_count": 39,
   "id": "a5772fd8",
   "metadata": {},
   "outputs": [],
   "source": [
    "values = [57,134,14]"
   ]
  },
  {
   "cell_type": "code",
   "execution_count": 40,
   "id": "8b0d6bd1",
   "metadata": {},
   "outputs": [],
   "source": [
    "colors = ['moccasin','lightpink','lightslategrey','chocolate']"
   ]
  },
  {
   "cell_type": "code",
   "execution_count": 41,
   "id": "f4306f6c",
   "metadata": {},
   "outputs": [
    {
     "data": {
      "text/plain": [
       "([<matplotlib.patches.Wedge at 0x238cc922490>,\n",
       "  <matplotlib.patches.Wedge at 0x238cc9dda10>,\n",
       "  <matplotlib.patches.Wedge at 0x238ce20dfd0>],\n",
       " [Text(1.0957321468992642, -0.09680424707381939, 'died from melanoma'),\n",
       "  Text(-1.0912202026724298, -0.13870280919844888, 'alive'),\n",
       "  Text(0.5943824256047927, 0.9255860479351248, 'died unrelated melanoma')],\n",
       " [Text(0.6972840934813499, -0.06160270268333961, '27.80%'),\n",
       "  Text(-0.6944128562460916, -0.08826542403537654, '65.37%'),\n",
       "  Text(0.3782433617485044, 0.589009303231443, '6.83%')])"
      ]
     },
     "execution_count": 41,
     "metadata": {},
     "output_type": "execute_result"
    },
    {
     "data": {
      "image/png": "[encoded data removed]",
      "text/plain": [
       "<Figure size 400x300 with 1 Axes>"
      ]
     },
     "metadata": {},
     "output_type": "display_data"
    }
   ],
   "source": [
    "plt.pie(values, labels=death_categories, colors=colors, autopct='%.2f%%', pctdistance=0.7, startangle=45, shadow=True, counterclock=False) "
   ]
  },
  {
   "cell_type": "markdown",
   "id": "e6958b52",
   "metadata": {},
   "source": [
    "27% died from melanoma (57 out of 205)"
   ]
  },
  {
   "cell_type": "markdown",
   "id": "141c3537",
   "metadata": {},
   "source": [
    "Lets check those who died from melanoma"
   ]
  },
  {
   "cell_type": "code",
   "execution_count": 42,
   "id": "f5e85bb7",
   "metadata": {},
   "outputs": [],
   "source": [
    "died_melanoma = df[df['status'] == 'died from melanoma']"
   ]
  },
  {
   "cell_type": "code",
   "execution_count": 43,
   "id": "727bff44",
   "metadata": {},
   "outputs": [
    {
     "data": {
      "text/plain": [
       "4    185\n",
       "5    204\n",
       "6    210\n",
       "8    232\n",
       "9    279\n",
       "Name: time, dtype: int64"
      ]
     },
     "execution_count": 43,
     "metadata": {},
     "output_type": "execute_result"
    }
   ],
   "source": [
    "died_melanoma['time'].head()"
   ]
  },
  {
   "cell_type": "code",
   "execution_count": 44,
   "id": "6e9f06fb",
   "metadata": {},
   "outputs": [
    {
     "data": {
      "text/plain": [
       "<AxesSubplot: xlabel='time', ylabel='Count'>"
      ]
     },
     "execution_count": 44,
     "metadata": {},
     "output_type": "execute_result"
    },
    {
     "data": {
      "image/png": "[encoded data removed]",
      "text/plain": [
       "<Figure size 400x300 with 1 Axes>"
      ]
     },
     "metadata": {},
     "output_type": "display_data"
    }
   ],
   "source": [
    "sns.histplot(died_melanoma['time'])"
   ]
  },
  {
   "cell_type": "code",
   "execution_count": 45,
   "id": "71d7927a",
   "metadata": {},
   "outputs": [
    {
     "data": {
      "text/plain": [
       "time                29\n",
       "status              29\n",
       "sex                 29\n",
       "age                 29\n",
       "year                29\n",
       "thickness           29\n",
       "ulcer               29\n",
       "Year of survival    29\n",
       "dtype: int64"
      ]
     },
     "execution_count": 45,
     "metadata": {},
     "output_type": "execute_result"
    }
   ],
   "source": [
    "died_melanoma[died_melanoma['sex'] == 'male'].count()"
   ]
  },
  {
   "cell_type": "code",
   "execution_count": 46,
   "id": "4f44f27f",
   "metadata": {},
   "outputs": [
    {
     "data": {
      "text/plain": [
       "0.5087719298245614"
      ]
     },
     "execution_count": 46,
     "metadata": {},
     "output_type": "execute_result"
    }
   ],
   "source": [
    "29/57"
   ]
  },
  {
   "cell_type": "code",
   "execution_count": 47,
   "id": "01a6f9ad",
   "metadata": {},
   "outputs": [],
   "source": [
    "total_male = 79\n",
    "total_female = 126\n",
    "deaths_male = 29\n",
    "deaths_female = 28"
   ]
  },
  {
   "cell_type": "code",
   "execution_count": 48,
   "id": "0556022b",
   "metadata": {},
   "outputs": [],
   "source": [
    "probability_death_male = deaths_male / total_male\n",
    "probability_death_female = deaths_female / total_female"
   ]
  },
  {
   "cell_type": "code",
   "execution_count": 49,
   "id": "4b62c75b",
   "metadata": {},
   "outputs": [
    {
     "data": {
      "text/plain": [
       "0.3670886075949367"
      ]
     },
     "execution_count": 49,
     "metadata": {},
     "output_type": "execute_result"
    }
   ],
   "source": [
    "probability_death_male"
   ]
  },
  {
   "cell_type": "code",
   "execution_count": 50,
   "id": "6fb737d7",
   "metadata": {},
   "outputs": [
    {
     "data": {
      "text/plain": [
       "0.2222222222222222"
      ]
     },
     "execution_count": 50,
     "metadata": {},
     "output_type": "execute_result"
    }
   ],
   "source": [
    "probability_death_female"
   ]
  },
  {
   "cell_type": "markdown",
   "id": "b31fff64",
   "metadata": {},
   "source": [
    "Those who die from melanome usually die in the first 3 years, especially between 2-3 years. The range is from half a year to 9 years, however the chances are gradually higher and higher for the survival every year. "
   ]
  },
  {
   "cell_type": "code",
   "execution_count": 51,
   "id": "fb403287",
   "metadata": {},
   "outputs": [
    {
     "data": {
      "text/plain": [
       "time                41\n",
       "status              41\n",
       "sex                 41\n",
       "age                 41\n",
       "year                41\n",
       "thickness           41\n",
       "ulcer               41\n",
       "Year of survival    41\n",
       "dtype: int64"
      ]
     },
     "execution_count": 51,
     "metadata": {},
     "output_type": "execute_result"
    }
   ],
   "source": [
    "died_melanoma[died_melanoma['ulcer'] == 1].count()"
   ]
  },
  {
   "cell_type": "code",
   "execution_count": 52,
   "id": "16be8330",
   "metadata": {},
   "outputs": [
    {
     "data": {
      "text/plain": [
       "time                16\n",
       "status              16\n",
       "sex                 16\n",
       "age                 16\n",
       "year                16\n",
       "thickness           16\n",
       "ulcer               16\n",
       "Year of survival    16\n",
       "dtype: int64"
      ]
     },
     "execution_count": 52,
     "metadata": {},
     "output_type": "execute_result"
    }
   ],
   "source": [
    "died_melanoma[died_melanoma['ulcer'] == 0].count()"
   ]
  },
  {
   "cell_type": "code",
   "execution_count": 53,
   "id": "e8495945",
   "metadata": {},
   "outputs": [
    {
     "data": {
      "text/html": [
       "<div>\n",
       "<style scoped>\n",
       "    .dataframe tbody tr th:only-of-type {\n",
       "        vertical-align: middle;\n",
       "    }\n",
       "\n",
       "    .dataframe tbody tr th {\n",
       "        vertical-align: top;\n",
       "    }\n",
       "\n",
       "    .dataframe thead th {\n",
       "        text-align: right;\n",
       "    }\n",
       "</style>\n",
       "<table border=\"1\" class=\"dataframe\">\n",
       "  <thead>\n",
       "    <tr style=\"text-align: right;\">\n",
       "      <th></th>\n",
       "      <th>time</th>\n",
       "      <th>status</th>\n",
       "      <th>sex</th>\n",
       "      <th>age</th>\n",
       "      <th>year</th>\n",
       "      <th>thickness</th>\n",
       "      <th>ulcer</th>\n",
       "      <th>Year of survival</th>\n",
       "    </tr>\n",
       "  </thead>\n",
       "  <tbody>\n",
       "    <tr>\n",
       "      <th>4</th>\n",
       "      <td>185</td>\n",
       "      <td>died from melanoma</td>\n",
       "      <td>male</td>\n",
       "      <td>52</td>\n",
       "      <td>1965</td>\n",
       "      <td>12.08</td>\n",
       "      <td>1</td>\n",
       "      <td>0.506849</td>\n",
       "    </tr>\n",
       "    <tr>\n",
       "      <th>5</th>\n",
       "      <td>204</td>\n",
       "      <td>died from melanoma</td>\n",
       "      <td>male</td>\n",
       "      <td>28</td>\n",
       "      <td>1971</td>\n",
       "      <td>4.84</td>\n",
       "      <td>1</td>\n",
       "      <td>0.558904</td>\n",
       "    </tr>\n",
       "    <tr>\n",
       "      <th>6</th>\n",
       "      <td>210</td>\n",
       "      <td>died from melanoma</td>\n",
       "      <td>male</td>\n",
       "      <td>77</td>\n",
       "      <td>1972</td>\n",
       "      <td>5.16</td>\n",
       "      <td>1</td>\n",
       "      <td>0.575342</td>\n",
       "    </tr>\n",
       "    <tr>\n",
       "      <th>8</th>\n",
       "      <td>232</td>\n",
       "      <td>died from melanoma</td>\n",
       "      <td>male</td>\n",
       "      <td>49</td>\n",
       "      <td>1968</td>\n",
       "      <td>12.88</td>\n",
       "      <td>1</td>\n",
       "      <td>0.635616</td>\n",
       "    </tr>\n",
       "    <tr>\n",
       "      <th>9</th>\n",
       "      <td>279</td>\n",
       "      <td>died from melanoma</td>\n",
       "      <td>female</td>\n",
       "      <td>68</td>\n",
       "      <td>1971</td>\n",
       "      <td>7.41</td>\n",
       "      <td>1</td>\n",
       "      <td>0.764384</td>\n",
       "    </tr>\n",
       "  </tbody>\n",
       "</table>\n",
       "</div>"
      ],
      "text/plain": [
       "   time              status     sex  age  year  thickness  ulcer   \n",
       "4   185  died from melanoma    male   52  1965      12.08      1  \\\n",
       "5   204  died from melanoma    male   28  1971       4.84      1   \n",
       "6   210  died from melanoma    male   77  1972       5.16      1   \n",
       "8   232  died from melanoma    male   49  1968      12.88      1   \n",
       "9   279  died from melanoma  female   68  1971       7.41      1   \n",
       "\n",
       "   Year of survival  \n",
       "4          0.506849  \n",
       "5          0.558904  \n",
       "6          0.575342  \n",
       "8          0.635616  \n",
       "9          0.764384  "
      ]
     },
     "execution_count": 53,
     "metadata": {},
     "output_type": "execute_result"
    }
   ],
   "source": [
    "died_melanoma.head()"
   ]
  },
  {
   "cell_type": "markdown",
   "id": "14cc2ea4",
   "metadata": {},
   "source": [
    "Those who died (41/57), 71% had ulcer, 29 did not have any"
   ]
  },
  {
   "cell_type": "code",
   "execution_count": 54,
   "id": "5405d5ea",
   "metadata": {},
   "outputs": [
    {
     "data": {
      "text/plain": [
       "0.7192982456140351"
      ]
     },
     "execution_count": 54,
     "metadata": {},
     "output_type": "execute_result"
    }
   ],
   "source": [
    "41/57"
   ]
  },
  {
   "cell_type": "code",
   "execution_count": 55,
   "id": "378ff4f5",
   "metadata": {},
   "outputs": [
    {
     "data": {
      "image/png": "[encoded data removed]",
      "text/plain": [
       "<Figure size 800x700 with 1 Axes>"
      ]
     },
     "metadata": {},
     "output_type": "display_data"
    }
   ],
   "source": [
    "plt.figure(figsize = (8, 7))\n",
    "custom_palette = {'died from melanoma': 'red', 'still alive': 'green', 'died unrelated melanoma': 'darkred'}\n",
    "ax = sns.countplot(data=df, x=df['year'], color='pink', width=1, edgecolor='darkblue', lw=0.5, hue='status', palette=custom_palette)\n",
    "ax.set_xticklabels(ax.get_xticklabels(), rotation=45);"
   ]
  },
  {
   "cell_type": "markdown",
   "id": "f90af516",
   "metadata": {},
   "source": [
    "Definately there is a trend that the number and ratio of survivals were increasing during this period: in 1965-1967 the chances were equal"
   ]
  },
  {
   "cell_type": "code",
   "execution_count": 56,
   "id": "bb8eb8b8",
   "metadata": {},
   "outputs": [
    {
     "data": {
      "image/png": "[encoded data removed]",
      "text/plain": [
       "<Figure size 727.375x500 with 1 Axes>"
      ]
     },
     "metadata": {},
     "output_type": "display_data"
    }
   ],
   "source": [
    "custom_palette = {'died from melanoma': 'red', 'still alive': 'green', 'died unrelated melanoma': 'darkred'}\n",
    "g = sns.catplot(x=\"sex\",\n",
    "                y=\"age\", data=df, \n",
    "                kind=\"box\", hue=\"status\", palette=custom_palette)"
   ]
  },
  {
   "cell_type": "code",
   "execution_count": null,
   "id": "5abee620",
   "metadata": {},
   "outputs": [],
   "source": []
  },
  {
   "cell_type": "markdown",
   "id": "d603e223",
   "metadata": {},
   "source": [
    "Lets check those who are alive "
   ]
  },
  {
   "cell_type": "code",
   "execution_count": 57,
   "id": "ca5409b3",
   "metadata": {},
   "outputs": [],
   "source": [
    "alive = df[df['status'] == 'still alive']"
   ]
  },
  {
   "cell_type": "code",
   "execution_count": 58,
   "id": "3631c00f",
   "metadata": {},
   "outputs": [
    {
     "data": {
      "text/plain": [
       "2       0.095890\n",
       "45      4.106849\n",
       "47      4.131507\n",
       "48      4.136986\n",
       "49      4.142466\n",
       "         ...    \n",
       "200    12.306849\n",
       "201    12.789041\n",
       "202    12.843836\n",
       "203    13.495890\n",
       "204    15.246575\n",
       "Name: Year of survival, Length: 134, dtype: float64"
      ]
     },
     "execution_count": 58,
     "metadata": {},
     "output_type": "execute_result"
    }
   ],
   "source": [
    "alive['Year of survival'].sort_values(ascending=True)"
   ]
  },
  {
   "cell_type": "markdown",
   "id": "63067642",
   "metadata": {},
   "source": [
    "There is only one person under 4 years - so its a good chance that these group will not die from melanoma related causes."
   ]
  },
  {
   "cell_type": "code",
   "execution_count": 59,
   "id": "81be7d7a",
   "metadata": {},
   "outputs": [
    {
     "data": {
      "image/png": "[encoded data removed]",
      "text/plain": [
       "<Figure size 400x300 with 1 Axes>"
      ]
     },
     "metadata": {},
     "output_type": "display_data"
    }
   ],
   "source": [
    "sns.countplot(x='status', hue='ulcer', data=df)\n",
    "\n",
    "plt.xlabel('Status')\n",
    "plt.ylabel('Count')\n",
    "plt.title('Distribution of Status by Ulcer Presence')\n",
    "\n",
    "plt.xticks(rotation=40)\n",
    "\n",
    "plt.show()"
   ]
  },
  {
   "cell_type": "markdown",
   "id": "7241d7d2",
   "metadata": {},
   "source": [
    "Ulcer has no correlation with surival since many of the alive ones had ulcer"
   ]
  },
  {
   "cell_type": "code",
   "execution_count": null,
   "id": "a1c4c722",
   "metadata": {},
   "outputs": [],
   "source": []
  },
  {
   "cell_type": "code",
   "execution_count": 60,
   "id": "a510007a",
   "metadata": {},
   "outputs": [
    {
     "data": {
      "text/plain": [
       "<AxesSubplot: xlabel='status', ylabel='thickness'>"
      ]
     },
     "execution_count": 60,
     "metadata": {},
     "output_type": "execute_result"
    },
    {
     "data": {
      "image/png": "[encoded data removed]",
      "text/plain": [
       "<Figure size 400x300 with 1 Axes>"
      ]
     },
     "metadata": {},
     "output_type": "display_data"
    }
   ],
   "source": [
    "sns.violinplot(x='status', y='thickness', data=df)"
   ]
  },
  {
   "cell_type": "code",
   "execution_count": null,
   "id": "655823db",
   "metadata": {},
   "outputs": [],
   "source": []
  },
  {
   "cell_type": "code",
   "execution_count": 61,
   "id": "34346561",
   "metadata": {},
   "outputs": [
    {
     "data": {
      "image/png": "[encoded data removed]",
      "text/plain": [
       "<Figure size 727.375x500 with 1 Axes>"
      ]
     },
     "metadata": {},
     "output_type": "display_data"
    }
   ],
   "source": [
    "sns.set_style(\"whitegrid\")\n",
    "custom_palette = {'died from melanoma': 'red', 'still alive': 'green', 'died unrelated melanoma': 'darkred'}\n",
    "sns.relplot(x='year', y='age', data=df, kind='line', errorbar=None, style ='status', hue='status', markers=True, dashes = False, palette=custom_palette)\n",
    "plt.show()"
   ]
  },
  {
   "cell_type": "code",
   "execution_count": 62,
   "id": "be8deffc",
   "metadata": {},
   "outputs": [
    {
     "name": "stderr",
     "output_type": "stream",
     "text": [
      "C:\\Users\\lily\\AppData\\Local\\Temp\\ipykernel_21064\\1943288503.py:1: FutureWarning: Passing `palette` without assigning `hue` is deprecated.\n",
      "  sns.stripplot(x='ulcer',\n"
     ]
    },
    {
     "data": {
      "image/png": "[encoded data removed]",
      "text/plain": [
       "<Figure size 400x300 with 1 Axes>"
      ]
     },
     "metadata": {},
     "output_type": "display_data"
    }
   ],
   "source": [
    "sns.stripplot(x='ulcer',\n",
    "              y = 'thickness',\n",
    "              data = df,\n",
    "              palette= 'Set1')\n",
    "plt.show()"
   ]
  },
  {
   "cell_type": "code",
   "execution_count": 63,
   "id": "a548300b",
   "metadata": {},
   "outputs": [
    {
     "data": {
      "image/png": "[encoded data removed]",
      "text/plain": [
       "<Figure size 600.875x500 with 1 Axes>"
      ]
     },
     "metadata": {},
     "output_type": "display_data"
    }
   ],
   "source": [
    "sns.catplot(x=\"status\",\n",
    "            y=\"thickness\",\n",
    "            data = df,\n",
    "            kind = 'box',\n",
    "            hue=\"sex\",\n",
    "            showfliers=True)\n",
    "plt.show()"
   ]
  },
  {
   "cell_type": "code",
   "execution_count": 64,
   "id": "1eb9d247",
   "metadata": {},
   "outputs": [
    {
     "data": {
      "image/png": "[encoded data removed]",
      "text/plain": [
       "<Figure size 400x300 with 1 Axes>"
      ]
     },
     "metadata": {},
     "output_type": "display_data"
    }
   ],
   "source": [
    "sns.violinplot(x=\"sex\",\n",
    "               y=\"age\", \n",
    "               data=df,\n",
    "               palette='rainbow')\n",
    "plt.show()"
   ]
  },
  {
   "cell_type": "code",
   "execution_count": null,
   "id": "3a3953b3",
   "metadata": {},
   "outputs": [],
   "source": []
  },
  {
   "cell_type": "code",
   "execution_count": null,
   "id": "5899e64f",
   "metadata": {},
   "outputs": [],
   "source": []
  },
  {
   "cell_type": "markdown",
   "id": "c2479c0d",
   "metadata": {},
   "source": [
    "### relationships ###"
   ]
  },
  {
   "cell_type": "code",
   "execution_count": 65,
   "id": "63fb35fb",
   "metadata": {},
   "outputs": [
    {
     "data": {
      "image/png": "[encoded data removed]",
      "text/plain": [
       "<Figure size 727.375x500 with 1 Axes>"
      ]
     },
     "metadata": {},
     "output_type": "display_data"
    }
   ],
   "source": [
    "sns.lmplot(x=\"age\",\n",
    "           y=\"thickness\",\n",
    "           data=df,\n",
    "          hue = \"status\", ci=None)\n",
    "plt.show()\n"
   ]
  },
  {
   "cell_type": "markdown",
   "id": "f8b5eaf6",
   "metadata": {},
   "source": [
    "Changing the categorical values back to numerical ones in order to perform machine learning modeling"
   ]
  },
  {
   "cell_type": "code",
   "execution_count": 136,
   "id": "aed351fe",
   "metadata": {},
   "outputs": [],
   "source": [
    "df1 = df.copy()"
   ]
  },
  {
   "cell_type": "code",
   "execution_count": 137,
   "id": "915ba8e7",
   "metadata": {},
   "outputs": [],
   "source": [
    "sex_numerical = {'sex': {'male': 1, 'female':0}}"
   ]
  },
  {
   "cell_type": "code",
   "execution_count": 138,
   "id": "743a1192",
   "metadata": {},
   "outputs": [],
   "source": [
    "status_numerical = {'status': {'died from melanoma': 1, 'still alive': 2, 'died unrelated melanoma':3}}"
   ]
  },
  {
   "cell_type": "code",
   "execution_count": 139,
   "id": "15fd8101",
   "metadata": {},
   "outputs": [],
   "source": [
    "df1 = df1.replace(sex_numerical)"
   ]
  },
  {
   "cell_type": "code",
   "execution_count": 140,
   "id": "78a4e9d7",
   "metadata": {},
   "outputs": [],
   "source": [
    "df1 = df1.replace(status_numerical)"
   ]
  },
  {
   "cell_type": "code",
   "execution_count": 141,
   "id": "213a5b10",
   "metadata": {},
   "outputs": [
    {
     "data": {
      "text/html": [
       "<div>\n",
       "<style scoped>\n",
       "    .dataframe tbody tr th:only-of-type {\n",
       "        vertical-align: middle;\n",
       "    }\n",
       "\n",
       "    .dataframe tbody tr th {\n",
       "        vertical-align: top;\n",
       "    }\n",
       "\n",
       "    .dataframe thead th {\n",
       "        text-align: right;\n",
       "    }\n",
       "</style>\n",
       "<table border=\"1\" class=\"dataframe\">\n",
       "  <thead>\n",
       "    <tr style=\"text-align: right;\">\n",
       "      <th></th>\n",
       "      <th>time</th>\n",
       "      <th>status</th>\n",
       "      <th>sex</th>\n",
       "      <th>age</th>\n",
       "      <th>year</th>\n",
       "      <th>thickness</th>\n",
       "      <th>ulcer</th>\n",
       "      <th>Year of survival</th>\n",
       "    </tr>\n",
       "  </thead>\n",
       "  <tbody>\n",
       "    <tr>\n",
       "      <th>0</th>\n",
       "      <td>10</td>\n",
       "      <td>3</td>\n",
       "      <td>1</td>\n",
       "      <td>76</td>\n",
       "      <td>1972</td>\n",
       "      <td>6.76</td>\n",
       "      <td>1</td>\n",
       "      <td>0.027397</td>\n",
       "    </tr>\n",
       "    <tr>\n",
       "      <th>1</th>\n",
       "      <td>30</td>\n",
       "      <td>3</td>\n",
       "      <td>1</td>\n",
       "      <td>56</td>\n",
       "      <td>1968</td>\n",
       "      <td>0.65</td>\n",
       "      <td>0</td>\n",
       "      <td>0.082192</td>\n",
       "    </tr>\n",
       "    <tr>\n",
       "      <th>2</th>\n",
       "      <td>35</td>\n",
       "      <td>2</td>\n",
       "      <td>1</td>\n",
       "      <td>41</td>\n",
       "      <td>1977</td>\n",
       "      <td>1.34</td>\n",
       "      <td>0</td>\n",
       "      <td>0.095890</td>\n",
       "    </tr>\n",
       "    <tr>\n",
       "      <th>3</th>\n",
       "      <td>99</td>\n",
       "      <td>3</td>\n",
       "      <td>0</td>\n",
       "      <td>71</td>\n",
       "      <td>1968</td>\n",
       "      <td>2.90</td>\n",
       "      <td>0</td>\n",
       "      <td>0.271233</td>\n",
       "    </tr>\n",
       "    <tr>\n",
       "      <th>4</th>\n",
       "      <td>185</td>\n",
       "      <td>1</td>\n",
       "      <td>1</td>\n",
       "      <td>52</td>\n",
       "      <td>1965</td>\n",
       "      <td>12.08</td>\n",
       "      <td>1</td>\n",
       "      <td>0.506849</td>\n",
       "    </tr>\n",
       "    <tr>\n",
       "      <th>...</th>\n",
       "      <td>...</td>\n",
       "      <td>...</td>\n",
       "      <td>...</td>\n",
       "      <td>...</td>\n",
       "      <td>...</td>\n",
       "      <td>...</td>\n",
       "      <td>...</td>\n",
       "      <td>...</td>\n",
       "    </tr>\n",
       "    <tr>\n",
       "      <th>200</th>\n",
       "      <td>4492</td>\n",
       "      <td>2</td>\n",
       "      <td>1</td>\n",
       "      <td>29</td>\n",
       "      <td>1965</td>\n",
       "      <td>7.06</td>\n",
       "      <td>1</td>\n",
       "      <td>12.306849</td>\n",
       "    </tr>\n",
       "    <tr>\n",
       "      <th>201</th>\n",
       "      <td>4668</td>\n",
       "      <td>2</td>\n",
       "      <td>0</td>\n",
       "      <td>40</td>\n",
       "      <td>1965</td>\n",
       "      <td>6.12</td>\n",
       "      <td>0</td>\n",
       "      <td>12.789041</td>\n",
       "    </tr>\n",
       "    <tr>\n",
       "      <th>202</th>\n",
       "      <td>4688</td>\n",
       "      <td>2</td>\n",
       "      <td>0</td>\n",
       "      <td>42</td>\n",
       "      <td>1965</td>\n",
       "      <td>0.48</td>\n",
       "      <td>0</td>\n",
       "      <td>12.843836</td>\n",
       "    </tr>\n",
       "    <tr>\n",
       "      <th>203</th>\n",
       "      <td>4926</td>\n",
       "      <td>2</td>\n",
       "      <td>0</td>\n",
       "      <td>50</td>\n",
       "      <td>1964</td>\n",
       "      <td>2.26</td>\n",
       "      <td>0</td>\n",
       "      <td>13.495890</td>\n",
       "    </tr>\n",
       "    <tr>\n",
       "      <th>204</th>\n",
       "      <td>5565</td>\n",
       "      <td>2</td>\n",
       "      <td>0</td>\n",
       "      <td>41</td>\n",
       "      <td>1962</td>\n",
       "      <td>2.90</td>\n",
       "      <td>0</td>\n",
       "      <td>15.246575</td>\n",
       "    </tr>\n",
       "  </tbody>\n",
       "</table>\n",
       "<p>205 rows × 8 columns</p>\n",
       "</div>"
      ],
      "text/plain": [
       "     time  status  sex  age  year  thickness  ulcer  Year of survival\n",
       "0      10       3    1   76  1972       6.76      1          0.027397\n",
       "1      30       3    1   56  1968       0.65      0          0.082192\n",
       "2      35       2    1   41  1977       1.34      0          0.095890\n",
       "3      99       3    0   71  1968       2.90      0          0.271233\n",
       "4     185       1    1   52  1965      12.08      1          0.506849\n",
       "..    ...     ...  ...  ...   ...        ...    ...               ...\n",
       "200  4492       2    1   29  1965       7.06      1         12.306849\n",
       "201  4668       2    0   40  1965       6.12      0         12.789041\n",
       "202  4688       2    0   42  1965       0.48      0         12.843836\n",
       "203  4926       2    0   50  1964       2.26      0         13.495890\n",
       "204  5565       2    0   41  1962       2.90      0         15.246575\n",
       "\n",
       "[205 rows x 8 columns]"
      ]
     },
     "execution_count": 141,
     "metadata": {},
     "output_type": "execute_result"
    }
   ],
   "source": [
    "df1"
   ]
  },
  {
   "cell_type": "code",
   "execution_count": null,
   "id": "50ac52bb",
   "metadata": {},
   "outputs": [],
   "source": []
  },
  {
   "cell_type": "code",
   "execution_count": 72,
   "id": "9713f4d1",
   "metadata": {
    "scrolled": false
   },
   "outputs": [
    {
     "data": {
      "text/plain": [
       "<AxesSubplot: >"
      ]
     },
     "execution_count": 72,
     "metadata": {},
     "output_type": "execute_result"
    },
    {
     "data": {
      "image/png": "[encoded data removed]",
      "text/plain": [
       "<Figure size 600x400 with 2 Axes>"
      ]
     },
     "metadata": {},
     "output_type": "display_data"
    }
   ],
   "source": [
    "plt.figure(figsize = (6,4))\n",
    "colormap = sns.cubehelix_palette()\n",
    "sns.set(font_scale = 1.0)\n",
    "sns.heatmap(df1.corr(), annot=True,fmt='.1g', cmap=colormap)"
   ]
  },
  {
   "cell_type": "code",
   "execution_count": 73,
   "id": "83835941",
   "metadata": {},
   "outputs": [
    {
     "data": {
      "text/html": [
       "<div>\n",
       "<style scoped>\n",
       "    .dataframe tbody tr th:only-of-type {\n",
       "        vertical-align: middle;\n",
       "    }\n",
       "\n",
       "    .dataframe tbody tr th {\n",
       "        vertical-align: top;\n",
       "    }\n",
       "\n",
       "    .dataframe thead th {\n",
       "        text-align: right;\n",
       "    }\n",
       "</style>\n",
       "<table border=\"1\" class=\"dataframe\">\n",
       "  <thead>\n",
       "    <tr style=\"text-align: right;\">\n",
       "      <th></th>\n",
       "      <th>status</th>\n",
       "    </tr>\n",
       "  </thead>\n",
       "  <tbody>\n",
       "    <tr>\n",
       "      <th>status</th>\n",
       "      <td>1.000000</td>\n",
       "    </tr>\n",
       "    <tr>\n",
       "      <th>time</th>\n",
       "      <td>0.316146</td>\n",
       "    </tr>\n",
       "    <tr>\n",
       "      <th>Year of survival</th>\n",
       "      <td>0.316146</td>\n",
       "    </tr>\n",
       "    <tr>\n",
       "      <th>ulcer</th>\n",
       "      <td>0.270326</td>\n",
       "    </tr>\n",
       "    <tr>\n",
       "      <th>thickness</th>\n",
       "      <td>0.204722</td>\n",
       "    </tr>\n",
       "    <tr>\n",
       "      <th>year</th>\n",
       "      <td>0.138167</td>\n",
       "    </tr>\n",
       "    <tr>\n",
       "      <th>sex</th>\n",
       "      <td>0.098967</td>\n",
       "    </tr>\n",
       "    <tr>\n",
       "      <th>age</th>\n",
       "      <td>0.015964</td>\n",
       "    </tr>\n",
       "  </tbody>\n",
       "</table>\n",
       "</div>"
      ],
      "text/plain": [
       "                    status\n",
       "status            1.000000\n",
       "time              0.316146\n",
       "Year of survival  0.316146\n",
       "ulcer             0.270326\n",
       "thickness         0.204722\n",
       "year              0.138167\n",
       "sex               0.098967\n",
       "age               0.015964"
      ]
     },
     "execution_count": 73,
     "metadata": {},
     "output_type": "execute_result"
    }
   ],
   "source": [
    "corr = abs(pd.DataFrame(df1.corr().status))\n",
    "corr.sort_values(by='status', ascending=False)"
   ]
  },
  {
   "cell_type": "code",
   "execution_count": 74,
   "id": "87713eb2",
   "metadata": {},
   "outputs": [
    {
     "data": {
      "text/plain": [
       "<AxesSubplot: >"
      ]
     },
     "execution_count": 74,
     "metadata": {},
     "output_type": "execute_result"
    },
    {
     "data": {
      "image/png": "[encoded data removed]",
      "text/plain": [
       "<Figure size 600x400 with 2 Axes>"
      ]
     },
     "metadata": {},
     "output_type": "display_data"
    }
   ],
   "source": [
    "plt.figure(figsize = (6,4))\n",
    "colormap = sns.cubehelix_palette()\n",
    "sns.set(font_scale = 1.0)\n",
    "sns.heatmap(corr, annot=True)"
   ]
  },
  {
   "cell_type": "code",
   "execution_count": 75,
   "id": "d06273b5",
   "metadata": {},
   "outputs": [
    {
     "data": {
      "text/plain": [
       "Index(['time', 'status', 'sex', 'age', 'year', 'thickness', 'ulcer',\n",
       "       'Year of survival'],\n",
       "      dtype='object')"
      ]
     },
     "execution_count": 75,
     "metadata": {},
     "output_type": "execute_result"
    }
   ],
   "source": [
    "df1.columns"
   ]
  },
  {
   "cell_type": "code",
   "execution_count": 76,
   "id": "bc34715b",
   "metadata": {},
   "outputs": [
    {
     "name": "stdout",
     "output_type": "stream",
     "text": [
      "<class 'pandas.core.frame.DataFrame'>\n",
      "RangeIndex: 205 entries, 0 to 204\n",
      "Data columns (total 8 columns):\n",
      " #   Column            Non-Null Count  Dtype  \n",
      "---  ------            --------------  -----  \n",
      " 0   time              205 non-null    int64  \n",
      " 1   status            205 non-null    int64  \n",
      " 2   sex               205 non-null    int64  \n",
      " 3   age               205 non-null    int64  \n",
      " 4   year              205 non-null    int64  \n",
      " 5   thickness         205 non-null    float64\n",
      " 6   ulcer             205 non-null    int64  \n",
      " 7   Year of survival  205 non-null    float64\n",
      "dtypes: float64(2), int64(6)\n",
      "memory usage: 12.9 KB\n"
     ]
    }
   ],
   "source": [
    "df1.info()"
   ]
  },
  {
   "cell_type": "code",
   "execution_count": 77,
   "id": "6fbd9e50",
   "metadata": {},
   "outputs": [],
   "source": [
    "X = df1.drop('status', axis=1)"
   ]
  },
  {
   "cell_type": "code",
   "execution_count": 78,
   "id": "f281d2e4",
   "metadata": {},
   "outputs": [],
   "source": [
    "y = df1['status']"
   ]
  },
  {
   "cell_type": "code",
   "execution_count": 79,
   "id": "56def1d7",
   "metadata": {},
   "outputs": [],
   "source": [
    "from sklearn.model_selection import train_test_split"
   ]
  },
  {
   "cell_type": "code",
   "execution_count": 80,
   "id": "49a54cb7",
   "metadata": {},
   "outputs": [],
   "source": [
    "X_train, X_test, y_train, y_test = train_test_split(X, y, test_size=0.2, random_state=42)"
   ]
  },
  {
   "cell_type": "code",
   "execution_count": 104,
   "id": "4b96001e",
   "metadata": {},
   "outputs": [],
   "source": [
    "from sklearn.ensemble import RandomForestClassifier"
   ]
  },
  {
   "cell_type": "code",
   "execution_count": 106,
   "id": "b5d66f87",
   "metadata": {},
   "outputs": [],
   "source": [
    "model= RandomForestClassifier()"
   ]
  },
  {
   "cell_type": "code",
   "execution_count": 107,
   "id": "52484cbb",
   "metadata": {},
   "outputs": [
    {
     "data": {
      "text/html": [
       "<style>#sk-container-id-2 {color: black;}#sk-container-id-2 pre{padding: 0;}#sk-container-id-2 div.sk-toggleable {background-color: white;}#sk-container-id-2 label.sk-toggleable__label {cursor: pointer;display: block;width: 100%;margin-bottom: 0;padding: 0.3em;box-sizing: border-box;text-align: center;}#sk-container-id-2 label.sk-toggleable__label-arrow:before {content: \"▸\";float: left;margin-right: 0.25em;color: #696969;}#sk-container-id-2 label.sk-toggleable__label-arrow:hover:before {color: black;}#sk-container-id-2 div.sk-estimator:hover label.sk-toggleable__label-arrow:before {color: black;}#sk-container-id-2 div.sk-toggleable__content {max-height: 0;max-width: 0;overflow: hidden;text-align: left;background-color: #f0f8ff;}#sk-container-id-2 div.sk-toggleable__content pre {margin: 0.2em;color: black;border-radius: 0.25em;background-color: #f0f8ff;}#sk-container-id-2 input.sk-toggleable__control:checked~div.sk-toggleable__content {max-height: 200px;max-width: 100%;overflow: auto;}#sk-container-id-2 input.sk-toggleable__control:checked~label.sk-toggleable__label-arrow:before {content: \"▾\";}#sk-container-id-2 div.sk-estimator input.sk-toggleable__control:checked~label.sk-toggleable__label {background-color: #d4ebff;}#sk-container-id-2 div.sk-label input.sk-toggleable__control:checked~label.sk-toggleable__label {background-color: #d4ebff;}#sk-container-id-2 input.sk-hidden--visually {border: 0;clip: rect(1px 1px 1px 1px);clip: rect(1px, 1px, 1px, 1px);height: 1px;margin: -1px;overflow: hidden;padding: 0;position: absolute;width: 1px;}#sk-container-id-2 div.sk-estimator {font-family: monospace;background-color: #f0f8ff;border: 1px dotted black;border-radius: 0.25em;box-sizing: border-box;margin-bottom: 0.5em;}#sk-container-id-2 div.sk-estimator:hover {background-color: #d4ebff;}#sk-container-id-2 div.sk-parallel-item::after {content: \"\";width: 100%;border-bottom: 1px solid gray;flex-grow: 1;}#sk-container-id-2 div.sk-label:hover label.sk-toggleable__label {background-color: #d4ebff;}#sk-container-id-2 div.sk-serial::before {content: \"\";position: absolute;border-left: 1px solid gray;box-sizing: border-box;top: 0;bottom: 0;left: 50%;z-index: 0;}#sk-container-id-2 div.sk-serial {display: flex;flex-direction: column;align-items: center;background-color: white;padding-right: 0.2em;padding-left: 0.2em;position: relative;}#sk-container-id-2 div.sk-item {position: relative;z-index: 1;}#sk-container-id-2 div.sk-parallel {display: flex;align-items: stretch;justify-content: center;background-color: white;position: relative;}#sk-container-id-2 div.sk-item::before, #sk-container-id-2 div.sk-parallel-item::before {content: \"\";position: absolute;border-left: 1px solid gray;box-sizing: border-box;top: 0;bottom: 0;left: 50%;z-index: -1;}#sk-container-id-2 div.sk-parallel-item {display: flex;flex-direction: column;z-index: 1;position: relative;background-color: white;}#sk-container-id-2 div.sk-parallel-item:first-child::after {align-self: flex-end;width: 50%;}#sk-container-id-2 div.sk-parallel-item:last-child::after {align-self: flex-start;width: 50%;}#sk-container-id-2 div.sk-parallel-item:only-child::after {width: 0;}#sk-container-id-2 div.sk-dashed-wrapped {border: 1px dashed gray;margin: 0 0.4em 0.5em 0.4em;box-sizing: border-box;padding-bottom: 0.4em;background-color: white;}#sk-container-id-2 div.sk-label label {font-family: monospace;font-weight: bold;display: inline-block;line-height: 1.2em;}#sk-container-id-2 div.sk-label-container {text-align: center;}#sk-container-id-2 div.sk-container {/* jupyter's `normalize.less` sets `[hidden] { display: none; }` but bootstrap.min.css set `[hidden] { display: none !important; }` so we also need the `!important` here to be able to override the default hidden behavior on the sphinx rendered scikit-learn.org. See: https://github.com/scikit-learn/scikit-learn/issues/21755 */display: inline-block !important;position: relative;}#sk-container-id-2 div.sk-text-repr-fallback {display: none;}</style><div id=\"sk-container-id-2\" class=\"sk-top-container\"><div class=\"sk-text-repr-fallback\"><pre>RandomForestClassifier(bootstrap=True, ccp_alpha=0.0, class_weight=None,\n",
       "                       criterion=&#x27;gini&#x27;, max_depth=None, max_features=&#x27;sqrt&#x27;,\n",
       "                       max_leaf_nodes=None, max_samples=None,\n",
       "                       min_impurity_decrease=0.0, min_samples_leaf=1,\n",
       "                       min_samples_split=2, min_weight_fraction_leaf=0.0,\n",
       "                       n_estimators=100, n_jobs=None, oob_score=False,\n",
       "                       random_state=None, verbose=0, warm_start=False)</pre><b>In a Jupyter environment, please rerun this cell to show the HTML representation or trust the notebook. <br />On GitHub, the HTML representation is unable to render, please try loading this page with nbviewer.org.</b></div><div class=\"sk-container\" hidden><div class=\"sk-item\"><div class=\"sk-estimator sk-toggleable\"><input class=\"sk-toggleable__control sk-hidden--visually\" id=\"sk-estimator-id-2\" type=\"checkbox\" checked><label for=\"sk-estimator-id-2\" class=\"sk-toggleable__label sk-toggleable__label-arrow\">RandomForestClassifier</label><div class=\"sk-toggleable__content\"><pre>RandomForestClassifier(bootstrap=True, ccp_alpha=0.0, class_weight=None,\n",
       "                       criterion=&#x27;gini&#x27;, max_depth=None, max_features=&#x27;sqrt&#x27;,\n",
       "                       max_leaf_nodes=None, max_samples=None,\n",
       "                       min_impurity_decrease=0.0, min_samples_leaf=1,\n",
       "                       min_samples_split=2, min_weight_fraction_leaf=0.0,\n",
       "                       n_estimators=100, n_jobs=None, oob_score=False,\n",
       "                       random_state=None, verbose=0, warm_start=False)</pre></div></div></div></div></div>"
      ],
      "text/plain": [
       "RandomForestClassifier(bootstrap=True, ccp_alpha=0.0, class_weight=None,\n",
       "                       criterion='gini', max_depth=None, max_features='sqrt',\n",
       "                       max_leaf_nodes=None, max_samples=None,\n",
       "                       min_impurity_decrease=0.0, min_samples_leaf=1,\n",
       "                       min_samples_split=2, min_weight_fraction_leaf=0.0,\n",
       "                       n_estimators=100, n_jobs=None, oob_score=False,\n",
       "                       random_state=None, verbose=0, warm_start=False)"
      ]
     },
     "execution_count": 107,
     "metadata": {},
     "output_type": "execute_result"
    }
   ],
   "source": [
    "model.fit(X_train, y_train)"
   ]
  },
  {
   "cell_type": "code",
   "execution_count": 108,
   "id": "16859ab6",
   "metadata": {},
   "outputs": [],
   "source": [
    "feature_importances = model.feature_importances_"
   ]
  },
  {
   "cell_type": "code",
   "execution_count": 109,
   "id": "083350da",
   "metadata": {},
   "outputs": [],
   "source": [
    "feature_importance_df = pd.DataFrame({'Feature': X.columns, 'Importance': feature_importances})"
   ]
  },
  {
   "cell_type": "code",
   "execution_count": 110,
   "id": "51aa2672",
   "metadata": {},
   "outputs": [],
   "source": [
    "feature_importance_df = feature_importance_df.sort_values(by='Importance', ascending=False)"
   ]
  },
  {
   "cell_type": "code",
   "execution_count": 111,
   "id": "c344de03",
   "metadata": {},
   "outputs": [
    {
     "data": {
      "text/html": [
       "<div>\n",
       "<style scoped>\n",
       "    .dataframe tbody tr th:only-of-type {\n",
       "        vertical-align: middle;\n",
       "    }\n",
       "\n",
       "    .dataframe tbody tr th {\n",
       "        vertical-align: top;\n",
       "    }\n",
       "\n",
       "    .dataframe thead th {\n",
       "        text-align: right;\n",
       "    }\n",
       "</style>\n",
       "<table border=\"1\" class=\"dataframe\">\n",
       "  <thead>\n",
       "    <tr style=\"text-align: right;\">\n",
       "      <th></th>\n",
       "      <th>Feature</th>\n",
       "      <th>Importance</th>\n",
       "    </tr>\n",
       "  </thead>\n",
       "  <tbody>\n",
       "    <tr>\n",
       "      <th>6</th>\n",
       "      <td>Year of survival</td>\n",
       "      <td>0.323810</td>\n",
       "    </tr>\n",
       "    <tr>\n",
       "      <th>0</th>\n",
       "      <td>time</td>\n",
       "      <td>0.272270</td>\n",
       "    </tr>\n",
       "    <tr>\n",
       "      <th>3</th>\n",
       "      <td>year</td>\n",
       "      <td>0.128143</td>\n",
       "    </tr>\n",
       "    <tr>\n",
       "      <th>4</th>\n",
       "      <td>thickness</td>\n",
       "      <td>0.115712</td>\n",
       "    </tr>\n",
       "    <tr>\n",
       "      <th>2</th>\n",
       "      <td>age</td>\n",
       "      <td>0.098367</td>\n",
       "    </tr>\n",
       "    <tr>\n",
       "      <th>5</th>\n",
       "      <td>ulcer</td>\n",
       "      <td>0.042065</td>\n",
       "    </tr>\n",
       "    <tr>\n",
       "      <th>1</th>\n",
       "      <td>sex</td>\n",
       "      <td>0.019633</td>\n",
       "    </tr>\n",
       "  </tbody>\n",
       "</table>\n",
       "</div>"
      ],
      "text/plain": [
       "            Feature  Importance\n",
       "6  Year of survival    0.323810\n",
       "0              time    0.272270\n",
       "3              year    0.128143\n",
       "4         thickness    0.115712\n",
       "2               age    0.098367\n",
       "5             ulcer    0.042065\n",
       "1               sex    0.019633"
      ]
     },
     "execution_count": 111,
     "metadata": {},
     "output_type": "execute_result"
    }
   ],
   "source": [
    "feature_importance_df"
   ]
  },
  {
   "cell_type": "code",
   "execution_count": 112,
   "id": "fd40c42c",
   "metadata": {},
   "outputs": [
    {
     "data": {
      "image/png": "[encoded data removed]",
      "text/plain": [
       "<Figure size 800x500 with 1 Axes>"
      ]
     },
     "metadata": {},
     "output_type": "display_data"
    }
   ],
   "source": [
    "plt.figure(figsize=(8,5))\n",
    "plt.barh(feature_importance_df['Feature'], feature_importance_df['Importance'], color='skyblue')\n",
    "plt.xlabel('Importance')\n",
    "plt.title('Feature Importances')\n",
    "plt.show()"
   ]
  },
  {
   "cell_type": "code",
   "execution_count": 114,
   "id": "b3d98b59",
   "metadata": {},
   "outputs": [],
   "source": [
    "y_pred = model.predict(X_test)"
   ]
  },
  {
   "cell_type": "code",
   "execution_count": 115,
   "id": "5b986039",
   "metadata": {},
   "outputs": [],
   "source": [
    "from sklearn.metrics import accuracy_score"
   ]
  },
  {
   "cell_type": "code",
   "execution_count": 116,
   "id": "38db51f0",
   "metadata": {},
   "outputs": [
    {
     "data": {
      "text/plain": [
       "0.8292682926829268"
      ]
     },
     "execution_count": 116,
     "metadata": {},
     "output_type": "execute_result"
    }
   ],
   "source": [
    "accuracy_score(y_test, y_pred)"
   ]
  },
  {
   "cell_type": "code",
   "execution_count": 117,
   "id": "a54ba6f3",
   "metadata": {},
   "outputs": [
    {
     "name": "stdout",
     "output_type": "stream",
     "text": [
      "              precision    recall  f1-score   support\n",
      "\n",
      "           1       0.50      0.67      0.57         6\n",
      "           2       0.97      0.91      0.94        33\n",
      "           3       0.00      0.00      0.00         2\n",
      "\n",
      "    accuracy                           0.83        41\n",
      "   macro avg       0.49      0.53      0.50        41\n",
      "weighted avg       0.85      0.83      0.84        41\n",
      "\n"
     ]
    }
   ],
   "source": [
    "from sklearn.metrics import classification_report\n",
    "\n",
    "report = classification_report(y_pred, y_test)\n",
    "\n",
    "print(report)"
   ]
  },
  {
   "cell_type": "code",
   "execution_count": 93,
   "id": "41f8664c",
   "metadata": {},
   "outputs": [],
   "source": [
    "from pycaret.classification import *"
   ]
  },
  {
   "cell_type": "code",
   "execution_count": 94,
   "id": "e5b7ef78",
   "metadata": {},
   "outputs": [
    {
     "data": {
      "text/html": [
       "<style type=\"text/css\">\n",
       "#T_6ccc4_row9_col1 {\n",
       "  background-color: lightgreen;\n",
       "}\n",
       "</style>\n",
       "<table id=\"T_6ccc4\">\n",
       "  <thead>\n",
       "    <tr>\n",
       "      <th class=\"blank level0\" >&nbsp;</th>\n",
       "      <th id=\"T_6ccc4_level0_col0\" class=\"col_heading level0 col0\" >Description</th>\n",
       "      <th id=\"T_6ccc4_level0_col1\" class=\"col_heading level0 col1\" >Value</th>\n",
       "    </tr>\n",
       "  </thead>\n",
       "  <tbody>\n",
       "    <tr>\n",
       "      <th id=\"T_6ccc4_level0_row0\" class=\"row_heading level0 row0\" >0</th>\n",
       "      <td id=\"T_6ccc4_row0_col0\" class=\"data row0 col0\" >Session id</td>\n",
       "      <td id=\"T_6ccc4_row0_col1\" class=\"data row0 col1\" >6668</td>\n",
       "    </tr>\n",
       "    <tr>\n",
       "      <th id=\"T_6ccc4_level0_row1\" class=\"row_heading level0 row1\" >1</th>\n",
       "      <td id=\"T_6ccc4_row1_col0\" class=\"data row1 col0\" >Target</td>\n",
       "      <td id=\"T_6ccc4_row1_col1\" class=\"data row1 col1\" >status</td>\n",
       "    </tr>\n",
       "    <tr>\n",
       "      <th id=\"T_6ccc4_level0_row2\" class=\"row_heading level0 row2\" >2</th>\n",
       "      <td id=\"T_6ccc4_row2_col0\" class=\"data row2 col0\" >Target type</td>\n",
       "      <td id=\"T_6ccc4_row2_col1\" class=\"data row2 col1\" >Multiclass</td>\n",
       "    </tr>\n",
       "    <tr>\n",
       "      <th id=\"T_6ccc4_level0_row3\" class=\"row_heading level0 row3\" >3</th>\n",
       "      <td id=\"T_6ccc4_row3_col0\" class=\"data row3 col0\" >Target mapping</td>\n",
       "      <td id=\"T_6ccc4_row3_col1\" class=\"data row3 col1\" >1: 0, 2: 1, 3: 2</td>\n",
       "    </tr>\n",
       "    <tr>\n",
       "      <th id=\"T_6ccc4_level0_row4\" class=\"row_heading level0 row4\" >4</th>\n",
       "      <td id=\"T_6ccc4_row4_col0\" class=\"data row4 col0\" >Original data shape</td>\n",
       "      <td id=\"T_6ccc4_row4_col1\" class=\"data row4 col1\" >(205, 8)</td>\n",
       "    </tr>\n",
       "    <tr>\n",
       "      <th id=\"T_6ccc4_level0_row5\" class=\"row_heading level0 row5\" >5</th>\n",
       "      <td id=\"T_6ccc4_row5_col0\" class=\"data row5 col0\" >Transformed data shape</td>\n",
       "      <td id=\"T_6ccc4_row5_col1\" class=\"data row5 col1\" >(205, 8)</td>\n",
       "    </tr>\n",
       "    <tr>\n",
       "      <th id=\"T_6ccc4_level0_row6\" class=\"row_heading level0 row6\" >6</th>\n",
       "      <td id=\"T_6ccc4_row6_col0\" class=\"data row6 col0\" >Transformed train set shape</td>\n",
       "      <td id=\"T_6ccc4_row6_col1\" class=\"data row6 col1\" >(143, 8)</td>\n",
       "    </tr>\n",
       "    <tr>\n",
       "      <th id=\"T_6ccc4_level0_row7\" class=\"row_heading level0 row7\" >7</th>\n",
       "      <td id=\"T_6ccc4_row7_col0\" class=\"data row7 col0\" >Transformed test set shape</td>\n",
       "      <td id=\"T_6ccc4_row7_col1\" class=\"data row7 col1\" >(62, 8)</td>\n",
       "    </tr>\n",
       "    <tr>\n",
       "      <th id=\"T_6ccc4_level0_row8\" class=\"row_heading level0 row8\" >8</th>\n",
       "      <td id=\"T_6ccc4_row8_col0\" class=\"data row8 col0\" >Numeric features</td>\n",
       "      <td id=\"T_6ccc4_row8_col1\" class=\"data row8 col1\" >7</td>\n",
       "    </tr>\n",
       "    <tr>\n",
       "      <th id=\"T_6ccc4_level0_row9\" class=\"row_heading level0 row9\" >9</th>\n",
       "      <td id=\"T_6ccc4_row9_col0\" class=\"data row9 col0\" >Preprocess</td>\n",
       "      <td id=\"T_6ccc4_row9_col1\" class=\"data row9 col1\" >True</td>\n",
       "    </tr>\n",
       "    <tr>\n",
       "      <th id=\"T_6ccc4_level0_row10\" class=\"row_heading level0 row10\" >10</th>\n",
       "      <td id=\"T_6ccc4_row10_col0\" class=\"data row10 col0\" >Imputation type</td>\n",
       "      <td id=\"T_6ccc4_row10_col1\" class=\"data row10 col1\" >simple</td>\n",
       "    </tr>\n",
       "    <tr>\n",
       "      <th id=\"T_6ccc4_level0_row11\" class=\"row_heading level0 row11\" >11</th>\n",
       "      <td id=\"T_6ccc4_row11_col0\" class=\"data row11 col0\" >Numeric imputation</td>\n",
       "      <td id=\"T_6ccc4_row11_col1\" class=\"data row11 col1\" >mean</td>\n",
       "    </tr>\n",
       "    <tr>\n",
       "      <th id=\"T_6ccc4_level0_row12\" class=\"row_heading level0 row12\" >12</th>\n",
       "      <td id=\"T_6ccc4_row12_col0\" class=\"data row12 col0\" >Categorical imputation</td>\n",
       "      <td id=\"T_6ccc4_row12_col1\" class=\"data row12 col1\" >mode</td>\n",
       "    </tr>\n",
       "    <tr>\n",
       "      <th id=\"T_6ccc4_level0_row13\" class=\"row_heading level0 row13\" >13</th>\n",
       "      <td id=\"T_6ccc4_row13_col0\" class=\"data row13 col0\" >Fold Generator</td>\n",
       "      <td id=\"T_6ccc4_row13_col1\" class=\"data row13 col1\" >StratifiedKFold</td>\n",
       "    </tr>\n",
       "    <tr>\n",
       "      <th id=\"T_6ccc4_level0_row14\" class=\"row_heading level0 row14\" >14</th>\n",
       "      <td id=\"T_6ccc4_row14_col0\" class=\"data row14 col0\" >Fold Number</td>\n",
       "      <td id=\"T_6ccc4_row14_col1\" class=\"data row14 col1\" >10</td>\n",
       "    </tr>\n",
       "    <tr>\n",
       "      <th id=\"T_6ccc4_level0_row15\" class=\"row_heading level0 row15\" >15</th>\n",
       "      <td id=\"T_6ccc4_row15_col0\" class=\"data row15 col0\" >CPU Jobs</td>\n",
       "      <td id=\"T_6ccc4_row15_col1\" class=\"data row15 col1\" >-1</td>\n",
       "    </tr>\n",
       "    <tr>\n",
       "      <th id=\"T_6ccc4_level0_row16\" class=\"row_heading level0 row16\" >16</th>\n",
       "      <td id=\"T_6ccc4_row16_col0\" class=\"data row16 col0\" >Use GPU</td>\n",
       "      <td id=\"T_6ccc4_row16_col1\" class=\"data row16 col1\" >False</td>\n",
       "    </tr>\n",
       "    <tr>\n",
       "      <th id=\"T_6ccc4_level0_row17\" class=\"row_heading level0 row17\" >17</th>\n",
       "      <td id=\"T_6ccc4_row17_col0\" class=\"data row17 col0\" >Log Experiment</td>\n",
       "      <td id=\"T_6ccc4_row17_col1\" class=\"data row17 col1\" >False</td>\n",
       "    </tr>\n",
       "    <tr>\n",
       "      <th id=\"T_6ccc4_level0_row18\" class=\"row_heading level0 row18\" >18</th>\n",
       "      <td id=\"T_6ccc4_row18_col0\" class=\"data row18 col0\" >Experiment Name</td>\n",
       "      <td id=\"T_6ccc4_row18_col1\" class=\"data row18 col1\" >clf-default-name</td>\n",
       "    </tr>\n",
       "    <tr>\n",
       "      <th id=\"T_6ccc4_level0_row19\" class=\"row_heading level0 row19\" >19</th>\n",
       "      <td id=\"T_6ccc4_row19_col0\" class=\"data row19 col0\" >USI</td>\n",
       "      <td id=\"T_6ccc4_row19_col1\" class=\"data row19 col1\" >5f54</td>\n",
       "    </tr>\n",
       "  </tbody>\n",
       "</table>\n"
      ],
      "text/plain": [
       "<pandas.io.formats.style.Styler at 0x238d4439610>"
      ]
     },
     "metadata": {},
     "output_type": "display_data"
    }
   ],
   "source": [
    "Step = setup(data=df1, target='status')"
   ]
  },
  {
   "cell_type": "code",
   "execution_count": 95,
   "id": "3131d014",
   "metadata": {},
   "outputs": [
    {
     "data": {
      "text/html": [],
      "text/plain": [
       "<IPython.core.display.HTML object>"
      ]
     },
     "metadata": {},
     "output_type": "display_data"
    },
    {
     "data": {
      "text/html": [
       "<style type=\"text/css\">\n",
       "#T_89554 th {\n",
       "  text-align: left;\n",
       "}\n",
       "#T_89554_row0_col0, #T_89554_row0_col2, #T_89554_row1_col0, #T_89554_row1_col1, #T_89554_row1_col2, #T_89554_row1_col3, #T_89554_row1_col4, #T_89554_row1_col5, #T_89554_row1_col6, #T_89554_row1_col7, #T_89554_row2_col0, #T_89554_row2_col1, #T_89554_row2_col2, #T_89554_row2_col3, #T_89554_row2_col4, #T_89554_row2_col5, #T_89554_row2_col6, #T_89554_row2_col7, #T_89554_row3_col0, #T_89554_row3_col1, #T_89554_row3_col3, #T_89554_row3_col4, #T_89554_row3_col5, #T_89554_row3_col6, #T_89554_row3_col7, #T_89554_row4_col0, #T_89554_row4_col1, #T_89554_row4_col2, #T_89554_row4_col3, #T_89554_row4_col4, #T_89554_row4_col5, #T_89554_row4_col6, #T_89554_row4_col7, #T_89554_row5_col0, #T_89554_row5_col1, #T_89554_row5_col2, #T_89554_row5_col3, #T_89554_row5_col4, #T_89554_row5_col5, #T_89554_row5_col6, #T_89554_row5_col7, #T_89554_row6_col0, #T_89554_row6_col1, #T_89554_row6_col2, #T_89554_row6_col3, #T_89554_row6_col4, #T_89554_row6_col5, #T_89554_row6_col6, #T_89554_row6_col7, #T_89554_row7_col0, #T_89554_row7_col1, #T_89554_row7_col2, #T_89554_row7_col3, #T_89554_row7_col4, #T_89554_row7_col5, #T_89554_row7_col6, #T_89554_row7_col7, #T_89554_row8_col0, #T_89554_row8_col1, #T_89554_row8_col2, #T_89554_row8_col3, #T_89554_row8_col4, #T_89554_row8_col5, #T_89554_row8_col6, #T_89554_row8_col7, #T_89554_row9_col0, #T_89554_row9_col1, #T_89554_row9_col2, #T_89554_row9_col3, #T_89554_row9_col4, #T_89554_row9_col5, #T_89554_row9_col6, #T_89554_row9_col7, #T_89554_row10_col0, #T_89554_row10_col1, #T_89554_row10_col2, #T_89554_row10_col3, #T_89554_row10_col4, #T_89554_row10_col5, #T_89554_row10_col6, #T_89554_row10_col7, #T_89554_row11_col0, #T_89554_row11_col1, #T_89554_row11_col2, #T_89554_row11_col3, #T_89554_row11_col4, #T_89554_row11_col5, #T_89554_row11_col6, #T_89554_row11_col7, #T_89554_row12_col0, #T_89554_row12_col1, #T_89554_row12_col2, #T_89554_row12_col3, #T_89554_row12_col4, #T_89554_row12_col5, #T_89554_row12_col6, #T_89554_row12_col7, #T_89554_row13_col0, #T_89554_row13_col1, #T_89554_row13_col2, #T_89554_row13_col3, #T_89554_row13_col4, #T_89554_row13_col5, #T_89554_row13_col6, #T_89554_row13_col7, #T_89554_row14_col0, #T_89554_row14_col1, #T_89554_row14_col2, #T_89554_row14_col3, #T_89554_row14_col4, #T_89554_row14_col5, #T_89554_row14_col6, #T_89554_row14_col7, #T_89554_row15_col0, #T_89554_row15_col1, #T_89554_row15_col2, #T_89554_row15_col3, #T_89554_row15_col4, #T_89554_row15_col5, #T_89554_row15_col6, #T_89554_row15_col7 {\n",
       "  text-align: left;\n",
       "}\n",
       "#T_89554_row0_col1, #T_89554_row0_col3, #T_89554_row0_col4, #T_89554_row0_col5, #T_89554_row0_col6, #T_89554_row0_col7, #T_89554_row3_col2 {\n",
       "  text-align: left;\n",
       "  background-color: yellow;\n",
       "}\n",
       "#T_89554_row0_col8, #T_89554_row1_col8, #T_89554_row2_col8, #T_89554_row3_col8, #T_89554_row4_col8, #T_89554_row5_col8, #T_89554_row6_col8, #T_89554_row7_col8, #T_89554_row8_col8, #T_89554_row9_col8, #T_89554_row10_col8, #T_89554_row11_col8, #T_89554_row15_col8 {\n",
       "  text-align: left;\n",
       "  background-color: lightgrey;\n",
       "}\n",
       "#T_89554_row12_col8, #T_89554_row13_col8, #T_89554_row14_col8 {\n",
       "  text-align: left;\n",
       "  background-color: yellow;\n",
       "  background-color: lightgrey;\n",
       "}\n",
       "</style>\n",
       "<table id=\"T_89554\">\n",
       "  <thead>\n",
       "    <tr>\n",
       "      <th class=\"blank level0\" >&nbsp;</th>\n",
       "      <th id=\"T_89554_level0_col0\" class=\"col_heading level0 col0\" >Model</th>\n",
       "      <th id=\"T_89554_level0_col1\" class=\"col_heading level0 col1\" >Accuracy</th>\n",
       "      <th id=\"T_89554_level0_col2\" class=\"col_heading level0 col2\" >AUC</th>\n",
       "      <th id=\"T_89554_level0_col3\" class=\"col_heading level0 col3\" >Recall</th>\n",
       "      <th id=\"T_89554_level0_col4\" class=\"col_heading level0 col4\" >Prec.</th>\n",
       "      <th id=\"T_89554_level0_col5\" class=\"col_heading level0 col5\" >F1</th>\n",
       "      <th id=\"T_89554_level0_col6\" class=\"col_heading level0 col6\" >Kappa</th>\n",
       "      <th id=\"T_89554_level0_col7\" class=\"col_heading level0 col7\" >MCC</th>\n",
       "      <th id=\"T_89554_level0_col8\" class=\"col_heading level0 col8\" >TT (Sec)</th>\n",
       "    </tr>\n",
       "  </thead>\n",
       "  <tbody>\n",
       "    <tr>\n",
       "      <th id=\"T_89554_level0_row0\" class=\"row_heading level0 row0\" >qda</th>\n",
       "      <td id=\"T_89554_row0_col0\" class=\"data row0 col0\" >Quadratic Discriminant Analysis</td>\n",
       "      <td id=\"T_89554_row0_col1\" class=\"data row0 col1\" >0.8657</td>\n",
       "      <td id=\"T_89554_row0_col2\" class=\"data row0 col2\" >0.9072</td>\n",
       "      <td id=\"T_89554_row0_col3\" class=\"data row0 col3\" >0.8657</td>\n",
       "      <td id=\"T_89554_row0_col4\" class=\"data row0 col4\" >0.8302</td>\n",
       "      <td id=\"T_89554_row0_col5\" class=\"data row0 col5\" >0.8444</td>\n",
       "      <td id=\"T_89554_row0_col6\" class=\"data row0 col6\" >0.7255</td>\n",
       "      <td id=\"T_89554_row0_col7\" class=\"data row0 col7\" >0.7345</td>\n",
       "      <td id=\"T_89554_row0_col8\" class=\"data row0 col8\" >0.0130</td>\n",
       "    </tr>\n",
       "    <tr>\n",
       "      <th id=\"T_89554_level0_row1\" class=\"row_heading level0 row1\" >ridge</th>\n",
       "      <td id=\"T_89554_row1_col0\" class=\"data row1 col0\" >Ridge Classifier</td>\n",
       "      <td id=\"T_89554_row1_col1\" class=\"data row1 col1\" >0.8533</td>\n",
       "      <td id=\"T_89554_row1_col2\" class=\"data row1 col2\" >0.0000</td>\n",
       "      <td id=\"T_89554_row1_col3\" class=\"data row1 col3\" >0.8533</td>\n",
       "      <td id=\"T_89554_row1_col4\" class=\"data row1 col4\" >0.7966</td>\n",
       "      <td id=\"T_89554_row1_col5\" class=\"data row1 col5\" >0.8152</td>\n",
       "      <td id=\"T_89554_row1_col6\" class=\"data row1 col6\" >0.6571</td>\n",
       "      <td id=\"T_89554_row1_col7\" class=\"data row1 col7\" >0.6859</td>\n",
       "      <td id=\"T_89554_row1_col8\" class=\"data row1 col8\" >0.0120</td>\n",
       "    </tr>\n",
       "    <tr>\n",
       "      <th id=\"T_89554_level0_row2\" class=\"row_heading level0 row2\" >lightgbm</th>\n",
       "      <td id=\"T_89554_row2_col0\" class=\"data row2 col0\" >Light Gradient Boosting Machine</td>\n",
       "      <td id=\"T_89554_row2_col1\" class=\"data row2 col1\" >0.8395</td>\n",
       "      <td id=\"T_89554_row2_col2\" class=\"data row2 col2\" >0.9012</td>\n",
       "      <td id=\"T_89554_row2_col3\" class=\"data row2 col3\" >0.8395</td>\n",
       "      <td id=\"T_89554_row2_col4\" class=\"data row2 col4\" >0.8050</td>\n",
       "      <td id=\"T_89554_row2_col5\" class=\"data row2 col5\" >0.8162</td>\n",
       "      <td id=\"T_89554_row2_col6\" class=\"data row2 col6\" >0.6536</td>\n",
       "      <td id=\"T_89554_row2_col7\" class=\"data row2 col7\" >0.6679</td>\n",
       "      <td id=\"T_89554_row2_col8\" class=\"data row2 col8\" >0.0710</td>\n",
       "    </tr>\n",
       "    <tr>\n",
       "      <th id=\"T_89554_level0_row3\" class=\"row_heading level0 row3\" >lda</th>\n",
       "      <td id=\"T_89554_row3_col0\" class=\"data row3 col0\" >Linear Discriminant Analysis</td>\n",
       "      <td id=\"T_89554_row3_col1\" class=\"data row3 col1\" >0.8390</td>\n",
       "      <td id=\"T_89554_row3_col2\" class=\"data row3 col2\" >0.9505</td>\n",
       "      <td id=\"T_89554_row3_col3\" class=\"data row3 col3\" >0.8390</td>\n",
       "      <td id=\"T_89554_row3_col4\" class=\"data row3 col4\" >0.7985</td>\n",
       "      <td id=\"T_89554_row3_col5\" class=\"data row3 col5\" >0.8073</td>\n",
       "      <td id=\"T_89554_row3_col6\" class=\"data row3 col6\" >0.6348</td>\n",
       "      <td id=\"T_89554_row3_col7\" class=\"data row3 col7\" >0.6598</td>\n",
       "      <td id=\"T_89554_row3_col8\" class=\"data row3 col8\" >0.0140</td>\n",
       "    </tr>\n",
       "    <tr>\n",
       "      <th id=\"T_89554_level0_row4\" class=\"row_heading level0 row4\" >rf</th>\n",
       "      <td id=\"T_89554_row4_col0\" class=\"data row4 col0\" >Random Forest Classifier</td>\n",
       "      <td id=\"T_89554_row4_col1\" class=\"data row4 col1\" >0.8319</td>\n",
       "      <td id=\"T_89554_row4_col2\" class=\"data row4 col2\" >0.9115</td>\n",
       "      <td id=\"T_89554_row4_col3\" class=\"data row4 col3\" >0.8319</td>\n",
       "      <td id=\"T_89554_row4_col4\" class=\"data row4 col4\" >0.7902</td>\n",
       "      <td id=\"T_89554_row4_col5\" class=\"data row4 col5\" >0.8010</td>\n",
       "      <td id=\"T_89554_row4_col6\" class=\"data row4 col6\" >0.6183</td>\n",
       "      <td id=\"T_89554_row4_col7\" class=\"data row4 col7\" >0.6460</td>\n",
       "      <td id=\"T_89554_row4_col8\" class=\"data row4 col8\" >0.0690</td>\n",
       "    </tr>\n",
       "    <tr>\n",
       "      <th id=\"T_89554_level0_row5\" class=\"row_heading level0 row5\" >et</th>\n",
       "      <td id=\"T_89554_row5_col0\" class=\"data row5 col0\" >Extra Trees Classifier</td>\n",
       "      <td id=\"T_89554_row5_col1\" class=\"data row5 col1\" >0.8319</td>\n",
       "      <td id=\"T_89554_row5_col2\" class=\"data row5 col2\" >0.9174</td>\n",
       "      <td id=\"T_89554_row5_col3\" class=\"data row5 col3\" >0.8319</td>\n",
       "      <td id=\"T_89554_row5_col4\" class=\"data row5 col4\" >0.7913</td>\n",
       "      <td id=\"T_89554_row5_col5\" class=\"data row5 col5\" >0.8039</td>\n",
       "      <td id=\"T_89554_row5_col6\" class=\"data row5 col6\" >0.6223</td>\n",
       "      <td id=\"T_89554_row5_col7\" class=\"data row5 col7\" >0.6457</td>\n",
       "      <td id=\"T_89554_row5_col8\" class=\"data row5 col8\" >0.0600</td>\n",
       "    </tr>\n",
       "    <tr>\n",
       "      <th id=\"T_89554_level0_row6\" class=\"row_heading level0 row6\" >gbc</th>\n",
       "      <td id=\"T_89554_row6_col0\" class=\"data row6 col0\" >Gradient Boosting Classifier</td>\n",
       "      <td id=\"T_89554_row6_col1\" class=\"data row6 col1\" >0.8238</td>\n",
       "      <td id=\"T_89554_row6_col2\" class=\"data row6 col2\" >0.8989</td>\n",
       "      <td id=\"T_89554_row6_col3\" class=\"data row6 col3\" >0.8238</td>\n",
       "      <td id=\"T_89554_row6_col4\" class=\"data row6 col4\" >0.7998</td>\n",
       "      <td id=\"T_89554_row6_col5\" class=\"data row6 col5\" >0.8057</td>\n",
       "      <td id=\"T_89554_row6_col6\" class=\"data row6 col6\" >0.6292</td>\n",
       "      <td id=\"T_89554_row6_col7\" class=\"data row6 col7\" >0.6455</td>\n",
       "      <td id=\"T_89554_row6_col8\" class=\"data row6 col8\" >0.0900</td>\n",
       "    </tr>\n",
       "    <tr>\n",
       "      <th id=\"T_89554_level0_row7\" class=\"row_heading level0 row7\" >xgboost</th>\n",
       "      <td id=\"T_89554_row7_col0\" class=\"data row7 col0\" >Extreme Gradient Boosting</td>\n",
       "      <td id=\"T_89554_row7_col1\" class=\"data row7 col1\" >0.8181</td>\n",
       "      <td id=\"T_89554_row7_col2\" class=\"data row7 col2\" >0.8997</td>\n",
       "      <td id=\"T_89554_row7_col3\" class=\"data row7 col3\" >0.8181</td>\n",
       "      <td id=\"T_89554_row7_col4\" class=\"data row7 col4\" >0.7922</td>\n",
       "      <td id=\"T_89554_row7_col5\" class=\"data row7 col5\" >0.7990</td>\n",
       "      <td id=\"T_89554_row7_col6\" class=\"data row7 col6\" >0.6161</td>\n",
       "      <td id=\"T_89554_row7_col7\" class=\"data row7 col7\" >0.6300</td>\n",
       "      <td id=\"T_89554_row7_col8\" class=\"data row7 col8\" >0.0340</td>\n",
       "    </tr>\n",
       "    <tr>\n",
       "      <th id=\"T_89554_level0_row8\" class=\"row_heading level0 row8\" >catboost</th>\n",
       "      <td id=\"T_89554_row8_col0\" class=\"data row8 col0\" >CatBoost Classifier</td>\n",
       "      <td id=\"T_89554_row8_col1\" class=\"data row8 col1\" >0.8110</td>\n",
       "      <td id=\"T_89554_row8_col2\" class=\"data row8 col2\" >0.9114</td>\n",
       "      <td id=\"T_89554_row8_col3\" class=\"data row8 col3\" >0.8110</td>\n",
       "      <td id=\"T_89554_row8_col4\" class=\"data row8 col4\" >0.7859</td>\n",
       "      <td id=\"T_89554_row8_col5\" class=\"data row8 col5\" >0.7896</td>\n",
       "      <td id=\"T_89554_row8_col6\" class=\"data row8 col6\" >0.5953</td>\n",
       "      <td id=\"T_89554_row8_col7\" class=\"data row8 col7\" >0.6161</td>\n",
       "      <td id=\"T_89554_row8_col8\" class=\"data row8 col8\" >0.7590</td>\n",
       "    </tr>\n",
       "    <tr>\n",
       "      <th id=\"T_89554_level0_row9\" class=\"row_heading level0 row9\" >ada</th>\n",
       "      <td id=\"T_89554_row9_col0\" class=\"data row9 col0\" >Ada Boost Classifier</td>\n",
       "      <td id=\"T_89554_row9_col1\" class=\"data row9 col1\" >0.7976</td>\n",
       "      <td id=\"T_89554_row9_col2\" class=\"data row9 col2\" >0.8719</td>\n",
       "      <td id=\"T_89554_row9_col3\" class=\"data row9 col3\" >0.7976</td>\n",
       "      <td id=\"T_89554_row9_col4\" class=\"data row9 col4\" >0.8137</td>\n",
       "      <td id=\"T_89554_row9_col5\" class=\"data row9 col5\" >0.7850</td>\n",
       "      <td id=\"T_89554_row9_col6\" class=\"data row9 col6\" >0.5741</td>\n",
       "      <td id=\"T_89554_row9_col7\" class=\"data row9 col7\" >0.5949</td>\n",
       "      <td id=\"T_89554_row9_col8\" class=\"data row9 col8\" >0.0360</td>\n",
       "    </tr>\n",
       "    <tr>\n",
       "      <th id=\"T_89554_level0_row10\" class=\"row_heading level0 row10\" >lr</th>\n",
       "      <td id=\"T_89554_row10_col0\" class=\"data row10 col0\" >Logistic Regression</td>\n",
       "      <td id=\"T_89554_row10_col1\" class=\"data row10 col1\" >0.7962</td>\n",
       "      <td id=\"T_89554_row10_col2\" class=\"data row10 col2\" >0.8319</td>\n",
       "      <td id=\"T_89554_row10_col3\" class=\"data row10 col3\" >0.7962</td>\n",
       "      <td id=\"T_89554_row10_col4\" class=\"data row10 col4\" >0.7624</td>\n",
       "      <td id=\"T_89554_row10_col5\" class=\"data row10 col5\" >0.7666</td>\n",
       "      <td id=\"T_89554_row10_col6\" class=\"data row10 col6\" >0.5488</td>\n",
       "      <td id=\"T_89554_row10_col7\" class=\"data row10 col7\" >0.5794</td>\n",
       "      <td id=\"T_89554_row10_col8\" class=\"data row10 col8\" >0.9640</td>\n",
       "    </tr>\n",
       "    <tr>\n",
       "      <th id=\"T_89554_level0_row11\" class=\"row_heading level0 row11\" >knn</th>\n",
       "      <td id=\"T_89554_row11_col0\" class=\"data row11 col0\" >K Neighbors Classifier</td>\n",
       "      <td id=\"T_89554_row11_col1\" class=\"data row11 col1\" >0.7890</td>\n",
       "      <td id=\"T_89554_row11_col2\" class=\"data row11 col2\" >0.7975</td>\n",
       "      <td id=\"T_89554_row11_col3\" class=\"data row11 col3\" >0.7890</td>\n",
       "      <td id=\"T_89554_row11_col4\" class=\"data row11 col4\" >0.7525</td>\n",
       "      <td id=\"T_89554_row11_col5\" class=\"data row11 col5\" >0.7584</td>\n",
       "      <td id=\"T_89554_row11_col6\" class=\"data row11 col6\" >0.5367</td>\n",
       "      <td id=\"T_89554_row11_col7\" class=\"data row11 col7\" >0.5675</td>\n",
       "      <td id=\"T_89554_row11_col8\" class=\"data row11 col8\" >0.0210</td>\n",
       "    </tr>\n",
       "    <tr>\n",
       "      <th id=\"T_89554_level0_row12\" class=\"row_heading level0 row12\" >nb</th>\n",
       "      <td id=\"T_89554_row12_col0\" class=\"data row12 col0\" >Naive Bayes</td>\n",
       "      <td id=\"T_89554_row12_col1\" class=\"data row12 col1\" >0.7824</td>\n",
       "      <td id=\"T_89554_row12_col2\" class=\"data row12 col2\" >0.8516</td>\n",
       "      <td id=\"T_89554_row12_col3\" class=\"data row12 col3\" >0.7824</td>\n",
       "      <td id=\"T_89554_row12_col4\" class=\"data row12 col4\" >0.7572</td>\n",
       "      <td id=\"T_89554_row12_col5\" class=\"data row12 col5\" >0.7571</td>\n",
       "      <td id=\"T_89554_row12_col6\" class=\"data row12 col6\" >0.5240</td>\n",
       "      <td id=\"T_89554_row12_col7\" class=\"data row12 col7\" >0.5510</td>\n",
       "      <td id=\"T_89554_row12_col8\" class=\"data row12 col8\" >0.0110</td>\n",
       "    </tr>\n",
       "    <tr>\n",
       "      <th id=\"T_89554_level0_row13\" class=\"row_heading level0 row13\" >dt</th>\n",
       "      <td id=\"T_89554_row13_col0\" class=\"data row13 col0\" >Decision Tree Classifier</td>\n",
       "      <td id=\"T_89554_row13_col1\" class=\"data row13 col1\" >0.7476</td>\n",
       "      <td id=\"T_89554_row13_col2\" class=\"data row13 col2\" >0.7933</td>\n",
       "      <td id=\"T_89554_row13_col3\" class=\"data row13 col3\" >0.7476</td>\n",
       "      <td id=\"T_89554_row13_col4\" class=\"data row13 col4\" >0.7876</td>\n",
       "      <td id=\"T_89554_row13_col5\" class=\"data row13 col5\" >0.7533</td>\n",
       "      <td id=\"T_89554_row13_col6\" class=\"data row13 col6\" >0.5031</td>\n",
       "      <td id=\"T_89554_row13_col7\" class=\"data row13 col7\" >0.5179</td>\n",
       "      <td id=\"T_89554_row13_col8\" class=\"data row13 col8\" >0.0110</td>\n",
       "    </tr>\n",
       "    <tr>\n",
       "      <th id=\"T_89554_level0_row14\" class=\"row_heading level0 row14\" >dummy</th>\n",
       "      <td id=\"T_89554_row14_col0\" class=\"data row14 col0\" >Dummy Classifier</td>\n",
       "      <td id=\"T_89554_row14_col1\" class=\"data row14 col1\" >0.6500</td>\n",
       "      <td id=\"T_89554_row14_col2\" class=\"data row14 col2\" >0.5000</td>\n",
       "      <td id=\"T_89554_row14_col3\" class=\"data row14 col3\" >0.6500</td>\n",
       "      <td id=\"T_89554_row14_col4\" class=\"data row14 col4\" >0.4226</td>\n",
       "      <td id=\"T_89554_row14_col5\" class=\"data row14 col5\" >0.5122</td>\n",
       "      <td id=\"T_89554_row14_col6\" class=\"data row14 col6\" >0.0000</td>\n",
       "      <td id=\"T_89554_row14_col7\" class=\"data row14 col7\" >0.0000</td>\n",
       "      <td id=\"T_89554_row14_col8\" class=\"data row14 col8\" >0.0110</td>\n",
       "    </tr>\n",
       "    <tr>\n",
       "      <th id=\"T_89554_level0_row15\" class=\"row_heading level0 row15\" >svm</th>\n",
       "      <td id=\"T_89554_row15_col0\" class=\"data row15 col0\" >SVM - Linear Kernel</td>\n",
       "      <td id=\"T_89554_row15_col1\" class=\"data row15 col1\" >0.6162</td>\n",
       "      <td id=\"T_89554_row15_col2\" class=\"data row15 col2\" >0.0000</td>\n",
       "      <td id=\"T_89554_row15_col3\" class=\"data row15 col3\" >0.6162</td>\n",
       "      <td id=\"T_89554_row15_col4\" class=\"data row15 col4\" >0.7108</td>\n",
       "      <td id=\"T_89554_row15_col5\" class=\"data row15 col5\" >0.5903</td>\n",
       "      <td id=\"T_89554_row15_col6\" class=\"data row15 col6\" >0.3378</td>\n",
       "      <td id=\"T_89554_row15_col7\" class=\"data row15 col7\" >0.3838</td>\n",
       "      <td id=\"T_89554_row15_col8\" class=\"data row15 col8\" >0.0140</td>\n",
       "    </tr>\n",
       "  </tbody>\n",
       "</table>\n"
      ],
      "text/plain": [
       "<pandas.io.formats.style.Styler at 0x238d4317290>"
      ]
     },
     "metadata": {},
     "output_type": "display_data"
    },
    {
     "data": {
      "text/html": [],
      "text/plain": [
       "<IPython.core.display.HTML object>"
      ]
     },
     "metadata": {},
     "output_type": "display_data"
    }
   ],
   "source": [
    "best_models = compare_models()"
   ]
  },
  {
   "cell_type": "code",
   "execution_count": 96,
   "id": "910bd5e2",
   "metadata": {},
   "outputs": [
    {
     "data": {
      "text/html": [],
      "text/plain": [
       "<IPython.core.display.HTML object>"
      ]
     },
     "metadata": {},
     "output_type": "display_data"
    },
    {
     "data": {
      "text/html": [
       "<style type=\"text/css\">\n",
       "#T_1b52a_row10_col0, #T_1b52a_row10_col1, #T_1b52a_row10_col2, #T_1b52a_row10_col3, #T_1b52a_row10_col4, #T_1b52a_row10_col5, #T_1b52a_row10_col6 {\n",
       "  background: yellow;\n",
       "}\n",
       "</style>\n",
       "<table id=\"T_1b52a\">\n",
       "  <thead>\n",
       "    <tr>\n",
       "      <th class=\"blank level0\" >&nbsp;</th>\n",
       "      <th id=\"T_1b52a_level0_col0\" class=\"col_heading level0 col0\" >Accuracy</th>\n",
       "      <th id=\"T_1b52a_level0_col1\" class=\"col_heading level0 col1\" >AUC</th>\n",
       "      <th id=\"T_1b52a_level0_col2\" class=\"col_heading level0 col2\" >Recall</th>\n",
       "      <th id=\"T_1b52a_level0_col3\" class=\"col_heading level0 col3\" >Prec.</th>\n",
       "      <th id=\"T_1b52a_level0_col4\" class=\"col_heading level0 col4\" >F1</th>\n",
       "      <th id=\"T_1b52a_level0_col5\" class=\"col_heading level0 col5\" >Kappa</th>\n",
       "      <th id=\"T_1b52a_level0_col6\" class=\"col_heading level0 col6\" >MCC</th>\n",
       "    </tr>\n",
       "    <tr>\n",
       "      <th class=\"index_name level0\" >Fold</th>\n",
       "      <th class=\"blank col0\" >&nbsp;</th>\n",
       "      <th class=\"blank col1\" >&nbsp;</th>\n",
       "      <th class=\"blank col2\" >&nbsp;</th>\n",
       "      <th class=\"blank col3\" >&nbsp;</th>\n",
       "      <th class=\"blank col4\" >&nbsp;</th>\n",
       "      <th class=\"blank col5\" >&nbsp;</th>\n",
       "      <th class=\"blank col6\" >&nbsp;</th>\n",
       "    </tr>\n",
       "  </thead>\n",
       "  <tbody>\n",
       "    <tr>\n",
       "      <th id=\"T_1b52a_level0_row0\" class=\"row_heading level0 row0\" >0</th>\n",
       "      <td id=\"T_1b52a_row0_col0\" class=\"data row0 col0\" >0.9333</td>\n",
       "      <td id=\"T_1b52a_row0_col1\" class=\"data row0 col1\" >1.0000</td>\n",
       "      <td id=\"T_1b52a_row0_col2\" class=\"data row0 col2\" >0.9333</td>\n",
       "      <td id=\"T_1b52a_row0_col3\" class=\"data row0 col3\" >0.8800</td>\n",
       "      <td id=\"T_1b52a_row0_col4\" class=\"data row0 col4\" >0.9037</td>\n",
       "      <td id=\"T_1b52a_row0_col5\" class=\"data row0 col5\" >0.8571</td>\n",
       "      <td id=\"T_1b52a_row0_col6\" class=\"data row0 col6\" >0.8660</td>\n",
       "    </tr>\n",
       "    <tr>\n",
       "      <th id=\"T_1b52a_level0_row1\" class=\"row_heading level0 row1\" >1</th>\n",
       "      <td id=\"T_1b52a_row1_col0\" class=\"data row1 col0\" >0.9333</td>\n",
       "      <td id=\"T_1b52a_row1_col1\" class=\"data row1 col1\" >0.9199</td>\n",
       "      <td id=\"T_1b52a_row1_col2\" class=\"data row1 col2\" >0.9333</td>\n",
       "      <td id=\"T_1b52a_row1_col3\" class=\"data row1 col3\" >0.8800</td>\n",
       "      <td id=\"T_1b52a_row1_col4\" class=\"data row1 col4\" >0.9037</td>\n",
       "      <td id=\"T_1b52a_row1_col5\" class=\"data row1 col5\" >0.8571</td>\n",
       "      <td id=\"T_1b52a_row1_col6\" class=\"data row1 col6\" >0.8660</td>\n",
       "    </tr>\n",
       "    <tr>\n",
       "      <th id=\"T_1b52a_level0_row2\" class=\"row_heading level0 row2\" >2</th>\n",
       "      <td id=\"T_1b52a_row2_col0\" class=\"data row2 col0\" >0.9333</td>\n",
       "      <td id=\"T_1b52a_row2_col1\" class=\"data row2 col1\" >0.9186</td>\n",
       "      <td id=\"T_1b52a_row2_col2\" class=\"data row2 col2\" >0.9333</td>\n",
       "      <td id=\"T_1b52a_row2_col3\" class=\"data row2 col3\" >0.8800</td>\n",
       "      <td id=\"T_1b52a_row2_col4\" class=\"data row2 col4\" >0.9037</td>\n",
       "      <td id=\"T_1b52a_row2_col5\" class=\"data row2 col5\" >0.8571</td>\n",
       "      <td id=\"T_1b52a_row2_col6\" class=\"data row2 col6\" >0.8660</td>\n",
       "    </tr>\n",
       "    <tr>\n",
       "      <th id=\"T_1b52a_level0_row3\" class=\"row_heading level0 row3\" >3</th>\n",
       "      <td id=\"T_1b52a_row3_col0\" class=\"data row3 col0\" >0.9286</td>\n",
       "      <td id=\"T_1b52a_row3_col1\" class=\"data row3 col1\" >0.9181</td>\n",
       "      <td id=\"T_1b52a_row3_col2\" class=\"data row3 col2\" >0.9286</td>\n",
       "      <td id=\"T_1b52a_row3_col3\" class=\"data row3 col3\" >0.8714</td>\n",
       "      <td id=\"T_1b52a_row3_col4\" class=\"data row3 col4\" >0.8968</td>\n",
       "      <td id=\"T_1b52a_row3_col5\" class=\"data row3 col5\" >0.8526</td>\n",
       "      <td id=\"T_1b52a_row3_col6\" class=\"data row3 col6\" >0.8625</td>\n",
       "    </tr>\n",
       "    <tr>\n",
       "      <th id=\"T_1b52a_level0_row4\" class=\"row_heading level0 row4\" >4</th>\n",
       "      <td id=\"T_1b52a_row4_col0\" class=\"data row4 col0\" >0.8571</td>\n",
       "      <td id=\"T_1b52a_row4_col1\" class=\"data row4 col1\" >0.9874</td>\n",
       "      <td id=\"T_1b52a_row4_col2\" class=\"data row4 col2\" >0.8571</td>\n",
       "      <td id=\"T_1b52a_row4_col3\" class=\"data row4 col3\" >0.8333</td>\n",
       "      <td id=\"T_1b52a_row4_col4\" class=\"data row4 col4\" >0.8336</td>\n",
       "      <td id=\"T_1b52a_row4_col5\" class=\"data row4 col5\" >0.7200</td>\n",
       "      <td id=\"T_1b52a_row4_col6\" class=\"data row4 col6\" >0.7423</td>\n",
       "    </tr>\n",
       "    <tr>\n",
       "      <th id=\"T_1b52a_level0_row5\" class=\"row_heading level0 row5\" >5</th>\n",
       "      <td id=\"T_1b52a_row5_col0\" class=\"data row5 col0\" >0.8571</td>\n",
       "      <td id=\"T_1b52a_row5_col1\" class=\"data row5 col1\" >0.8000</td>\n",
       "      <td id=\"T_1b52a_row5_col2\" class=\"data row5 col2\" >0.8571</td>\n",
       "      <td id=\"T_1b52a_row5_col3\" class=\"data row5 col3\" >0.8571</td>\n",
       "      <td id=\"T_1b52a_row5_col4\" class=\"data row5 col4\" >0.8571</td>\n",
       "      <td id=\"T_1b52a_row5_col5\" class=\"data row5 col5\" >0.7143</td>\n",
       "      <td id=\"T_1b52a_row5_col6\" class=\"data row5 col6\" >0.7143</td>\n",
       "    </tr>\n",
       "    <tr>\n",
       "      <th id=\"T_1b52a_level0_row6\" class=\"row_heading level0 row6\" >6</th>\n",
       "      <td id=\"T_1b52a_row6_col0\" class=\"data row6 col0\" >0.9286</td>\n",
       "      <td id=\"T_1b52a_row6_col1\" class=\"data row6 col1\" >0.9201</td>\n",
       "      <td id=\"T_1b52a_row6_col2\" class=\"data row6 col2\" >0.9286</td>\n",
       "      <td id=\"T_1b52a_row6_col3\" class=\"data row6 col3\" >0.8714</td>\n",
       "      <td id=\"T_1b52a_row6_col4\" class=\"data row6 col4\" >0.8968</td>\n",
       "      <td id=\"T_1b52a_row6_col5\" class=\"data row6 col5\" >0.8526</td>\n",
       "      <td id=\"T_1b52a_row6_col6\" class=\"data row6 col6\" >0.8625</td>\n",
       "    </tr>\n",
       "    <tr>\n",
       "      <th id=\"T_1b52a_level0_row7\" class=\"row_heading level0 row7\" >7</th>\n",
       "      <td id=\"T_1b52a_row7_col0\" class=\"data row7 col0\" >0.8571</td>\n",
       "      <td id=\"T_1b52a_row7_col1\" class=\"data row7 col1\" >0.9192</td>\n",
       "      <td id=\"T_1b52a_row7_col2\" class=\"data row7 col2\" >0.8571</td>\n",
       "      <td id=\"T_1b52a_row7_col3\" class=\"data row7 col3\" >0.7929</td>\n",
       "      <td id=\"T_1b52a_row7_col4\" class=\"data row7 col4\" >0.8233</td>\n",
       "      <td id=\"T_1b52a_row7_col5\" class=\"data row7 col5\" >0.6889</td>\n",
       "      <td id=\"T_1b52a_row7_col6\" class=\"data row7 col6\" >0.7002</td>\n",
       "    </tr>\n",
       "    <tr>\n",
       "      <th id=\"T_1b52a_level0_row8\" class=\"row_heading level0 row8\" >8</th>\n",
       "      <td id=\"T_1b52a_row8_col0\" class=\"data row8 col0\" >0.6429</td>\n",
       "      <td id=\"T_1b52a_row8_col1\" class=\"data row8 col1\" >0.8734</td>\n",
       "      <td id=\"T_1b52a_row8_col2\" class=\"data row8 col2\" >0.6429</td>\n",
       "      <td id=\"T_1b52a_row8_col3\" class=\"data row8 col3\" >0.6667</td>\n",
       "      <td id=\"T_1b52a_row8_col4\" class=\"data row8 col4\" >0.6531</td>\n",
       "      <td id=\"T_1b52a_row8_col5\" class=\"data row8 col5\" >0.3069</td>\n",
       "      <td id=\"T_1b52a_row8_col6\" class=\"data row8 col6\" >0.3101</td>\n",
       "    </tr>\n",
       "    <tr>\n",
       "      <th id=\"T_1b52a_level0_row9\" class=\"row_heading level0 row9\" >9</th>\n",
       "      <td id=\"T_1b52a_row9_col0\" class=\"data row9 col0\" >0.7857</td>\n",
       "      <td id=\"T_1b52a_row9_col1\" class=\"data row9 col1\" >0.8154</td>\n",
       "      <td id=\"T_1b52a_row9_col2\" class=\"data row9 col2\" >0.7857</td>\n",
       "      <td id=\"T_1b52a_row9_col3\" class=\"data row9 col3\" >0.7690</td>\n",
       "      <td id=\"T_1b52a_row9_col4\" class=\"data row9 col4\" >0.7723</td>\n",
       "      <td id=\"T_1b52a_row9_col5\" class=\"data row9 col5\" >0.5484</td>\n",
       "      <td id=\"T_1b52a_row9_col6\" class=\"data row9 col6\" >0.5555</td>\n",
       "    </tr>\n",
       "    <tr>\n",
       "      <th id=\"T_1b52a_level0_row10\" class=\"row_heading level0 row10\" >Mean</th>\n",
       "      <td id=\"T_1b52a_row10_col0\" class=\"data row10 col0\" >0.8657</td>\n",
       "      <td id=\"T_1b52a_row10_col1\" class=\"data row10 col1\" >0.9072</td>\n",
       "      <td id=\"T_1b52a_row10_col2\" class=\"data row10 col2\" >0.8657</td>\n",
       "      <td id=\"T_1b52a_row10_col3\" class=\"data row10 col3\" >0.8302</td>\n",
       "      <td id=\"T_1b52a_row10_col4\" class=\"data row10 col4\" >0.8444</td>\n",
       "      <td id=\"T_1b52a_row10_col5\" class=\"data row10 col5\" >0.7255</td>\n",
       "      <td id=\"T_1b52a_row10_col6\" class=\"data row10 col6\" >0.7345</td>\n",
       "    </tr>\n",
       "    <tr>\n",
       "      <th id=\"T_1b52a_level0_row11\" class=\"row_heading level0 row11\" >Std</th>\n",
       "      <td id=\"T_1b52a_row11_col0\" class=\"data row11 col0\" >0.0883</td>\n",
       "      <td id=\"T_1b52a_row11_col1\" class=\"data row11 col1\" >0.0607</td>\n",
       "      <td id=\"T_1b52a_row11_col2\" class=\"data row11 col2\" >0.0883</td>\n",
       "      <td id=\"T_1b52a_row11_col3\" class=\"data row11 col3\" >0.0659</td>\n",
       "      <td id=\"T_1b52a_row11_col4\" class=\"data row11 col4\" >0.0765</td>\n",
       "      <td id=\"T_1b52a_row11_col5\" class=\"data row11 col5\" >0.1710</td>\n",
       "      <td id=\"T_1b52a_row11_col6\" class=\"data row11 col6\" >0.1728</td>\n",
       "    </tr>\n",
       "  </tbody>\n",
       "</table>\n"
      ],
      "text/plain": [
       "<pandas.io.formats.style.Styler at 0x238cdcd6010>"
      ]
     },
     "metadata": {},
     "output_type": "display_data"
    },
    {
     "data": {
      "text/html": [],
      "text/plain": [
       "<IPython.core.display.HTML object>"
      ]
     },
     "metadata": {},
     "output_type": "display_data"
    }
   ],
   "source": [
    "qda = create_model(\"qda\")"
   ]
  },
  {
   "cell_type": "code",
   "execution_count": 97,
   "id": "96125d82",
   "metadata": {},
   "outputs": [
    {
     "data": {
      "text/html": [],
      "text/plain": [
       "<IPython.core.display.HTML object>"
      ]
     },
     "metadata": {},
     "output_type": "display_data"
    },
    {
     "data": {
      "text/html": [
       "<style type=\"text/css\">\n",
       "#T_fa303_row10_col0, #T_fa303_row10_col1, #T_fa303_row10_col2, #T_fa303_row10_col3, #T_fa303_row10_col4, #T_fa303_row10_col5, #T_fa303_row10_col6 {\n",
       "  background: yellow;\n",
       "}\n",
       "</style>\n",
       "<table id=\"T_fa303\">\n",
       "  <thead>\n",
       "    <tr>\n",
       "      <th class=\"blank level0\" >&nbsp;</th>\n",
       "      <th id=\"T_fa303_level0_col0\" class=\"col_heading level0 col0\" >Accuracy</th>\n",
       "      <th id=\"T_fa303_level0_col1\" class=\"col_heading level0 col1\" >AUC</th>\n",
       "      <th id=\"T_fa303_level0_col2\" class=\"col_heading level0 col2\" >Recall</th>\n",
       "      <th id=\"T_fa303_level0_col3\" class=\"col_heading level0 col3\" >Prec.</th>\n",
       "      <th id=\"T_fa303_level0_col4\" class=\"col_heading level0 col4\" >F1</th>\n",
       "      <th id=\"T_fa303_level0_col5\" class=\"col_heading level0 col5\" >Kappa</th>\n",
       "      <th id=\"T_fa303_level0_col6\" class=\"col_heading level0 col6\" >MCC</th>\n",
       "    </tr>\n",
       "    <tr>\n",
       "      <th class=\"index_name level0\" >Fold</th>\n",
       "      <th class=\"blank col0\" >&nbsp;</th>\n",
       "      <th class=\"blank col1\" >&nbsp;</th>\n",
       "      <th class=\"blank col2\" >&nbsp;</th>\n",
       "      <th class=\"blank col3\" >&nbsp;</th>\n",
       "      <th class=\"blank col4\" >&nbsp;</th>\n",
       "      <th class=\"blank col5\" >&nbsp;</th>\n",
       "      <th class=\"blank col6\" >&nbsp;</th>\n",
       "    </tr>\n",
       "  </thead>\n",
       "  <tbody>\n",
       "    <tr>\n",
       "      <th id=\"T_fa303_level0_row0\" class=\"row_heading level0 row0\" >0</th>\n",
       "      <td id=\"T_fa303_row0_col0\" class=\"data row0 col0\" >0.9333</td>\n",
       "      <td id=\"T_fa303_row0_col1\" class=\"data row0 col1\" >1.0000</td>\n",
       "      <td id=\"T_fa303_row0_col2\" class=\"data row0 col2\" >0.9333</td>\n",
       "      <td id=\"T_fa303_row0_col3\" class=\"data row0 col3\" >0.8800</td>\n",
       "      <td id=\"T_fa303_row0_col4\" class=\"data row0 col4\" >0.9037</td>\n",
       "      <td id=\"T_fa303_row0_col5\" class=\"data row0 col5\" >0.8571</td>\n",
       "      <td id=\"T_fa303_row0_col6\" class=\"data row0 col6\" >0.8660</td>\n",
       "    </tr>\n",
       "    <tr>\n",
       "      <th id=\"T_fa303_level0_row1\" class=\"row_heading level0 row1\" >1</th>\n",
       "      <td id=\"T_fa303_row1_col0\" class=\"data row1 col0\" >0.9333</td>\n",
       "      <td id=\"T_fa303_row1_col1\" class=\"data row1 col1\" >0.9437</td>\n",
       "      <td id=\"T_fa303_row1_col2\" class=\"data row1 col2\" >0.9333</td>\n",
       "      <td id=\"T_fa303_row1_col3\" class=\"data row1 col3\" >0.8800</td>\n",
       "      <td id=\"T_fa303_row1_col4\" class=\"data row1 col4\" >0.9037</td>\n",
       "      <td id=\"T_fa303_row1_col5\" class=\"data row1 col5\" >0.8571</td>\n",
       "      <td id=\"T_fa303_row1_col6\" class=\"data row1 col6\" >0.8660</td>\n",
       "    </tr>\n",
       "    <tr>\n",
       "      <th id=\"T_fa303_level0_row2\" class=\"row_heading level0 row2\" >2</th>\n",
       "      <td id=\"T_fa303_row2_col0\" class=\"data row2 col0\" >0.8667</td>\n",
       "      <td id=\"T_fa303_row2_col1\" class=\"data row2 col1\" >0.9723</td>\n",
       "      <td id=\"T_fa303_row2_col2\" class=\"data row2 col2\" >0.8667</td>\n",
       "      <td id=\"T_fa303_row2_col3\" class=\"data row2 col3\" >0.8061</td>\n",
       "      <td id=\"T_fa303_row2_col4\" class=\"data row2 col4\" >0.8349</td>\n",
       "      <td id=\"T_fa303_row2_col5\" class=\"data row2 col5\" >0.6970</td>\n",
       "      <td id=\"T_fa303_row2_col6\" class=\"data row2 col6\" >0.7078</td>\n",
       "    </tr>\n",
       "    <tr>\n",
       "      <th id=\"T_fa303_level0_row3\" class=\"row_heading level0 row3\" >3</th>\n",
       "      <td id=\"T_fa303_row3_col0\" class=\"data row3 col0\" >0.9286</td>\n",
       "      <td id=\"T_fa303_row3_col1\" class=\"data row3 col1\" >0.9126</td>\n",
       "      <td id=\"T_fa303_row3_col2\" class=\"data row3 col2\" >0.9286</td>\n",
       "      <td id=\"T_fa303_row3_col3\" class=\"data row3 col3\" >0.8714</td>\n",
       "      <td id=\"T_fa303_row3_col4\" class=\"data row3 col4\" >0.8968</td>\n",
       "      <td id=\"T_fa303_row3_col5\" class=\"data row3 col5\" >0.8526</td>\n",
       "      <td id=\"T_fa303_row3_col6\" class=\"data row3 col6\" >0.8625</td>\n",
       "    </tr>\n",
       "    <tr>\n",
       "      <th id=\"T_fa303_level0_row4\" class=\"row_heading level0 row4\" >4</th>\n",
       "      <td id=\"T_fa303_row4_col0\" class=\"data row4 col0\" >0.9286</td>\n",
       "      <td id=\"T_fa303_row4_col1\" class=\"data row4 col1\" >0.9874</td>\n",
       "      <td id=\"T_fa303_row4_col2\" class=\"data row4 col2\" >0.9286</td>\n",
       "      <td id=\"T_fa303_row4_col3\" class=\"data row4 col3\" >0.8714</td>\n",
       "      <td id=\"T_fa303_row4_col4\" class=\"data row4 col4\" >0.8968</td>\n",
       "      <td id=\"T_fa303_row4_col5\" class=\"data row4 col5\" >0.8526</td>\n",
       "      <td id=\"T_fa303_row4_col6\" class=\"data row4 col6\" >0.8625</td>\n",
       "    </tr>\n",
       "    <tr>\n",
       "      <th id=\"T_fa303_level0_row5\" class=\"row_heading level0 row5\" >5</th>\n",
       "      <td id=\"T_fa303_row5_col0\" class=\"data row5 col0\" >0.8571</td>\n",
       "      <td id=\"T_fa303_row5_col1\" class=\"data row5 col1\" >0.8615</td>\n",
       "      <td id=\"T_fa303_row5_col2\" class=\"data row5 col2\" >0.8571</td>\n",
       "      <td id=\"T_fa303_row5_col3\" class=\"data row5 col3\" >0.8643</td>\n",
       "      <td id=\"T_fa303_row5_col4\" class=\"data row5 col4\" >0.8539</td>\n",
       "      <td id=\"T_fa303_row5_col5\" class=\"data row5 col5\" >0.6989</td>\n",
       "      <td id=\"T_fa303_row5_col6\" class=\"data row5 col6\" >0.7080</td>\n",
       "    </tr>\n",
       "    <tr>\n",
       "      <th id=\"T_fa303_level0_row6\" class=\"row_heading level0 row6\" >6</th>\n",
       "      <td id=\"T_fa303_row6_col0\" class=\"data row6 col0\" >0.9286</td>\n",
       "      <td id=\"T_fa303_row6_col1\" class=\"data row6 col1\" >0.9456</td>\n",
       "      <td id=\"T_fa303_row6_col2\" class=\"data row6 col2\" >0.9286</td>\n",
       "      <td id=\"T_fa303_row6_col3\" class=\"data row6 col3\" >0.8714</td>\n",
       "      <td id=\"T_fa303_row6_col4\" class=\"data row6 col4\" >0.8968</td>\n",
       "      <td id=\"T_fa303_row6_col5\" class=\"data row6 col5\" >0.8526</td>\n",
       "      <td id=\"T_fa303_row6_col6\" class=\"data row6 col6\" >0.8625</td>\n",
       "    </tr>\n",
       "    <tr>\n",
       "      <th id=\"T_fa303_level0_row7\" class=\"row_heading level0 row7\" >7</th>\n",
       "      <td id=\"T_fa303_row7_col0\" class=\"data row7 col0\" >0.8571</td>\n",
       "      <td id=\"T_fa303_row7_col1\" class=\"data row7 col1\" >0.8929</td>\n",
       "      <td id=\"T_fa303_row7_col2\" class=\"data row7 col2\" >0.8571</td>\n",
       "      <td id=\"T_fa303_row7_col3\" class=\"data row7 col3\" >0.7929</td>\n",
       "      <td id=\"T_fa303_row7_col4\" class=\"data row7 col4\" >0.8233</td>\n",
       "      <td id=\"T_fa303_row7_col5\" class=\"data row7 col5\" >0.6889</td>\n",
       "      <td id=\"T_fa303_row7_col6\" class=\"data row7 col6\" >0.7002</td>\n",
       "    </tr>\n",
       "    <tr>\n",
       "      <th id=\"T_fa303_level0_row8\" class=\"row_heading level0 row8\" >8</th>\n",
       "      <td id=\"T_fa303_row8_col0\" class=\"data row8 col0\" >0.6429</td>\n",
       "      <td id=\"T_fa303_row8_col1\" class=\"data row8 col1\" >0.8591</td>\n",
       "      <td id=\"T_fa303_row8_col2\" class=\"data row8 col2\" >0.6429</td>\n",
       "      <td id=\"T_fa303_row8_col3\" class=\"data row8 col3\" >0.6667</td>\n",
       "      <td id=\"T_fa303_row8_col4\" class=\"data row8 col4\" >0.6531</td>\n",
       "      <td id=\"T_fa303_row8_col5\" class=\"data row8 col5\" >0.3069</td>\n",
       "      <td id=\"T_fa303_row8_col6\" class=\"data row8 col6\" >0.3101</td>\n",
       "    </tr>\n",
       "    <tr>\n",
       "      <th id=\"T_fa303_level0_row9\" class=\"row_heading level0 row9\" >9</th>\n",
       "      <td id=\"T_fa303_row9_col0\" class=\"data row9 col0\" >0.8571</td>\n",
       "      <td id=\"T_fa303_row9_col1\" class=\"data row9 col1\" >0.8643</td>\n",
       "      <td id=\"T_fa303_row9_col2\" class=\"data row9 col2\" >0.8571</td>\n",
       "      <td id=\"T_fa303_row9_col3\" class=\"data row9 col3\" >0.7929</td>\n",
       "      <td id=\"T_fa303_row9_col4\" class=\"data row9 col4\" >0.8233</td>\n",
       "      <td id=\"T_fa303_row9_col5\" class=\"data row9 col5\" >0.6889</td>\n",
       "      <td id=\"T_fa303_row9_col6\" class=\"data row9 col6\" >0.7002</td>\n",
       "    </tr>\n",
       "    <tr>\n",
       "      <th id=\"T_fa303_level0_row10\" class=\"row_heading level0 row10\" >Mean</th>\n",
       "      <td id=\"T_fa303_row10_col0\" class=\"data row10 col0\" >0.8733</td>\n",
       "      <td id=\"T_fa303_row10_col1\" class=\"data row10 col1\" >0.9239</td>\n",
       "      <td id=\"T_fa303_row10_col2\" class=\"data row10 col2\" >0.8733</td>\n",
       "      <td id=\"T_fa303_row10_col3\" class=\"data row10 col3\" >0.8297</td>\n",
       "      <td id=\"T_fa303_row10_col4\" class=\"data row10 col4\" >0.8486</td>\n",
       "      <td id=\"T_fa303_row10_col5\" class=\"data row10 col5\" >0.7353</td>\n",
       "      <td id=\"T_fa303_row10_col6\" class=\"data row10 col6\" >0.7446</td>\n",
       "    </tr>\n",
       "    <tr>\n",
       "      <th id=\"T_fa303_level0_row11\" class=\"row_heading level0 row11\" >Std</th>\n",
       "      <td id=\"T_fa303_row11_col0\" class=\"data row11 col0\" >0.0838</td>\n",
       "      <td id=\"T_fa303_row11_col1\" class=\"data row11 col1\" >0.0508</td>\n",
       "      <td id=\"T_fa303_row11_col2\" class=\"data row11 col2\" >0.0838</td>\n",
       "      <td id=\"T_fa303_row11_col3\" class=\"data row11 col3\" >0.0643</td>\n",
       "      <td id=\"T_fa303_row11_col4\" class=\"data row11 col4\" >0.0726</td>\n",
       "      <td id=\"T_fa303_row11_col5\" class=\"data row11 col5\" >0.1617</td>\n",
       "      <td id=\"T_fa303_row11_col6\" class=\"data row11 col6\" >0.1633</td>\n",
       "    </tr>\n",
       "  </tbody>\n",
       "</table>\n"
      ],
      "text/plain": [
       "<pandas.io.formats.style.Styler at 0x238d06714d0>"
      ]
     },
     "metadata": {},
     "output_type": "display_data"
    },
    {
     "data": {
      "text/html": [],
      "text/plain": [
       "<IPython.core.display.HTML object>"
      ]
     },
     "metadata": {},
     "output_type": "display_data"
    },
    {
     "name": "stdout",
     "output_type": "stream",
     "text": [
      "Fitting 10 folds for each of 10 candidates, totalling 100 fits\n"
     ]
    }
   ],
   "source": [
    "qda_tuned = tune_model(qda)"
   ]
  },
  {
   "cell_type": "code",
   "execution_count": 98,
   "id": "429b5837",
   "metadata": {},
   "outputs": [
    {
     "data": {
      "application/vnd.jupyter.widget-view+json": {
       "model_id": "ea28f4776ed64a079edc5a1a75e2159d",
       "version_major": 2,
       "version_minor": 0
      },
      "text/plain": [
       "interactive(children=(ToggleButtons(description='Plot Type:', icons=('',), options=(('Pipeline Plot', 'pipelin…"
      ]
     },
     "metadata": {},
     "output_type": "display_data"
    }
   ],
   "source": [
    "evaluate_model(qda)"
   ]
  },
  {
   "cell_type": "markdown",
   "id": "b5a48de1",
   "metadata": {},
   "source": [
    "## Statistical analysis ###\n"
   ]
  },
  {
   "cell_type": "markdown",
   "id": "59391c1a",
   "metadata": {},
   "source": [
    "Which gender survive for long time after survival?  Two sampled t-test to be used\n",
    "\n",
    "        H0 = No difference how long female and male survives after the surgery\n",
    "\n",
    "        H1 = Female lives longer after surgery than men"
   ]
  },
  {
   "cell_type": "code",
   "execution_count": 99,
   "id": "459fdf79",
   "metadata": {},
   "outputs": [],
   "source": [
    "import scipy.stats as stats \n",
    "import pingouin \n",
    "import statsmodels.api as sm\n",
    "import statsmodels.formula.api as smf"
   ]
  },
  {
   "cell_type": "markdown",
   "id": "edf98502",
   "metadata": {},
   "source": [
    "First checking for assumptions not to be violated:"
   ]
  },
  {
   "cell_type": "markdown",
   "id": "188964a3",
   "metadata": {},
   "source": [
    "Checking for normality, we have more than 30 values so based on the central limit theorem we are safe. "
   ]
  },
  {
   "cell_type": "code",
   "execution_count": 142,
   "id": "a7fffbf4",
   "metadata": {},
   "outputs": [
    {
     "data": {
      "text/plain": [
       "205"
      ]
     },
     "execution_count": 142,
     "metadata": {},
     "output_type": "execute_result"
    }
   ],
   "source": [
    "len(df1)"
   ]
  },
  {
   "cell_type": "code",
   "execution_count": 143,
   "id": "e142949f",
   "metadata": {},
   "outputs": [
    {
     "data": {
      "text/plain": [
       "sex\n",
       "female    126\n",
       "male       79\n",
       "Name: count, dtype: int64"
      ]
     },
     "execution_count": 143,
     "metadata": {},
     "output_type": "execute_result"
    }
   ],
   "source": [
    "df['sex'].value_counts()"
   ]
  },
  {
   "cell_type": "markdown",
   "id": "0f5dca01",
   "metadata": {},
   "source": [
    "***Checking for outliers***"
   ]
  },
  {
   "cell_type": "code",
   "execution_count": 144,
   "id": "a34d7da8",
   "metadata": {},
   "outputs": [],
   "source": [
    "female_survival = df1[df1['sex'] == 0]['Year of survival']"
   ]
  },
  {
   "cell_type": "code",
   "execution_count": 192,
   "id": "1f611c3c",
   "metadata": {},
   "outputs": [],
   "source": [
    "sns.set(rc={\"figure.figsize\":(3,3)}) \n",
    "sns.boxplot(data=female_survival)"
   ]
  },
  {
   "cell_type": "code",
   "execution_count": 133,
   "id": "33d1c2d9",
   "metadata": {},
   "outputs": [],
   "source": [
    "male_survival = df1[df1['sex'] == 1]['Year of survival']"
   ]
  },
  {
   "cell_type": "code",
   "execution_count": 134,
   "id": "f8a255c7",
   "metadata": {},
   "outputs": [
    {
     "data": {
      "text/plain": [
       "<AxesSubplot: >"
      ]
     },
     "execution_count": 134,
     "metadata": {},
     "output_type": "execute_result"
    },
    {
     "data": {
      "image/png": "[encoded data removed]",
      "text/plain": [
       "<Figure size 300x300 with 1 Axes>"
      ]
     },
     "metadata": {},
     "output_type": "display_data"
    }
   ],
   "source": [
    "sns.set(rc={\"figure.figsize\":(3,3)}) \n",
    "sns.boxplot(data=male_survival)"
   ]
  },
  {
   "cell_type": "markdown",
   "id": "16fb1aeb",
   "metadata": {},
   "source": [
    "***Checking for equal variance***"
   ]
  },
  {
   "cell_type": "code",
   "execution_count": 146,
   "id": "2cca70d7",
   "metadata": {},
   "outputs": [
    {
     "data": {
      "text/plain": [
       "8.8442619705041"
      ]
     },
     "execution_count": 146,
     "metadata": {},
     "output_type": "execute_result"
    }
   ],
   "source": [
    "np.var(female_survival)"
   ]
  },
  {
   "cell_type": "code",
   "execution_count": 147,
   "id": "e278e9f0",
   "metadata": {},
   "outputs": [
    {
     "data": {
      "text/plain": [
       "9.77359841932939"
      ]
     },
     "execution_count": 147,
     "metadata": {},
     "output_type": "execute_result"
    }
   ],
   "source": [
    "np.var(male_survival)"
   ]
  },
  {
   "cell_type": "code",
   "execution_count": 148,
   "id": "e17212c3",
   "metadata": {},
   "outputs": [
    {
     "data": {
      "text/plain": [
       "1.105077897050614"
      ]
     },
     "execution_count": 148,
     "metadata": {},
     "output_type": "execute_result"
    }
   ],
   "source": [
    "np.var(male_survival) / np.var(female_survival)"
   ]
  },
  {
   "cell_type": "markdown",
   "id": "1d2245fc",
   "metadata": {},
   "source": [
    "Since the result is 1.1 < 4 --> it is OK"
   ]
  },
  {
   "cell_type": "code",
   "execution_count": 149,
   "id": "e7ce4f20",
   "metadata": {},
   "outputs": [],
   "source": [
    "test_results_1 = pingouin.ttest(x=female_survival, \n",
    "                              y=male_survival,\n",
    "                              paired = False, \n",
    "                              alternative=\"greater\")"
   ]
  },
  {
   "cell_type": "code",
   "execution_count": 150,
   "id": "67b00d8d",
   "metadata": {},
   "outputs": [
    {
     "data": {
      "text/html": [
       "<div>\n",
       "<style scoped>\n",
       "    .dataframe tbody tr th:only-of-type {\n",
       "        vertical-align: middle;\n",
       "    }\n",
       "\n",
       "    .dataframe tbody tr th {\n",
       "        vertical-align: top;\n",
       "    }\n",
       "\n",
       "    .dataframe thead th {\n",
       "        text-align: right;\n",
       "    }\n",
       "</style>\n",
       "<table border=\"1\" class=\"dataframe\">\n",
       "  <thead>\n",
       "    <tr style=\"text-align: right;\">\n",
       "      <th></th>\n",
       "      <th>T</th>\n",
       "      <th>dof</th>\n",
       "      <th>alternative</th>\n",
       "      <th>p-val</th>\n",
       "      <th>CI95%</th>\n",
       "      <th>cohen-d</th>\n",
       "      <th>BF10</th>\n",
       "      <th>power</th>\n",
       "    </tr>\n",
       "  </thead>\n",
       "  <tbody>\n",
       "    <tr>\n",
       "      <th>T-test</th>\n",
       "      <td>2.084785</td>\n",
       "      <td>159.269595</td>\n",
       "      <td>greater</td>\n",
       "      <td>0.019342</td>\n",
       "      <td>[0.19, inf]</td>\n",
       "      <td>0.302812</td>\n",
       "      <td>2.347</td>\n",
       "      <td>0.676583</td>\n",
       "    </tr>\n",
       "  </tbody>\n",
       "</table>\n",
       "</div>"
      ],
      "text/plain": [
       "               T         dof alternative     p-val        CI95%   cohen-d   \n",
       "T-test  2.084785  159.269595     greater  0.019342  [0.19, inf]  0.302812  \\\n",
       "\n",
       "         BF10     power  \n",
       "T-test  2.347  0.676583  "
      ]
     },
     "execution_count": 150,
     "metadata": {},
     "output_type": "execute_result"
    }
   ],
   "source": [
    "test_results_1"
   ]
  },
  {
   "cell_type": "code",
   "execution_count": 151,
   "id": "cf8fb9b6",
   "metadata": {},
   "outputs": [
    {
     "name": "stdout",
     "output_type": "stream",
     "text": [
      "t_statistic: 2.1100583927131784\n",
      "\n",
      "p_value: 0.03607813051489969\n"
     ]
    }
   ],
   "source": [
    "stats.ttest_ind(female_survival,male_survival,equal_var=True)\n",
    "\n",
    "t_statistic_1, p_value_1 =stats.ttest_ind(female_survival, male_survival, equal_var=True)\n",
    "print('t_statistic:', t_statistic_1)\n",
    "print()\n",
    "print('p_value:', p_value_1)"
   ]
  },
  {
   "cell_type": "markdown",
   "id": "b8b3f564",
   "metadata": {},
   "source": [
    "***Since the both p-value is below 0.05 --> H0 to be rejected, meaning that the alternative statement is approved, so yes, females lives longer after the surgery than men. "
   ]
  },
  {
   "cell_type": "code",
   "execution_count": null,
   "id": "ed80bb20",
   "metadata": {},
   "outputs": [],
   "source": []
  },
  {
   "cell_type": "markdown",
   "id": "282ff153",
   "metadata": {},
   "source": [
    "Are males having significantly thicker skin than females? -->Two sampled t-test\n",
    "\n",
    "        H0 = No difference between thickness of males and females. \n",
    "\n",
    "        H1 = Males have thicker skin than women. "
   ]
  },
  {
   "cell_type": "markdown",
   "id": "feba12f8",
   "metadata": {},
   "source": [
    "Assumption: Normality, outliers checked previusly, variance to be checked:"
   ]
  },
  {
   "cell_type": "code",
   "execution_count": 159,
   "id": "a685ad3f",
   "metadata": {},
   "outputs": [],
   "source": [
    "female_thick = df1[df1['sex'] == 0]['thickness']"
   ]
  },
  {
   "cell_type": "code",
   "execution_count": 160,
   "id": "f6d0a4e3",
   "metadata": {},
   "outputs": [],
   "source": [
    "male_thick = df1[df1['sex'] == 1]['thickness']"
   ]
  },
  {
   "cell_type": "code",
   "execution_count": 161,
   "id": "2ef85ed3",
   "metadata": {},
   "outputs": [
    {
     "data": {
      "text/plain": [
       "7.527689625850339"
      ]
     },
     "execution_count": 161,
     "metadata": {},
     "output_type": "execute_result"
    }
   ],
   "source": [
    "np.var(female_thick)"
   ]
  },
  {
   "cell_type": "code",
   "execution_count": 162,
   "id": "eb44512b",
   "metadata": {},
   "outputs": [
    {
     "data": {
      "text/plain": [
       "9.83253414516904"
      ]
     },
     "execution_count": 162,
     "metadata": {},
     "output_type": "execute_result"
    }
   ],
   "source": [
    "np.var(male_thick)"
   ]
  },
  {
   "cell_type": "code",
   "execution_count": 163,
   "id": "29bc7696",
   "metadata": {},
   "outputs": [
    {
     "data": {
      "text/plain": [
       "1.3061821931929536"
      ]
     },
     "execution_count": 163,
     "metadata": {},
     "output_type": "execute_result"
    }
   ],
   "source": [
    "np.var(male_thick) / np.var(female_thick)"
   ]
  },
  {
   "cell_type": "code",
   "execution_count": 164,
   "id": "108dd4e5",
   "metadata": {},
   "outputs": [
    {
     "data": {
      "text/plain": [
       "1.3061821931929536"
      ]
     },
     "execution_count": 164,
     "metadata": {},
     "output_type": "execute_result"
    }
   ],
   "source": [
    "np.var(male_thick) / np.var(female_thick)"
   ]
  },
  {
   "cell_type": "markdown",
   "id": "a834fcee",
   "metadata": {},
   "source": [
    "1.2 > below 4 --> OK"
   ]
  },
  {
   "cell_type": "code",
   "execution_count": 165,
   "id": "588236dc",
   "metadata": {},
   "outputs": [],
   "source": [
    "test_results_2 = pingouin.ttest(x=male_thick, \n",
    "                              y=female_thick,\n",
    "                              paired = False, \n",
    "                              alternative=\"greater\")"
   ]
  },
  {
   "cell_type": "code",
   "execution_count": 166,
   "id": "83f1fc43",
   "metadata": {},
   "outputs": [
    {
     "data": {
      "text/html": [
       "<div>\n",
       "<style scoped>\n",
       "    .dataframe tbody tr th:only-of-type {\n",
       "        vertical-align: middle;\n",
       "    }\n",
       "\n",
       "    .dataframe tbody tr th {\n",
       "        vertical-align: top;\n",
       "    }\n",
       "\n",
       "    .dataframe thead th {\n",
       "        text-align: right;\n",
       "    }\n",
       "</style>\n",
       "<table border=\"1\" class=\"dataframe\">\n",
       "  <thead>\n",
       "    <tr style=\"text-align: right;\">\n",
       "      <th></th>\n",
       "      <th>T</th>\n",
       "      <th>dof</th>\n",
       "      <th>alternative</th>\n",
       "      <th>p-val</th>\n",
       "      <th>CI95%</th>\n",
       "      <th>cohen-d</th>\n",
       "      <th>BF10</th>\n",
       "      <th>power</th>\n",
       "    </tr>\n",
       "  </thead>\n",
       "  <tbody>\n",
       "    <tr>\n",
       "      <th>T-test</th>\n",
       "      <td>2.605902</td>\n",
       "      <td>149.094279</td>\n",
       "      <td>greater</td>\n",
       "      <td>0.005046</td>\n",
       "      <td>[0.41, inf]</td>\n",
       "      <td>0.3858</td>\n",
       "      <td>7.21</td>\n",
       "      <td>0.84955</td>\n",
       "    </tr>\n",
       "  </tbody>\n",
       "</table>\n",
       "</div>"
      ],
      "text/plain": [
       "               T         dof alternative     p-val        CI95%  cohen-d   \n",
       "T-test  2.605902  149.094279     greater  0.005046  [0.41, inf]   0.3858  \\\n",
       "\n",
       "        BF10    power  \n",
       "T-test  7.21  0.84955  "
      ]
     },
     "execution_count": 166,
     "metadata": {},
     "output_type": "execute_result"
    }
   ],
   "source": [
    "test_results_2"
   ]
  },
  {
   "cell_type": "code",
   "execution_count": 167,
   "id": "047dff0c",
   "metadata": {},
   "outputs": [
    {
     "name": "stdout",
     "output_type": "stream",
     "text": [
      "t_statistic: -2.6883360715379263\n",
      "\n",
      "p_value: 0.007777274618778756\n"
     ]
    }
   ],
   "source": [
    "stats.ttest_ind(female_thick, male_thick,equal_var=True)\n",
    "\n",
    "t_statistic_2, p_value_2 =stats.ttest_ind(female_thick, male_thick, equal_var=True)\n",
    "print('t_statistic:',t_statistic_2)\n",
    "print()\n",
    "print('p_value:',p_value_2)"
   ]
  },
  {
   "cell_type": "markdown",
   "id": "c3eb4ae1",
   "metadata": {},
   "source": [
    "*** Both P-value below 0.05 --> Null Hypothesis to be rejected --> Males have thicker skin than women."
   ]
  },
  {
   "cell_type": "code",
   "execution_count": null,
   "id": "2c4f8a85",
   "metadata": {},
   "outputs": [],
   "source": []
  },
  {
   "cell_type": "markdown",
   "id": "dfb6ddbc",
   "metadata": {},
   "source": [
    "Is there significant difference between the average age of males and females? -->Two-sampled t-test\n",
    "\n",
    "        H0 = No difference between the average age of males and females\n",
    "\n",
    "        H1 = Males have higher average ages then women."
   ]
  },
  {
   "cell_type": "markdown",
   "id": "e10a3ee9",
   "metadata": {},
   "source": [
    "Assumption: Normality, outliers checked previusly, variance to be checked:"
   ]
  },
  {
   "cell_type": "code",
   "execution_count": 169,
   "id": "15a41fce",
   "metadata": {},
   "outputs": [],
   "source": [
    "female_age = df1[df1['sex'] == 0]['age']"
   ]
  },
  {
   "cell_type": "code",
   "execution_count": 170,
   "id": "15ec82f2",
   "metadata": {},
   "outputs": [],
   "source": [
    "male_age = df1[df1['sex'] == 1]['age']"
   ]
  },
  {
   "cell_type": "code",
   "execution_count": 171,
   "id": "00229584",
   "metadata": {},
   "outputs": [
    {
     "data": {
      "text/plain": [
       "256.0078735197783"
      ]
     },
     "execution_count": 171,
     "metadata": {},
     "output_type": "execute_result"
    }
   ],
   "source": [
    "np.var(female_age)"
   ]
  },
  {
   "cell_type": "code",
   "execution_count": 172,
   "id": "ed35ce25",
   "metadata": {},
   "outputs": [
    {
     "data": {
      "text/plain": [
       "306.0656946002244"
      ]
     },
     "execution_count": 172,
     "metadata": {},
     "output_type": "execute_result"
    }
   ],
   "source": [
    "np.var(male_age)"
   ]
  },
  {
   "cell_type": "code",
   "execution_count": 173,
   "id": "574217c7",
   "metadata": {},
   "outputs": [
    {
     "data": {
      "text/plain": [
       "1.1955323498149317"
      ]
     },
     "execution_count": 173,
     "metadata": {},
     "output_type": "execute_result"
    }
   ],
   "source": [
    "np.var(male_age) / np.var(female_age)"
   ]
  },
  {
   "cell_type": "code",
   "execution_count": 174,
   "id": "51aa7544",
   "metadata": {},
   "outputs": [],
   "source": [
    "test_results_3 = pingouin.ttest(x=male_age, \n",
    "                              y=female_age,\n",
    "                              paired = False, \n",
    "                              alternative=\"greater\")"
   ]
  },
  {
   "cell_type": "code",
   "execution_count": 175,
   "id": "860e67d6",
   "metadata": {},
   "outputs": [
    {
     "data": {
      "text/html": [
       "<div>\n",
       "<style scoped>\n",
       "    .dataframe tbody tr th:only-of-type {\n",
       "        vertical-align: middle;\n",
       "    }\n",
       "\n",
       "    .dataframe tbody tr th {\n",
       "        vertical-align: top;\n",
       "    }\n",
       "\n",
       "    .dataframe thead th {\n",
       "        text-align: right;\n",
       "    }\n",
       "</style>\n",
       "<table border=\"1\" class=\"dataframe\">\n",
       "  <thead>\n",
       "    <tr style=\"text-align: right;\">\n",
       "      <th></th>\n",
       "      <th>T</th>\n",
       "      <th>dof</th>\n",
       "      <th>alternative</th>\n",
       "      <th>p-val</th>\n",
       "      <th>CI95%</th>\n",
       "      <th>cohen-d</th>\n",
       "      <th>BF10</th>\n",
       "      <th>power</th>\n",
       "    </tr>\n",
       "  </thead>\n",
       "  <tbody>\n",
       "    <tr>\n",
       "      <th>T-test</th>\n",
       "      <td>0.955592</td>\n",
       "      <td>154.421664</td>\n",
       "      <td>greater</td>\n",
       "      <td>0.170386</td>\n",
       "      <td>[-1.71, inf]</td>\n",
       "      <td>0.140056</td>\n",
       "      <td>0.478</td>\n",
       "      <td>0.250739</td>\n",
       "    </tr>\n",
       "  </tbody>\n",
       "</table>\n",
       "</div>"
      ],
      "text/plain": [
       "               T         dof alternative     p-val         CI95%   cohen-d   \n",
       "T-test  0.955592  154.421664     greater  0.170386  [-1.71, inf]  0.140056  \\\n",
       "\n",
       "         BF10     power  \n",
       "T-test  0.478  0.250739  "
      ]
     },
     "execution_count": 175,
     "metadata": {},
     "output_type": "execute_result"
    }
   ],
   "source": [
    "test_results_3"
   ]
  },
  {
   "cell_type": "code",
   "execution_count": 176,
   "id": "cc2ae85b",
   "metadata": {},
   "outputs": [
    {
     "name": "stdout",
     "output_type": "stream",
     "text": [
      "t_statistic: -0.975939752584375\n",
      "\n",
      "p_value: 0.3302558722081427\n"
     ]
    }
   ],
   "source": [
    "stats.ttest_ind(female_age, male_age,equal_var=True)\n",
    "\n",
    "t_statistic_3, p_value_3 =stats.ttest_ind(female_age, male_age,equal_var=True)\n",
    "print('t_statistic:',t_statistic_3)\n",
    "print()\n",
    "print('p_value:',p_value_3)"
   ]
  },
  {
   "cell_type": "markdown",
   "id": "ce90ff88",
   "metadata": {},
   "source": [
    "P-value above 0.05 --> fail to reject the H0, therefore will rejecting the statement saying man have higher average age than women. "
   ]
  },
  {
   "cell_type": "code",
   "execution_count": null,
   "id": "8b6d0496",
   "metadata": {},
   "outputs": [],
   "source": []
  },
  {
   "cell_type": "markdown",
   "id": "3daae950",
   "metadata": {},
   "source": [
    "## Regression analysis"
   ]
  },
  {
   "cell_type": "markdown",
   "id": "796ea84e",
   "metadata": {},
   "source": [
    "Let's check some statistics to answer these 2 questions:\n",
    "\n",
    "    How does a unit change in age affects time in this case?\n",
    "\n",
    "    How does a unit change in thickness affects time in this case?"
   ]
  },
  {
   "cell_type": "code",
   "execution_count": 177,
   "id": "028eaec9",
   "metadata": {},
   "outputs": [],
   "source": [
    "from statsmodels.formula.api import ols"
   ]
  },
  {
   "cell_type": "code",
   "execution_count": 178,
   "id": "5a4a9790",
   "metadata": {},
   "outputs": [],
   "source": [
    "import statsmodels.api as sm"
   ]
  },
  {
   "cell_type": "code",
   "execution_count": 179,
   "id": "7e1551f6",
   "metadata": {},
   "outputs": [],
   "source": [
    "from sklearn.model_selection import train_test_split"
   ]
  },
  {
   "cell_type": "code",
   "execution_count": 180,
   "id": "a3c27e1d",
   "metadata": {},
   "outputs": [],
   "source": [
    "df2 = df1.copy()"
   ]
  },
  {
   "cell_type": "markdown",
   "id": "c7a5cf21",
   "metadata": {},
   "source": [
    "General check for asssumptions such as normality, linearity, Homoscedasticity"
   ]
  },
  {
   "cell_type": "code",
   "execution_count": 181,
   "id": "8b036606",
   "metadata": {},
   "outputs": [
    {
     "data": {
      "text/plain": [
       "-0.3001769466939697"
      ]
     },
     "execution_count": 181,
     "metadata": {},
     "output_type": "execute_result"
    }
   ],
   "source": [
    "df2['age'].skew()"
   ]
  },
  {
   "cell_type": "code",
   "execution_count": 182,
   "id": "dbe82c74",
   "metadata": {},
   "outputs": [
    {
     "data": {
      "text/plain": [
       "<matplotlib.collections.PathCollection at 0x238da4f44d0>"
      ]
     },
     "execution_count": 182,
     "metadata": {},
     "output_type": "execute_result"
    },
    {
     "data": {
      "image/png": "[encoded data removed]",
      "text/plain": [
       "<Figure size 400x300 with 1 Axes>"
      ]
     },
     "metadata": {},
     "output_type": "display_data"
    }
   ],
   "source": [
    "plt.rcParams[\"figure.figsize\"] = (4,3)\n",
    "plt.scatter(df['age'], df['time'], c='mediumseagreen')"
   ]
  },
  {
   "cell_type": "code",
   "execution_count": 183,
   "id": "39a87e91",
   "metadata": {},
   "outputs": [
    {
     "data": {
      "text/plain": [
       "0.33264739725725595"
      ]
     },
     "execution_count": 183,
     "metadata": {},
     "output_type": "execute_result"
    }
   ],
   "source": [
    "df2['time'].skew()"
   ]
  },
  {
   "cell_type": "code",
   "execution_count": 184,
   "id": "e3de7477",
   "metadata": {},
   "outputs": [
    {
     "data": {
      "text/plain": [
       "2.181544274078034"
      ]
     },
     "execution_count": 184,
     "metadata": {},
     "output_type": "execute_result"
    }
   ],
   "source": [
    "df2['thickness'].skew()"
   ]
  },
  {
   "cell_type": "code",
   "execution_count": 185,
   "id": "f2bede8e",
   "metadata": {},
   "outputs": [
    {
     "data": {
      "text/plain": [
       "<matplotlib.collections.PathCollection at 0x238da5c0890>"
      ]
     },
     "execution_count": 185,
     "metadata": {},
     "output_type": "execute_result"
    },
    {
     "data": {
      "image/png": "[encoded data removed]",
      "text/plain": [
       "<Figure size 400x300 with 1 Axes>"
      ]
     },
     "metadata": {},
     "output_type": "display_data"
    }
   ],
   "source": [
    "plt.rcParams[\"figure.figsize\"] = (4,3)\n",
    "plt.scatter(df['thickness'], df['time'], c='mediumseagreen')"
   ]
  },
  {
   "cell_type": "markdown",
   "id": "0ec2a545",
   "metadata": {},
   "source": [
    "Age and time relationship"
   ]
  },
  {
   "cell_type": "code",
   "execution_count": 186,
   "id": "782716c8",
   "metadata": {},
   "outputs": [],
   "source": [
    "X = df2[['age']]\n",
    "y = df2['time']\n",
    "\n",
    "X_train,X_test,y_train,y_test = train_test_split(X,y,random_state=42)\n",
    "\n",
    "X_train['time'] = y_train\n",
    "\n",
    "sim_reg_a = ols('time ~ age', data = X_train).fit()\n",
    "\n",
    "pred_sim_reg_a = sim_reg_a.predict(X_test)\n"
   ]
  },
  {
   "cell_type": "code",
   "execution_count": 187,
   "id": "a2884407",
   "metadata": {},
   "outputs": [
    {
     "data": {
      "text/html": [
       "<table class=\"simpletable\">\n",
       "<caption>OLS Regression Results</caption>\n",
       "<tr>\n",
       "  <th>Dep. Variable:</th>          <td>time</td>       <th>  R-squared:         </th> <td>   0.079</td>\n",
       "</tr>\n",
       "<tr>\n",
       "  <th>Model:</th>                   <td>OLS</td>       <th>  Adj. R-squared:    </th> <td>   0.073</td>\n",
       "</tr>\n",
       "<tr>\n",
       "  <th>Method:</th>             <td>Least Squares</td>  <th>  F-statistic:       </th> <td>   12.92</td>\n",
       "</tr>\n",
       "<tr>\n",
       "  <th>Date:</th>             <td>Sun, 11 Feb 2024</td> <th>  Prob (F-statistic):</th> <td>0.000439</td>\n",
       "</tr>\n",
       "<tr>\n",
       "  <th>Time:</th>                 <td>20:54:35</td>     <th>  Log-Likelihood:    </th> <td> -1288.6</td>\n",
       "</tr>\n",
       "<tr>\n",
       "  <th>No. Observations:</th>      <td>   153</td>      <th>  AIC:               </th> <td>   2581.</td>\n",
       "</tr>\n",
       "<tr>\n",
       "  <th>Df Residuals:</th>          <td>   151</td>      <th>  BIC:               </th> <td>   2587.</td>\n",
       "</tr>\n",
       "<tr>\n",
       "  <th>Df Model:</th>              <td>     1</td>      <th>                     </th>     <td> </td>   \n",
       "</tr>\n",
       "<tr>\n",
       "  <th>Covariance Type:</th>      <td>nonrobust</td>    <th>                     </th>     <td> </td>   \n",
       "</tr>\n",
       "</table>\n",
       "<table class=\"simpletable\">\n",
       "<tr>\n",
       "      <td></td>         <th>coef</th>     <th>std err</th>      <th>t</th>      <th>P>|t|</th>  <th>[0.025</th>    <th>0.975]</th>  \n",
       "</tr>\n",
       "<tr>\n",
       "  <th>Intercept</th> <td> 3162.7498</td> <td>  295.273</td> <td>   10.711</td> <td> 0.000</td> <td> 2579.349</td> <td> 3746.151</td>\n",
       "</tr>\n",
       "<tr>\n",
       "  <th>age</th>       <td>  -19.1328</td> <td>    5.323</td> <td>   -3.595</td> <td> 0.000</td> <td>  -29.649</td> <td>   -8.616</td>\n",
       "</tr>\n",
       "</table>\n",
       "<table class=\"simpletable\">\n",
       "<tr>\n",
       "  <th>Omnibus:</th>       <td> 0.275</td> <th>  Durbin-Watson:     </th> <td>   2.040</td>\n",
       "</tr>\n",
       "<tr>\n",
       "  <th>Prob(Omnibus):</th> <td> 0.871</td> <th>  Jarque-Bera (JB):  </th> <td>   0.378</td>\n",
       "</tr>\n",
       "<tr>\n",
       "  <th>Skew:</th>          <td> 0.094</td> <th>  Prob(JB):          </th> <td>   0.828</td>\n",
       "</tr>\n",
       "<tr>\n",
       "  <th>Kurtosis:</th>      <td> 2.846</td> <th>  Cond. No.          </th> <td>    183.</td>\n",
       "</tr>\n",
       "</table><br/><br/>Notes:<br/>[1] Standard Errors assume that the covariance matrix of the errors is correctly specified."
      ],
      "text/latex": [
       "\\begin{center}\n",
       "\\begin{tabular}{lclc}\n",
       "\\toprule\n",
       "\\textbf{Dep. Variable:}    &       time       & \\textbf{  R-squared:         } &     0.079   \\\\\n",
       "\\textbf{Model:}            &       OLS        & \\textbf{  Adj. R-squared:    } &     0.073   \\\\\n",
       "\\textbf{Method:}           &  Least Squares   & \\textbf{  F-statistic:       } &     12.92   \\\\\n",
       "\\textbf{Date:}             & Sun, 11 Feb 2024 & \\textbf{  Prob (F-statistic):} &  0.000439   \\\\\n",
       "\\textbf{Time:}             &     20:54:35     & \\textbf{  Log-Likelihood:    } &   -1288.6   \\\\\n",
       "\\textbf{No. Observations:} &         153      & \\textbf{  AIC:               } &     2581.   \\\\\n",
       "\\textbf{Df Residuals:}     &         151      & \\textbf{  BIC:               } &     2587.   \\\\\n",
       "\\textbf{Df Model:}         &           1      & \\textbf{                     } &             \\\\\n",
       "\\textbf{Covariance Type:}  &    nonrobust     & \\textbf{                     } &             \\\\\n",
       "\\bottomrule\n",
       "\\end{tabular}\n",
       "\\begin{tabular}{lcccccc}\n",
       "                   & \\textbf{coef} & \\textbf{std err} & \\textbf{t} & \\textbf{P$> |$t$|$} & \\textbf{[0.025} & \\textbf{0.975]}  \\\\\n",
       "\\midrule\n",
       "\\textbf{Intercept} &    3162.7498  &      295.273     &    10.711  &         0.000        &     2579.349    &     3746.151     \\\\\n",
       "\\textbf{age}       &     -19.1328  &        5.323     &    -3.595  &         0.000        &      -29.649    &       -8.616     \\\\\n",
       "\\bottomrule\n",
       "\\end{tabular}\n",
       "\\begin{tabular}{lclc}\n",
       "\\textbf{Omnibus:}       &  0.275 & \\textbf{  Durbin-Watson:     } &    2.040  \\\\\n",
       "\\textbf{Prob(Omnibus):} &  0.871 & \\textbf{  Jarque-Bera (JB):  } &    0.378  \\\\\n",
       "\\textbf{Skew:}          &  0.094 & \\textbf{  Prob(JB):          } &    0.828  \\\\\n",
       "\\textbf{Kurtosis:}      &  2.846 & \\textbf{  Cond. No.          } &     183.  \\\\\n",
       "\\bottomrule\n",
       "\\end{tabular}\n",
       "%\\caption{OLS Regression Results}\n",
       "\\end{center}\n",
       "\n",
       "Notes: \\newline\n",
       " [1] Standard Errors assume that the covariance matrix of the errors is correctly specified."
      ],
      "text/plain": [
       "<class 'statsmodels.iolib.summary.Summary'>\n",
       "\"\"\"\n",
       "                            OLS Regression Results                            \n",
       "==============================================================================\n",
       "Dep. Variable:                   time   R-squared:                       0.079\n",
       "Model:                            OLS   Adj. R-squared:                  0.073\n",
       "Method:                 Least Squares   F-statistic:                     12.92\n",
       "Date:                Sun, 11 Feb 2024   Prob (F-statistic):           0.000439\n",
       "Time:                        20:54:35   Log-Likelihood:                -1288.6\n",
       "No. Observations:                 153   AIC:                             2581.\n",
       "Df Residuals:                     151   BIC:                             2587.\n",
       "Df Model:                           1                                         \n",
       "Covariance Type:            nonrobust                                         \n",
       "==============================================================================\n",
       "                 coef    std err          t      P>|t|      [0.025      0.975]\n",
       "------------------------------------------------------------------------------\n",
       "Intercept   3162.7498    295.273     10.711      0.000    2579.349    3746.151\n",
       "age          -19.1328      5.323     -3.595      0.000     -29.649      -8.616\n",
       "==============================================================================\n",
       "Omnibus:                        0.275   Durbin-Watson:                   2.040\n",
       "Prob(Omnibus):                  0.871   Jarque-Bera (JB):                0.378\n",
       "Skew:                           0.094   Prob(JB):                        0.828\n",
       "Kurtosis:                       2.846   Cond. No.                         183.\n",
       "==============================================================================\n",
       "\n",
       "Notes:\n",
       "[1] Standard Errors assume that the covariance matrix of the errors is correctly specified.\n",
       "\"\"\""
      ]
     },
     "execution_count": 187,
     "metadata": {},
     "output_type": "execute_result"
    }
   ],
   "source": [
    "sim_reg_a.summary()"
   ]
  },
  {
   "cell_type": "markdown",
   "id": "4f311935",
   "metadata": {},
   "source": [
    "##### Observation: From the output of regresssion above it can be saying that there is a week inverse relationship between age and time. The incerease in age by 1 unit leads to a reduction in time by 19 days.  The r2 indicates that the model explains 7.9 % of the variation in time variable."
   ]
  },
  {
   "cell_type": "markdown",
   "id": "af641c07",
   "metadata": {},
   "source": [
    "Thickness and time relationship"
   ]
  },
  {
   "cell_type": "code",
   "execution_count": 188,
   "id": "2a97d98e",
   "metadata": {},
   "outputs": [],
   "source": [
    "X = df2[['thickness']]\n",
    "y = df2['time']\n",
    "\n",
    "X_train,X_test,y_train,y_test = train_test_split(X,y,random_state=42)\n",
    "\n",
    "X_train['time'] = y_train\n",
    "\n",
    "sim_reg_th = ols('time ~ thickness', data = X_train).fit()\n",
    "\n",
    "pred_sim_reg_th = sim_reg_th.predict(X_test)"
   ]
  },
  {
   "cell_type": "code",
   "execution_count": 189,
   "id": "d4040e59",
   "metadata": {},
   "outputs": [
    {
     "data": {
      "text/html": [
       "<table class=\"simpletable\">\n",
       "<caption>OLS Regression Results</caption>\n",
       "<tr>\n",
       "  <th>Dep. Variable:</th>          <td>time</td>       <th>  R-squared:         </th> <td>   0.032</td>\n",
       "</tr>\n",
       "<tr>\n",
       "  <th>Model:</th>                   <td>OLS</td>       <th>  Adj. R-squared:    </th> <td>   0.026</td>\n",
       "</tr>\n",
       "<tr>\n",
       "  <th>Method:</th>             <td>Least Squares</td>  <th>  F-statistic:       </th> <td>   5.025</td>\n",
       "</tr>\n",
       "<tr>\n",
       "  <th>Date:</th>             <td>Sun, 11 Feb 2024</td> <th>  Prob (F-statistic):</th>  <td>0.0264</td> \n",
       "</tr>\n",
       "<tr>\n",
       "  <th>Time:</th>                 <td>20:54:38</td>     <th>  Log-Likelihood:    </th> <td> -1292.4</td>\n",
       "</tr>\n",
       "<tr>\n",
       "  <th>No. Observations:</th>      <td>   153</td>      <th>  AIC:               </th> <td>   2589.</td>\n",
       "</tr>\n",
       "<tr>\n",
       "  <th>Df Residuals:</th>          <td>   151</td>      <th>  BIC:               </th> <td>   2595.</td>\n",
       "</tr>\n",
       "<tr>\n",
       "  <th>Df Model:</th>              <td>     1</td>      <th>                     </th>     <td> </td>   \n",
       "</tr>\n",
       "<tr>\n",
       "  <th>Covariance Type:</th>      <td>nonrobust</td>    <th>                     </th>     <td> </td>   \n",
       "</tr>\n",
       "</table>\n",
       "<table class=\"simpletable\">\n",
       "<tr>\n",
       "      <td></td>         <th>coef</th>     <th>std err</th>      <th>t</th>      <th>P>|t|</th>  <th>[0.025</th>    <th>0.975]</th>  \n",
       "</tr>\n",
       "<tr>\n",
       "  <th>Intercept</th> <td> 2352.6121</td> <td>  128.380</td> <td>   18.325</td> <td> 0.000</td> <td> 2098.958</td> <td> 2606.266</td>\n",
       "</tr>\n",
       "<tr>\n",
       "  <th>thickness</th> <td>  -66.0149</td> <td>   29.449</td> <td>   -2.242</td> <td> 0.026</td> <td> -124.200</td> <td>   -7.830</td>\n",
       "</tr>\n",
       "</table>\n",
       "<table class=\"simpletable\">\n",
       "<tr>\n",
       "  <th>Omnibus:</th>       <td> 5.506</td> <th>  Durbin-Watson:     </th> <td>   2.033</td>\n",
       "</tr>\n",
       "<tr>\n",
       "  <th>Prob(Omnibus):</th> <td> 0.064</td> <th>  Jarque-Bera (JB):  </th> <td>   5.512</td>\n",
       "</tr>\n",
       "<tr>\n",
       "  <th>Skew:</th>          <td> 0.464</td> <th>  Prob(JB):          </th> <td>  0.0635</td>\n",
       "</tr>\n",
       "<tr>\n",
       "  <th>Kurtosis:</th>      <td> 2.939</td> <th>  Cond. No.          </th> <td>    6.26</td>\n",
       "</tr>\n",
       "</table><br/><br/>Notes:<br/>[1] Standard Errors assume that the covariance matrix of the errors is correctly specified."
      ],
      "text/latex": [
       "\\begin{center}\n",
       "\\begin{tabular}{lclc}\n",
       "\\toprule\n",
       "\\textbf{Dep. Variable:}    &       time       & \\textbf{  R-squared:         } &     0.032   \\\\\n",
       "\\textbf{Model:}            &       OLS        & \\textbf{  Adj. R-squared:    } &     0.026   \\\\\n",
       "\\textbf{Method:}           &  Least Squares   & \\textbf{  F-statistic:       } &     5.025   \\\\\n",
       "\\textbf{Date:}             & Sun, 11 Feb 2024 & \\textbf{  Prob (F-statistic):} &   0.0264    \\\\\n",
       "\\textbf{Time:}             &     20:54:38     & \\textbf{  Log-Likelihood:    } &   -1292.4   \\\\\n",
       "\\textbf{No. Observations:} &         153      & \\textbf{  AIC:               } &     2589.   \\\\\n",
       "\\textbf{Df Residuals:}     &         151      & \\textbf{  BIC:               } &     2595.   \\\\\n",
       "\\textbf{Df Model:}         &           1      & \\textbf{                     } &             \\\\\n",
       "\\textbf{Covariance Type:}  &    nonrobust     & \\textbf{                     } &             \\\\\n",
       "\\bottomrule\n",
       "\\end{tabular}\n",
       "\\begin{tabular}{lcccccc}\n",
       "                   & \\textbf{coef} & \\textbf{std err} & \\textbf{t} & \\textbf{P$> |$t$|$} & \\textbf{[0.025} & \\textbf{0.975]}  \\\\\n",
       "\\midrule\n",
       "\\textbf{Intercept} &    2352.6121  &      128.380     &    18.325  &         0.000        &     2098.958    &     2606.266     \\\\\n",
       "\\textbf{thickness} &     -66.0149  &       29.449     &    -2.242  &         0.026        &     -124.200    &       -7.830     \\\\\n",
       "\\bottomrule\n",
       "\\end{tabular}\n",
       "\\begin{tabular}{lclc}\n",
       "\\textbf{Omnibus:}       &  5.506 & \\textbf{  Durbin-Watson:     } &    2.033  \\\\\n",
       "\\textbf{Prob(Omnibus):} &  0.064 & \\textbf{  Jarque-Bera (JB):  } &    5.512  \\\\\n",
       "\\textbf{Skew:}          &  0.464 & \\textbf{  Prob(JB):          } &   0.0635  \\\\\n",
       "\\textbf{Kurtosis:}      &  2.939 & \\textbf{  Cond. No.          } &     6.26  \\\\\n",
       "\\bottomrule\n",
       "\\end{tabular}\n",
       "%\\caption{OLS Regression Results}\n",
       "\\end{center}\n",
       "\n",
       "Notes: \\newline\n",
       " [1] Standard Errors assume that the covariance matrix of the errors is correctly specified."
      ],
      "text/plain": [
       "<class 'statsmodels.iolib.summary.Summary'>\n",
       "\"\"\"\n",
       "                            OLS Regression Results                            \n",
       "==============================================================================\n",
       "Dep. Variable:                   time   R-squared:                       0.032\n",
       "Model:                            OLS   Adj. R-squared:                  0.026\n",
       "Method:                 Least Squares   F-statistic:                     5.025\n",
       "Date:                Sun, 11 Feb 2024   Prob (F-statistic):             0.0264\n",
       "Time:                        20:54:38   Log-Likelihood:                -1292.4\n",
       "No. Observations:                 153   AIC:                             2589.\n",
       "Df Residuals:                     151   BIC:                             2595.\n",
       "Df Model:                           1                                         \n",
       "Covariance Type:            nonrobust                                         \n",
       "==============================================================================\n",
       "                 coef    std err          t      P>|t|      [0.025      0.975]\n",
       "------------------------------------------------------------------------------\n",
       "Intercept   2352.6121    128.380     18.325      0.000    2098.958    2606.266\n",
       "thickness    -66.0149     29.449     -2.242      0.026    -124.200      -7.830\n",
       "==============================================================================\n",
       "Omnibus:                        5.506   Durbin-Watson:                   2.033\n",
       "Prob(Omnibus):                  0.064   Jarque-Bera (JB):                5.512\n",
       "Skew:                           0.464   Prob(JB):                       0.0635\n",
       "Kurtosis:                       2.939   Cond. No.                         6.26\n",
       "==============================================================================\n",
       "\n",
       "Notes:\n",
       "[1] Standard Errors assume that the covariance matrix of the errors is correctly specified.\n",
       "\"\"\""
      ]
     },
     "execution_count": 189,
     "metadata": {},
     "output_type": "execute_result"
    }
   ],
   "source": [
    "sim_reg_th.summary()"
   ]
  },
  {
   "cell_type": "markdown",
   "id": "67145d87",
   "metadata": {},
   "source": [
    "##### Observation: Observation: From the output of regresssion above it can be saying that there is a week inverse relationship between skin thickness and time. The incerease in thickness by 1 unit leads to a reduction in time by 66 days. The r2 indicates that the model explains 3.2 % of the variation in time variable."
   ]
  },
  {
   "cell_type": "markdown",
   "id": "07e314d4",
   "metadata": {},
   "source": [
    "Assumptions violated and no strong relationship between the independent and dependent variables."
   ]
  },
  {
   "cell_type": "code",
   "execution_count": null,
   "id": "5d3d4bd7",
   "metadata": {},
   "outputs": [],
   "source": []
  },
  {
   "cell_type": "code",
   "execution_count": null,
   "id": "829901a0",
   "metadata": {},
   "outputs": [],
   "source": []
  },
  {
   "cell_type": "markdown",
   "id": "35790f95",
   "metadata": {},
   "source": [
    "### Inisght & recommendation ###"
   ]
  },
  {
   "cell_type": "markdown",
   "id": "c14b7e48",
   "metadata": {},
   "source": [
    "Total cases: 205\n",
    "\n",
    "\tDied from melanoma: 7%\n",
    "\tAlive: 65%\n",
    "\tDied from sg else: 28%\n",
    "   \n",
    "----------------------------------------------------\n",
    "Female: 126 – 61%, probabilty_death_female: 22% --> women have slightly better chance for survival\n",
    "\n",
    "Male: 79 – 39% , probability_death_male: 36%\n",
    "        \n",
    "        \n",
    "Range of the time  after surgery:  10 days – 15 years (followup end time),\n",
    "    \n",
    "Range of thickness: 0,1 – 17,5 with average 2,9\n",
    "\n",
    "    Men usually has thicker tumour, the average thickness for men is 3.6 and for women 2.5\n",
    "    Generally we can say that who has less thick tumour they have less chance for ulcer.\n",
    "    \n",
    "Range of age: 4 – 95, with average: 52.\n",
    "        Most endangered ages: 45 – 70\n",
    "        \n",
    "Ulcer:\n",
    "        56% os the total did not have any ulcer\n",
    "        \n",
    "Those who died (41/57), 71% had ulcer, but ulcer has no significant direct correlation with surival since many of the alive ones had ulcer\n",
    "\n",
    "\n",
    "Status: \n",
    "\n",
    "        27% died from melanoma (57 out of 205)\n",
    "        \n",
    "    Those who die from melanome usually die in the first 3 years, especially between 2-3 years. The range is from half a year to 9 years, however the chances are gradually higher and higher for the survival every year.\n",
    "    \n",
    "    Definately there is a trend that the number and ratio of survivals were increasing during this period: in 1965-1967 the chances were equal\n",
    "    \n",
    "    There is only one person under 4 years - so its a good chance that these group will not die from melanoma related causes.\n"
   ]
  },
  {
   "cell_type": "markdown",
   "id": "7a886f4f",
   "metadata": {},
   "source": [
    "Further analysis needed for the points:\n",
    "\n",
    "    --> Men having thicker tumour \n",
    "    --> Women have slightly better chance for survival (regardless the thickness and ulcer)\n",
    "    --> Lifestyle, sunbathing habits researches of the patients\n",
    "    --> The most endangered age is from 45, but there are several cases of much younger patients, \n",
    "    the distribution of the age is almost normal distirbution which is quite worrying. "
   ]
  },
  {
   "cell_type": "code",
   "execution_count": null,
   "id": "e10b0e4c",
   "metadata": {},
   "outputs": [],
   "source": []
  }
 ],
 "metadata": {
  "kernelspec": {
   "display_name": "Python 3 (ipykernel)",
   "language": "python",
   "name": "python3"
  },
  "language_info": {
   "codemirror_mode": {
    "name": "ipython",
    "version": 3
   },
   "file_extension": ".py",
   "mimetype": "text/x-python",
   "name": "python",
   "nbconvert_exporter": "python",
   "pygments_lexer": "ipython3",
   "version": "3.11.5"
  }
 },
 "nbformat": 4,
 "nbformat_minor": 5
}
